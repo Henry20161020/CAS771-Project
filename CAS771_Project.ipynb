{
  "cells": [
    {
      "cell_type": "markdown",
      "metadata": {
        "id": "60MJYhvD6sxQ"
      },
      "source": [
        "# Data Load and Analysis"
      ]
    },
    {
      "cell_type": "code",
      "execution_count": null,
      "metadata": {
        "colab": {
          "base_uri": "https://localhost:8080/",
          "height": 73
        },
        "id": "zOkAIIdMlNul",
        "outputId": "4cb9bcf6-0d5c-4b78-e675-f336dfa680c0"
      },
      "outputs": [
        {
          "data": {
            "text/html": [
              "\n",
              "     <input type=\"file\" id=\"files-bd69ad03-eaf2-4a92-9747-c1ba16216fe8\" name=\"files[]\" multiple disabled\n",
              "        style=\"border:none\" />\n",
              "     <output id=\"result-bd69ad03-eaf2-4a92-9747-c1ba16216fe8\">\n",
              "      Upload widget is only available when the cell has been executed in the\n",
              "      current browser session. Please rerun this cell to enable.\n",
              "      </output>\n",
              "      <script>// Copyright 2017 Google LLC\n",
              "//\n",
              "// Licensed under the Apache License, Version 2.0 (the \"License\");\n",
              "// you may not use this file except in compliance with the License.\n",
              "// You may obtain a copy of the License at\n",
              "//\n",
              "//      http://www.apache.org/licenses/LICENSE-2.0\n",
              "//\n",
              "// Unless required by applicable law or agreed to in writing, software\n",
              "// distributed under the License is distributed on an \"AS IS\" BASIS,\n",
              "// WITHOUT WARRANTIES OR CONDITIONS OF ANY KIND, either express or implied.\n",
              "// See the License for the specific language governing permissions and\n",
              "// limitations under the License.\n",
              "\n",
              "/**\n",
              " * @fileoverview Helpers for google.colab Python module.\n",
              " */\n",
              "(function(scope) {\n",
              "function span(text, styleAttributes = {}) {\n",
              "  const element = document.createElement('span');\n",
              "  element.textContent = text;\n",
              "  for (const key of Object.keys(styleAttributes)) {\n",
              "    element.style[key] = styleAttributes[key];\n",
              "  }\n",
              "  return element;\n",
              "}\n",
              "\n",
              "// Max number of bytes which will be uploaded at a time.\n",
              "const MAX_PAYLOAD_SIZE = 100 * 1024;\n",
              "\n",
              "function _uploadFiles(inputId, outputId) {\n",
              "  const steps = uploadFilesStep(inputId, outputId);\n",
              "  const outputElement = document.getElementById(outputId);\n",
              "  // Cache steps on the outputElement to make it available for the next call\n",
              "  // to uploadFilesContinue from Python.\n",
              "  outputElement.steps = steps;\n",
              "\n",
              "  return _uploadFilesContinue(outputId);\n",
              "}\n",
              "\n",
              "// This is roughly an async generator (not supported in the browser yet),\n",
              "// where there are multiple asynchronous steps and the Python side is going\n",
              "// to poll for completion of each step.\n",
              "// This uses a Promise to block the python side on completion of each step,\n",
              "// then passes the result of the previous step as the input to the next step.\n",
              "function _uploadFilesContinue(outputId) {\n",
              "  const outputElement = document.getElementById(outputId);\n",
              "  const steps = outputElement.steps;\n",
              "\n",
              "  const next = steps.next(outputElement.lastPromiseValue);\n",
              "  return Promise.resolve(next.value.promise).then((value) => {\n",
              "    // Cache the last promise value to make it available to the next\n",
              "    // step of the generator.\n",
              "    outputElement.lastPromiseValue = value;\n",
              "    return next.value.response;\n",
              "  });\n",
              "}\n",
              "\n",
              "/**\n",
              " * Generator function which is called between each async step of the upload\n",
              " * process.\n",
              " * @param {string} inputId Element ID of the input file picker element.\n",
              " * @param {string} outputId Element ID of the output display.\n",
              " * @return {!Iterable<!Object>} Iterable of next steps.\n",
              " */\n",
              "function* uploadFilesStep(inputId, outputId) {\n",
              "  const inputElement = document.getElementById(inputId);\n",
              "  inputElement.disabled = false;\n",
              "\n",
              "  const outputElement = document.getElementById(outputId);\n",
              "  outputElement.innerHTML = '';\n",
              "\n",
              "  const pickedPromise = new Promise((resolve) => {\n",
              "    inputElement.addEventListener('change', (e) => {\n",
              "      resolve(e.target.files);\n",
              "    });\n",
              "  });\n",
              "\n",
              "  const cancel = document.createElement('button');\n",
              "  inputElement.parentElement.appendChild(cancel);\n",
              "  cancel.textContent = 'Cancel upload';\n",
              "  const cancelPromise = new Promise((resolve) => {\n",
              "    cancel.onclick = () => {\n",
              "      resolve(null);\n",
              "    };\n",
              "  });\n",
              "\n",
              "  // Wait for the user to pick the files.\n",
              "  const files = yield {\n",
              "    promise: Promise.race([pickedPromise, cancelPromise]),\n",
              "    response: {\n",
              "      action: 'starting',\n",
              "    }\n",
              "  };\n",
              "\n",
              "  cancel.remove();\n",
              "\n",
              "  // Disable the input element since further picks are not allowed.\n",
              "  inputElement.disabled = true;\n",
              "\n",
              "  if (!files) {\n",
              "    return {\n",
              "      response: {\n",
              "        action: 'complete',\n",
              "      }\n",
              "    };\n",
              "  }\n",
              "\n",
              "  for (const file of files) {\n",
              "    const li = document.createElement('li');\n",
              "    li.append(span(file.name, {fontWeight: 'bold'}));\n",
              "    li.append(span(\n",
              "        `(${file.type || 'n/a'}) - ${file.size} bytes, ` +\n",
              "        `last modified: ${\n",
              "            file.lastModifiedDate ? file.lastModifiedDate.toLocaleDateString() :\n",
              "                                    'n/a'} - `));\n",
              "    const percent = span('0% done');\n",
              "    li.appendChild(percent);\n",
              "\n",
              "    outputElement.appendChild(li);\n",
              "\n",
              "    const fileDataPromise = new Promise((resolve) => {\n",
              "      const reader = new FileReader();\n",
              "      reader.onload = (e) => {\n",
              "        resolve(e.target.result);\n",
              "      };\n",
              "      reader.readAsArrayBuffer(file);\n",
              "    });\n",
              "    // Wait for the data to be ready.\n",
              "    let fileData = yield {\n",
              "      promise: fileDataPromise,\n",
              "      response: {\n",
              "        action: 'continue',\n",
              "      }\n",
              "    };\n",
              "\n",
              "    // Use a chunked sending to avoid message size limits. See b/62115660.\n",
              "    let position = 0;\n",
              "    do {\n",
              "      const length = Math.min(fileData.byteLength - position, MAX_PAYLOAD_SIZE);\n",
              "      const chunk = new Uint8Array(fileData, position, length);\n",
              "      position += length;\n",
              "\n",
              "      const base64 = btoa(String.fromCharCode.apply(null, chunk));\n",
              "      yield {\n",
              "        response: {\n",
              "          action: 'append',\n",
              "          file: file.name,\n",
              "          data: base64,\n",
              "        },\n",
              "      };\n",
              "\n",
              "      let percentDone = fileData.byteLength === 0 ?\n",
              "          100 :\n",
              "          Math.round((position / fileData.byteLength) * 100);\n",
              "      percent.textContent = `${percentDone}% done`;\n",
              "\n",
              "    } while (position < fileData.byteLength);\n",
              "  }\n",
              "\n",
              "  // All done.\n",
              "  yield {\n",
              "    response: {\n",
              "      action: 'complete',\n",
              "    }\n",
              "  };\n",
              "}\n",
              "\n",
              "scope.google = scope.google || {};\n",
              "scope.google.colab = scope.google.colab || {};\n",
              "scope.google.colab._files = {\n",
              "  _uploadFiles,\n",
              "  _uploadFilesContinue,\n",
              "};\n",
              "})(self);\n",
              "</script> "
            ],
            "text/plain": [
              "<IPython.core.display.HTML object>"
            ]
          },
          "metadata": {},
          "output_type": "display_data"
        },
        {
          "name": "stdout",
          "output_type": "stream",
          "text": [
            "Saving 0.npy to 0.npy\n"
          ]
        }
      ],
      "source": [
        "import numpy as np\n",
        "#import pandas as pd\n",
        "from google.colab import files\n",
        "#import io\n",
        "\n",
        "uploaded = files.upload()\n",
        "#df2 = pd.read_csv(io.BytesIO(uploaded['0.npy']))\n"
      ]
    },
    {
      "cell_type": "code",
      "execution_count": null,
      "metadata": {
        "colab": {
          "base_uri": "https://localhost:8080/",
          "height": 1000
        },
        "id": "98tiXCNH5uBh",
        "outputId": "4a042ced-299d-41e4-bc63-616614ae448e"
      },
      "outputs": [
        {
          "name": "stderr",
          "output_type": "stream",
          "text": [
            "WARNING:matplotlib.image:Clipping input data to the valid range for imshow with RGB data ([0..1] for floats or [0..255] for integers).\n"
          ]
        },
        {
          "name": "stdout",
          "output_type": "stream",
          "text": [
            "(32, 32, 3) float32\n",
            "[[[  77.64606     -5.516805   -59.801414 ]\n",
            "  [  11.05239    -18.973162   -34.613407 ]\n",
            "  [ -14.20845     34.939457    14.924571 ]\n",
            "  ...\n",
            "  [  21.32907    -27.56393   -113.946106 ]\n",
            "  [ -24.734276   135.64088    107.65258  ]\n",
            "  [-127.39121     26.940384   -35.842617 ]]\n",
            "\n",
            " [[ -35.953167    -8.168556   -48.036922 ]\n",
            "  [  13.008783    69.57679     40.757088 ]\n",
            "  [  28.670277   -59.22413     42.890987 ]\n",
            "  ...\n",
            "  [ 102.171455   140.10638     95.62801  ]\n",
            "  [  31.30876   -139.3829      55.57028  ]\n",
            "  [ 291.6648     -32.63378     37.959614 ]]\n",
            "\n",
            " [[ -53.70923     -6.9121065    4.402201 ]\n",
            "  [ -62.303123    56.622387   -24.277514 ]\n",
            "  [  45.993507     7.319896     3.5501482]\n",
            "  ...\n",
            "  [-137.09021    184.60371   -137.01659  ]\n",
            "  [ 161.12093     57.953033    52.77509  ]\n",
            "  [  -1.1453142   31.95269     88.85726  ]]\n",
            "\n",
            " ...\n",
            "\n",
            " [[ -94.001274  -120.02329   -125.37043  ]\n",
            "  [ 111.54138    235.23163    153.33049  ]\n",
            "  [ -25.941196  -208.2818     132.95506  ]\n",
            "  ...\n",
            "  [ 108.647804   176.85353     56.68155  ]\n",
            "  [ -18.144642  -149.09023     26.724478 ]\n",
            "  [ 291.97293   -131.39253     64.53798  ]]\n",
            "\n",
            " [[-155.67467    181.06306    135.02614  ]\n",
            "  [-246.35196    201.19484   -237.07909  ]\n",
            "  [ 216.40453     86.98273    -30.9959   ]\n",
            "  ...\n",
            "  [-174.12332     98.914185  -177.37436  ]\n",
            "  [  88.162994    77.69919     34.751278 ]\n",
            "  [ -90.32547     -8.456374   100.87944  ]]\n",
            "\n",
            " [[  86.85606     -4.7786083  -48.03438  ]\n",
            "  [  87.68777    141.56653    -98.66518  ]\n",
            "  [-122.88146    201.47025    107.00013  ]\n",
            "  ...\n",
            "  [   9.945946    40.61804    -73.6031   ]\n",
            "  [-127.75065     45.919086    10.183643 ]\n",
            "  [  35.327145    10.561263   107.48122  ]]]\n",
            "559.62976 -288.66275\n"
          ]
        },
        {
          "data": {
            "image/png": "[encoded data removed]",
            "text/plain": [
              "<Figure size 432x288 with 1 Axes>"
            ]
          },
          "metadata": {},
          "output_type": "display_data"
        }
      ],
      "source": [
        "\n",
        "#print(image)\n",
        "import matplotlib.pyplot as plt\n",
        "import torch\n",
        "image = np.load('0.npy')\n",
        "print(image.shape, image.dtype)\n",
        "plt.imshow(image, cmap='binary')\n",
        "print(image)\n",
        "print(image.max(), image.min())\n",
        "\n",
        "#print(image.files)\n",
        "#print(img)\n",
        "def normalize8(I):\n",
        "    mn = I.min()\n",
        "    mx = I.max()\n",
        "\n",
        "    mx -= mn\n",
        "\n",
        "    I = ((I - mn)/mx) * 255\n",
        "    return I.astype(np.uint8)\n",
        "\n",
        "#plt.ion()\n",
        "#plt.figure()\n",
        "#plt.imshow(image[0].transpose((1,2,0)))"
      ]
    },
    {
      "cell_type": "markdown",
      "metadata": {
        "id": "dgI9xUPFWpAv"
      },
      "source": [
        "The pixel data ranges in  [-288.66275, 559.62976], so what's the standard range? Based on the document (https://matplotlib.org/3.2.1/api/_as_gen/matplotlib.pyplot.imshow.html), the range should be [0, 255].\n",
        "We can do an experiment: change the value of the first element (32 x 3) to 1 value. We expect that either the 1st row or 1st column would be in the same color. 0, 0, 0 is black and 255, 255, 255 is white. When the value is greater than 255, it is displayed as white. When the value is less than 0, it is displayed as black. \n",
        "\n",
        "More explanation of grayscale can be found here. https://en.wikipedia.org/wiki/Grayscale. A good hint is provided there that the bit number doesn't play an important role as we can always take the most significant bits to compute the gray scale. This means that scalar multiplication on the key matrix doesn't matter as long as we can normalize before displaying. Therefore the $W^{-1}$ we use can be ranging from 0 to 1. After the transformation, we just need to normalize it.\n",
        "\n",
        "It's still a question whether we need to turn RGB to grayscale.\n",
        "\n",
        "We find that R,G,B could be separated before analysis. We can simply assign other channels to 255\n",
        "\n"
      ]
    },
    {
      "cell_type": "code",
      "execution_count": null,
      "metadata": {
        "colab": {
          "base_uri": "https://localhost:8080/",
          "height": 488
        },
        "id": "tGHHUt5Xm3aH",
        "outputId": "fda02857-36d6-42a8-f17f-6dd51374a6cc"
      },
      "outputs": [
        {
          "name": "stderr",
          "output_type": "stream",
          "text": [
            "WARNING:matplotlib.image:Clipping input data to the valid range for imshow with RGB data ([0..1] for floats or [0..255] for integers).\n",
            "WARNING:matplotlib.image:Clipping input data to the valid range for imshow with RGB data ([0..1] for floats or [0..255] for integers).\n",
            "WARNING:matplotlib.image:Clipping input data to the valid range for imshow with RGB data ([0..1] for floats or [0..255] for integers).\n"
          ]
        },
        {
          "name": "stdout",
          "output_type": "stream",
          "text": [
            "[1, 2]\n",
            "559.62976 -279.18094\n",
            "[0, 2]\n",
            "343.51242 -253.30927\n",
            "[0, 1]\n",
            "255.0 -288.66275\n"
          ]
        },
        {
          "data": {
            "image/png": "[encoded data removed]",
            "text/plain": [
              "<Figure size 1440x1440 with 3 Axes>"
            ]
          },
          "metadata": {},
          "output_type": "display_data"
        }
      ],
      "source": [
        "def print_test(rgb):\n",
        "  test = image.copy()\n",
        "  range = [0, 1, 2]\n",
        "  range.remove(rgb)\n",
        "  print(range)\n",
        "  test[:,:,range] = 255\n",
        "  #plt.imshow(test, cmap='binary')\n",
        "  axs[rgb].imshow(test, cmap='binary')\n",
        "  print(test.max(), test.min())\n",
        "\n",
        "fig, axs = plt.subplots(1,3, figsize=(20,20))\n",
        "\n",
        "print_test(0)\n",
        "print_test(1)\n",
        "print_test(2)"
      ]
    },
    {
      "cell_type": "markdown",
      "metadata": {
        "id": "YI01Caxh4O0-"
      },
      "source": [
        "# Stage 1"
      ]
    },
    {
      "cell_type": "markdown",
      "metadata": {
        "id": "bFZrInX3db3e"
      },
      "source": [
        "## MNIST"
      ]
    },
    {
      "cell_type": "markdown",
      "metadata": {
        "id": "CmV_c8WnjDIk"
      },
      "source": [
        "To better understand the impact from encyption, we'd better download MNIST dataset and do some experiments.\n",
        "\n",
        "https://towardsdatascience.com/image-classification-in-10-minutes-with-mnist-dataset-54c35b77a38d\n",
        "https://www.datascienceweekly.org/tutorials/pytorch-mnist-load-mnist-dataset-from-pytorch-torchvision\n",
        "https://nextjournal.com/gkoehler/pytorch-mnist\n",
        "\n",
        "The source code of class MNIST\n",
        "https://github.com/pytorch/vision/blob/main/torchvision/datasets/mnist.py#L84"
      ]
    },
    {
      "cell_type": "code",
      "execution_count": null,
      "metadata": {
        "id": "nJvZd1EW1srj"
      },
      "outputs": [],
      "source": [
        "import torch\n",
        "import torchvision\n",
        "import torchvision.datasets as datasets\n",
        "#mnist_trainset = datasets.MNIST(root='./data', train=True, download=True, transform=None)\n",
        "#mnist_testset = datasets.MNIST(root='./data', train=False, download=True, transform=None)\n",
        "#print(len(mnist_trainset),len(mnist_testset))\n"
      ]
    },
    {
      "cell_type": "code",
      "execution_count": null,
      "metadata": {
        "colab": {
          "base_uri": "https://localhost:8080/"
        },
        "id": "9BPzTZG64Kb5",
        "outputId": "11f1cfc0-f253-4804-8aaa-4126efdb7a9e"
      },
      "outputs": [
        {
          "data": {
            "text/plain": [
              "<torch._C.Generator at 0x7fbf147d0b90>"
            ]
          },
          "execution_count": 2,
          "metadata": {},
          "output_type": "execute_result"
        }
      ],
      "source": [
        "n_epochs = 3\n",
        "batch_size_train = 64\n",
        "batch_size_test = 1000\n",
        "learning_rate = 0.01\n",
        "momentum = 0.5\n",
        "log_interval = 10\n",
        "\n",
        "random_seed = 1\n",
        "torch.backends.cudnn.enabled = False\n",
        "torch.manual_seed(random_seed)"
      ]
    },
    {
      "cell_type": "code",
      "execution_count": null,
      "metadata": {
        "colab": {
          "base_uri": "https://localhost:8080/",
          "height": 423,
          "referenced_widgets": [
            "cc4f40498862417da13f45f9f85b4f58",
            "37f2ca01ad074d43a0b69219a0a607fe",
            "ecbc74fef6b142e0ae581cb1b3907423",
            "f508d33806cf4cda97ab652e31521d3c",
            "c055248d38254ffc89d324fbd8163786",
            "1c3210895a7b419cbe1895a02570cad6",
            "5c3b61ff2c124889a8137e2144636948",
            "5e85dd5f0f0a43fd99f0e0e2081a70b0",
            "f7c3ee474ef54da292fb123c5352826a",
            "48cbe2f916cb40c287313f9b49da8c68",
            "f6cd661fef0a4377946b8a10431374b9",
            "3ff9a68c455541d0933889f679f2ae6d",
            "1d7d840b26b44c41bde8efd0f1fdd06b",
            "1e7a6f5b22fb4647a030f8d3c435907b",
            "647df1a62b5342ba850c1a85767514eb",
            "92a1c8a6bf8648fd9e89d542e3c72dc5",
            "e26f87619642437fa3e6d9d22210e0ba",
            "20f2b0e8b6bc4355a6f6ee8fb194c33d",
            "9986d201e55e4f3da6cfe0cacdce9217",
            "a0d9306e336343b5824f923afd367c92",
            "61dc23ac74b14b97b3ff67e5fd3a9089",
            "cb9eaf4da39a4c98a85ba9dd64c9864f",
            "3016b5fd130048d3bf6febc94bd297af",
            "311dd6a1111a42289a0da3d716dc5ee7",
            "3e1e33121aa543e6a9e2459ab1597b31",
            "62be9205c5044f1ab36b953804786f75",
            "6302b4bd43ed4e0e8306e205781c4ec4",
            "a88662e2ace842a0afb26f7ddf74fcb8",
            "b99fa8810fa04901828fb388be7cfde2",
            "1bd0fb1e0d3f4cf3af72dcd375b4b1f4",
            "a5023849ef1543e2849c5aa725234f3b",
            "47d45e9d640c4ccf94a4646e612c7b13",
            "f6cdb1053a5e48bd8b5205dfb2985f38",
            "7919c584d7fc44aaac1697607ad94422",
            "b861a665ee4545b3a1d5064c322b4d77",
            "1c4305709b4d43fba831f5be4f94916e",
            "5c65ae5fd54c4e679f5fc553f7241242",
            "53566454831a468a80b8a3f72ed7cc2d",
            "0c69d6348ad74810b3bbd1e8279bf908",
            "56d2785674b54726aa383a7777e29279",
            "54fe58a837a34f52b7be33ef8add6e1e",
            "fed9ca0849844876966b34fa35297035",
            "195501c7583f4bbeb8b2a83c5a25e4ee",
            "c1dee444d8234c20905bae75b5798be7"
          ]
        },
        "id": "fo8kyi6y4-oY",
        "outputId": "82332caf-a53e-496a-c827-4c686f813fe2"
      },
      "outputs": [
        {
          "name": "stdout",
          "output_type": "stream",
          "text": [
            "Downloading http://yann.lecun.com/exdb/mnist/train-images-idx3-ubyte.gz\n",
            "Downloading http://yann.lecun.com/exdb/mnist/train-images-idx3-ubyte.gz to /files/MNIST/raw/train-images-idx3-ubyte.gz\n"
          ]
        },
        {
          "data": {
            "application/vnd.jupyter.widget-view+json": {
              "model_id": "cc4f40498862417da13f45f9f85b4f58",
              "version_major": 2,
              "version_minor": 0
            },
            "text/plain": [
              "  0%|          | 0/9912422 [00:00<?, ?it/s]"
            ]
          },
          "metadata": {},
          "output_type": "display_data"
        },
        {
          "name": "stdout",
          "output_type": "stream",
          "text": [
            "Extracting /files/MNIST/raw/train-images-idx3-ubyte.gz to /files/MNIST/raw\n",
            "\n",
            "Downloading http://yann.lecun.com/exdb/mnist/train-labels-idx1-ubyte.gz\n",
            "Downloading http://yann.lecun.com/exdb/mnist/train-labels-idx1-ubyte.gz to /files/MNIST/raw/train-labels-idx1-ubyte.gz\n"
          ]
        },
        {
          "data": {
            "application/vnd.jupyter.widget-view+json": {
              "model_id": "3ff9a68c455541d0933889f679f2ae6d",
              "version_major": 2,
              "version_minor": 0
            },
            "text/plain": [
              "  0%|          | 0/28881 [00:00<?, ?it/s]"
            ]
          },
          "metadata": {},
          "output_type": "display_data"
        },
        {
          "name": "stdout",
          "output_type": "stream",
          "text": [
            "Extracting /files/MNIST/raw/train-labels-idx1-ubyte.gz to /files/MNIST/raw\n",
            "\n",
            "Downloading http://yann.lecun.com/exdb/mnist/t10k-images-idx3-ubyte.gz\n",
            "Downloading http://yann.lecun.com/exdb/mnist/t10k-images-idx3-ubyte.gz to /files/MNIST/raw/t10k-images-idx3-ubyte.gz\n"
          ]
        },
        {
          "data": {
            "application/vnd.jupyter.widget-view+json": {
              "model_id": "3016b5fd130048d3bf6febc94bd297af",
              "version_major": 2,
              "version_minor": 0
            },
            "text/plain": [
              "  0%|          | 0/1648877 [00:00<?, ?it/s]"
            ]
          },
          "metadata": {},
          "output_type": "display_data"
        },
        {
          "name": "stdout",
          "output_type": "stream",
          "text": [
            "Extracting /files/MNIST/raw/t10k-images-idx3-ubyte.gz to /files/MNIST/raw\n",
            "\n",
            "Downloading http://yann.lecun.com/exdb/mnist/t10k-labels-idx1-ubyte.gz\n",
            "Downloading http://yann.lecun.com/exdb/mnist/t10k-labels-idx1-ubyte.gz to /files/MNIST/raw/t10k-labels-idx1-ubyte.gz\n"
          ]
        },
        {
          "data": {
            "application/vnd.jupyter.widget-view+json": {
              "model_id": "7919c584d7fc44aaac1697607ad94422",
              "version_major": 2,
              "version_minor": 0
            },
            "text/plain": [
              "  0%|          | 0/4542 [00:00<?, ?it/s]"
            ]
          },
          "metadata": {},
          "output_type": "display_data"
        },
        {
          "name": "stdout",
          "output_type": "stream",
          "text": [
            "Extracting /files/MNIST/raw/t10k-labels-idx1-ubyte.gz to /files/MNIST/raw\n",
            "\n"
          ]
        }
      ],
      "source": [
        "train_loader = torch.utils.data.DataLoader(\n",
        "  torchvision.datasets.MNIST('/files/', train=True, download=True,\n",
        "                             transform=torchvision.transforms.Compose([\n",
        "                               torchvision.transforms.ToTensor(),\n",
        "                               torchvision.transforms.Normalize(\n",
        "                                 (0.1307,), (0.3081,))\n",
        "                             ])),\n",
        "  batch_size=batch_size_train, shuffle=True)\n",
        "\n",
        "test_loader = torch.utils.data.DataLoader(\n",
        "  torchvision.datasets.MNIST('/files/', train=False, download=True,\n",
        "                             transform=torchvision.transforms.Compose([\n",
        "                               torchvision.transforms.ToTensor(),\n",
        "                               torchvision.transforms.Normalize(\n",
        "                                 (0.1307,), (0.3081,))\n",
        "                             ])),\n",
        "  batch_size=batch_size_test, shuffle=True)"
      ]
    },
    {
      "cell_type": "code",
      "execution_count": null,
      "metadata": {
        "colab": {
          "base_uri": "https://localhost:8080/"
        },
        "id": "VjC2iPXC59Ey",
        "outputId": "3db3e085-320c-462e-a450-db691e3949ab"
      },
      "outputs": [
        {
          "name": "stdout",
          "output_type": "stream",
          "text": [
            "torch.Size([64, 1, 28, 28]) torch.Size([64])\n",
            "tensor(4)\n"
          ]
        }
      ],
      "source": [
        "examples = enumerate(train_loader)\n",
        "batch_idx, (example_data, example_targets) = next(examples)\n",
        "print(example_data.shape, example_targets.shape)\n",
        "print(example_targets[0])"
      ]
    },
    {
      "cell_type": "code",
      "execution_count": null,
      "metadata": {
        "colab": {
          "base_uri": "https://localhost:8080/",
          "height": 280
        },
        "id": "p0FH-Zdx-38V",
        "outputId": "4cc6f825-8744-477a-a292-9828064482ed"
      },
      "outputs": [
        {
          "data": {
            "image/png": "[encoded data removed]",
            "text/plain": [
              "<Figure size 432x288 with 6 Axes>"
            ]
          },
          "metadata": {},
          "output_type": "display_data"
        }
      ],
      "source": [
        "import matplotlib.pyplot as plt\n",
        "\n",
        "fig = plt.figure()\n",
        "for i in range(6):\n",
        "  plt.subplot(2,3,i+1)\n",
        "  plt.tight_layout()\n",
        "  plt.imshow(example_data[i][0], interpolation='none')\n",
        "  plt.title(\"Ground Truth: {}\".format(example_targets[i]))\n",
        "  plt.xticks([])\n",
        "  plt.yticks([])\n"
      ]
    },
    {
      "cell_type": "code",
      "execution_count": null,
      "metadata": {
        "colab": {
          "base_uri": "https://localhost:8080/"
        },
        "id": "d0ayEwOxBP8F",
        "outputId": "8f9627ca-de39-475d-9439-52aff2704905"
      },
      "outputs": [
        {
          "name": "stdout",
          "output_type": "stream",
          "text": [
            "tensor([[-0.4242, -0.4242, -0.4242, -0.4242, -0.4242, -0.4242, -0.4242, -0.4242,\n",
            "         -0.4242, -0.4242, -0.4242, -0.4242, -0.4242, -0.4242, -0.4242, -0.4242,\n",
            "         -0.4242, -0.4242, -0.4242, -0.4242, -0.4242, -0.4242, -0.4242, -0.4242,\n",
            "         -0.4242, -0.4242, -0.4242, -0.4242],\n",
            "        [-0.4242, -0.4242, -0.4242, -0.4242, -0.4242, -0.4242, -0.4242, -0.4242,\n",
            "         -0.4242, -0.4242, -0.4242, -0.4242, -0.4242, -0.4242, -0.4242, -0.4242,\n",
            "         -0.4242, -0.4242, -0.4242, -0.4242, -0.4242, -0.4242, -0.4242, -0.4242,\n",
            "         -0.4242, -0.4242, -0.4242, -0.4242],\n",
            "        [-0.4242, -0.4242, -0.4242, -0.4242, -0.4242, -0.4242, -0.4242, -0.4242,\n",
            "         -0.4242, -0.4242, -0.4242, -0.4242, -0.4242, -0.4242, -0.4242, -0.4242,\n",
            "         -0.4242, -0.4242, -0.4242, -0.4242, -0.4242, -0.4242, -0.4242, -0.4242,\n",
            "         -0.4242, -0.4242, -0.4242, -0.4242],\n",
            "        [-0.4242, -0.4242, -0.4242, -0.4242, -0.4242, -0.4242, -0.4242, -0.4242,\n",
            "         -0.4242, -0.4242, -0.4242, -0.4242, -0.4242, -0.4242, -0.4242, -0.4242,\n",
            "         -0.4242, -0.4242, -0.4242, -0.4242, -0.4242, -0.4242, -0.4242, -0.4242,\n",
            "         -0.4242, -0.4242, -0.4242, -0.4242],\n",
            "        [-0.4242, -0.4242, -0.4242, -0.4242, -0.4242, -0.4242, -0.4242, -0.4242,\n",
            "         -0.4242, -0.4242, -0.4242, -0.4242, -0.4242, -0.4242, -0.4242, -0.4242,\n",
            "         -0.4242, -0.4242, -0.4242, -0.4242, -0.4242, -0.4242, -0.4242, -0.4242,\n",
            "         -0.4242, -0.4242, -0.4242, -0.4242],\n",
            "        [-0.4242, -0.4242, -0.4242, -0.4242, -0.4242, -0.4242, -0.4242, -0.4242,\n",
            "         -0.4242,  0.0595,  0.6959,  0.5431,  1.0141,  1.0268,  1.5996,  2.7960,\n",
            "          2.7960,  2.7960,  2.8215,  2.7960,  2.7960,  0.6450, -0.4242, -0.4242,\n",
            "         -0.4242, -0.4242, -0.4242, -0.4242],\n",
            "        [-0.4242, -0.4242, -0.4242, -0.4242, -0.4242, -0.4242, -0.4242, -0.4242,\n",
            "          0.0595,  2.3633,  2.7069,  2.6687,  2.7833,  2.7960,  2.7833,  2.7833,\n",
            "          2.7833,  2.7833,  2.7960,  2.7833,  2.7833,  1.6250, -0.4242, -0.4242,\n",
            "         -0.4242, -0.4242, -0.4242, -0.4242],\n",
            "        [-0.4242, -0.4242, -0.4242, -0.4242, -0.4242, -0.4242, -0.4242, -0.4242,\n",
            "          0.6959,  2.2996,  2.7833,  2.7833,  2.7833,  2.7960,  2.5415,  2.6178,\n",
            "          2.7833,  2.7833,  2.7960,  2.7833,  2.2233,  0.4031, -0.4242, -0.4242,\n",
            "         -0.4242, -0.4242, -0.4242, -0.4242],\n",
            "        [-0.4242, -0.4242, -0.4242, -0.4242, -0.4242, -0.4242, -0.4242, -0.4242,\n",
            "         -0.4242, -0.0678,  0.6450,  0.6450,  0.6450,  0.6450,  0.4031,  2.1596,\n",
            "          2.7833,  2.7833,  2.7960,  2.0578, -0.1824, -0.4242, -0.4242, -0.4242,\n",
            "         -0.4242, -0.4242, -0.4242, -0.4242],\n",
            "        [-0.4242, -0.4242, -0.4242, -0.4242, -0.4242, -0.4242, -0.4242, -0.4242,\n",
            "         -0.4242, -0.4242, -0.4242, -0.4242, -0.4242,  0.3777,  1.8414,  2.7833,\n",
            "          2.7833,  2.7833,  1.9942,  0.5177, -0.4242, -0.4242, -0.4242, -0.4242,\n",
            "         -0.4242, -0.4242, -0.4242, -0.4242],\n",
            "        [-0.4242, -0.4242, -0.4242, -0.4242, -0.4242, -0.4242, -0.4242, -0.4242,\n",
            "         -0.4242, -0.4242, -0.4242, -0.4242,  0.3777,  2.8215,  2.7960,  2.7960,\n",
            "          2.6306,  1.3577, -0.4242, -0.4242, -0.4242, -0.4242, -0.4242, -0.4242,\n",
            "         -0.4242, -0.4242, -0.4242, -0.4242],\n",
            "        [-0.4242, -0.4242, -0.4242, -0.4242, -0.4242, -0.4242, -0.4242, -0.4242,\n",
            "         -0.4242, -0.4242, -0.4242,  0.5049,  2.6306,  2.7960,  2.7833,  2.7833,\n",
            "          2.7451,  1.4341, -0.4242, -0.4242, -0.4242, -0.4242, -0.4242, -0.4242,\n",
            "         -0.4242, -0.4242, -0.4242, -0.4242],\n",
            "        [-0.4242, -0.4242, -0.4242, -0.4242, -0.4242, -0.4242, -0.4242, -0.4242,\n",
            "         -0.4242, -0.4242, -0.4242,  1.7269,  2.7833,  2.7960,  2.7833,  2.7833,\n",
            "          2.7833,  2.7833, -0.4242, -0.4242, -0.4242, -0.4242, -0.4242, -0.4242,\n",
            "         -0.4242, -0.4242, -0.4242, -0.4242],\n",
            "        [-0.4242, -0.4242, -0.4242, -0.4242, -0.4242, -0.4242, -0.4242, -0.4242,\n",
            "         -0.4242, -0.4242, -0.4242,  0.4922,  2.4142,  1.6378,  0.6450,  2.1087,\n",
            "          2.7833,  2.7833, -0.2206, -0.4242, -0.4242, -0.4242, -0.4242, -0.4242,\n",
            "         -0.4242, -0.4242, -0.4242, -0.4242],\n",
            "        [-0.4242, -0.4242, -0.4242, -0.4242, -0.4242, -0.4242, -0.4242, -0.4242,\n",
            "         -0.4242, -0.4242, -0.4242, -0.4242, -0.4242, -0.4242, -0.4242,  0.3013,\n",
            "          2.7833,  2.7833,  1.3577, -0.4242, -0.4242, -0.4242, -0.4242, -0.4242,\n",
            "         -0.4242, -0.4242, -0.4242, -0.4242],\n",
            "        [-0.4242, -0.4242, -0.4242, -0.4242, -0.4242, -0.4242, -0.4242, -0.4242,\n",
            "         -0.4242, -0.4242, -0.4242, -0.4242, -0.4242, -0.4242, -0.4242, -0.4242,\n",
            "          1.7269,  2.7960,  2.0196, -0.2715, -0.4242, -0.4242, -0.4242, -0.4242,\n",
            "         -0.4242, -0.4242, -0.4242, -0.4242],\n",
            "        [-0.4242, -0.4242, -0.4242, -0.4242, -0.4242, -0.4242, -0.4242, -0.4242,\n",
            "         -0.4242, -0.4242, -0.4242, -0.4242, -0.4242, -0.4242, -0.4242, -0.4242,\n",
            "          1.7269,  2.7833,  2.7960, -0.0806, -0.4242, -0.4242, -0.4242, -0.4242,\n",
            "         -0.4242, -0.4242, -0.4242, -0.4242],\n",
            "        [-0.4242, -0.4242, -0.4242, -0.4242, -0.4242, -0.4242, -0.4242, -0.4242,\n",
            "         -0.4242, -0.4242, -0.4242, -0.4242, -0.4242, -0.4242, -0.4242, -0.4242,\n",
            "          1.7269,  2.7833,  2.4778, -0.1569, -0.4242, -0.4242, -0.4242, -0.4242,\n",
            "         -0.4242, -0.4242, -0.4242, -0.4242],\n",
            "        [-0.4242, -0.4242, -0.4242, -0.4242, -0.4242, -0.1315, -0.2969, -0.4242,\n",
            "         -0.4242, -0.4242, -0.4242, -0.4242, -0.4242, -0.4242, -0.4242, -0.4242,\n",
            "          1.7269,  2.7833,  1.3577, -0.4242, -0.4242, -0.4242, -0.4242, -0.4242,\n",
            "         -0.4242, -0.4242, -0.4242, -0.4242],\n",
            "        [-0.4242, -0.4242, -0.4242, -0.4242,  1.1795,  2.4651,  1.6250, -0.4242,\n",
            "         -0.4242, -0.4242, -0.4242, -0.4242, -0.4242, -0.4242, -0.4242, -0.4242,\n",
            "          1.7269,  2.7833,  0.3777, -0.4242, -0.4242, -0.4242, -0.4242, -0.4242,\n",
            "         -0.4242, -0.4242, -0.4242, -0.4242],\n",
            "        [-0.4242, -0.4242, -0.4242,  1.0268,  2.7960,  2.7960,  2.5924,  0.2122,\n",
            "         -0.4242, -0.4242, -0.4242, -0.4242, -0.4242, -0.4242, -0.4242,  1.1032,\n",
            "          2.7960,  2.7960, -0.4242, -0.4242, -0.4242, -0.4242, -0.4242, -0.4242,\n",
            "         -0.4242, -0.4242, -0.4242, -0.4242],\n",
            "        [-0.4242, -0.4242, -0.4242,  0.5304,  2.6687,  2.7833,  2.7833,  2.5924,\n",
            "          0.6577,  0.3013, -0.4242, -0.4242, -0.4242,  0.0595,  1.2432,  2.7069,\n",
            "          2.7833,  2.7833, -0.4242, -0.4242, -0.4242, -0.4242, -0.4242, -0.4242,\n",
            "         -0.4242, -0.4242, -0.4242, -0.4242],\n",
            "        [-0.4242, -0.4242, -0.4242, -0.4242,  0.8104,  2.2233,  2.7833,  2.7833,\n",
            "          2.7960,  2.5415,  2.0832,  2.0832,  2.0832,  2.4015,  2.7833,  2.7833,\n",
            "          2.2996,  1.0777, -0.4242, -0.4242, -0.4242, -0.4242, -0.4242, -0.4242,\n",
            "         -0.4242, -0.4242, -0.4242, -0.4242],\n",
            "        [-0.4242, -0.4242, -0.4242, -0.4242, -0.4242, -0.1824,  0.6450,  0.6450,\n",
            "          2.5924,  2.7833,  2.7833,  2.7833,  2.7833,  2.7960,  2.7833,  2.5033,\n",
            "          0.5177, -0.4242, -0.4242, -0.4242, -0.4242, -0.4242, -0.4242, -0.4242,\n",
            "         -0.4242, -0.4242, -0.4242, -0.4242],\n",
            "        [-0.4242, -0.4242, -0.4242, -0.4242, -0.4242, -0.4242, -0.4242, -0.4242,\n",
            "          0.2122,  1.0013,  1.3832,  2.7833,  2.7833,  2.7960,  2.1723, -0.1060,\n",
            "         -0.4242, -0.4242, -0.4242, -0.4242, -0.4242, -0.4242, -0.4242, -0.4242,\n",
            "         -0.4242, -0.4242, -0.4242, -0.4242],\n",
            "        [-0.4242, -0.4242, -0.4242, -0.4242, -0.4242, -0.4242, -0.4242, -0.4242,\n",
            "         -0.4242, -0.4242, -0.4242, -0.4242, -0.4242, -0.4242, -0.4242, -0.4242,\n",
            "         -0.4242, -0.4242, -0.4242, -0.4242, -0.4242, -0.4242, -0.4242, -0.4242,\n",
            "         -0.4242, -0.4242, -0.4242, -0.4242],\n",
            "        [-0.4242, -0.4242, -0.4242, -0.4242, -0.4242, -0.4242, -0.4242, -0.4242,\n",
            "         -0.4242, -0.4242, -0.4242, -0.4242, -0.4242, -0.4242, -0.4242, -0.4242,\n",
            "         -0.4242, -0.4242, -0.4242, -0.4242, -0.4242, -0.4242, -0.4242, -0.4242,\n",
            "         -0.4242, -0.4242, -0.4242, -0.4242],\n",
            "        [-0.4242, -0.4242, -0.4242, -0.4242, -0.4242, -0.4242, -0.4242, -0.4242,\n",
            "         -0.4242, -0.4242, -0.4242, -0.4242, -0.4242, -0.4242, -0.4242, -0.4242,\n",
            "         -0.4242, -0.4242, -0.4242, -0.4242, -0.4242, -0.4242, -0.4242, -0.4242,\n",
            "         -0.4242, -0.4242, -0.4242, -0.4242]])\n",
            "tensor(2.8215) tensor(-0.4242)\n",
            "tensor(2.8215) tensor(-0.4242)\n"
          ]
        }
      ],
      "source": [
        "print(example_data[0][0])\n",
        "print(example_data[0][0].max(), example_data[0][0].min())\n",
        "print(example_data.max(), example_data.min())"
      ]
    },
    {
      "cell_type": "code",
      "execution_count": null,
      "metadata": {
        "id": "aVkiMCDT87XJ"
      },
      "outputs": [],
      "source": [
        "import torch.nn as nn\n",
        "import torch.nn.functional as F\n",
        "import torch.optim as optim\n",
        "\n",
        "class Net(nn.Module):\n",
        "    def __init__(self):\n",
        "        super(Net, self).__init__()\n",
        "        self.conv1 = nn.Conv2d(1, 10, kernel_size=5)\n",
        "        self.conv2 = nn.Conv2d(10, 20, kernel_size=5)\n",
        "        self.conv2_drop = nn.Dropout2d()\n",
        "        self.fc1 = nn.Linear(320, 50)\n",
        "        self.fc2 = nn.Linear(50, 10)\n",
        "\n",
        "    def forward(self, x):\n",
        "        x = F.relu(F.max_pool2d(self.conv1(x), 2))\n",
        "        x = F.relu(F.max_pool2d(self.conv2_drop(self.conv2(x)), 2))\n",
        "        x = x.view(-1, 320)\n",
        "        x = F.relu(self.fc1(x))\n",
        "        x = F.dropout(x, training=self.training)\n",
        "        x = self.fc2(x)\n",
        "        return F.log_softmax(x)"
      ]
    },
    {
      "cell_type": "markdown",
      "metadata": {
        "id": "2uSdS9PHofrg"
      },
      "source": [
        "## Grayscale consideration"
      ]
    },
    {
      "cell_type": "markdown",
      "metadata": {
        "id": "mg81OqvC9ALB"
      },
      "source": [
        "How about turning an image from greyscale to RGB?\n",
        "\n",
        "https://stackoverflow.com/questions/58778867/how-can-i-convert-mnist-data-to-rgb-format\n",
        "\n",
        "https://discuss.pytorch.org/t/grayscale-to-rgb-transform/18315\n",
        "\n",
        "As shown below, one way is just to stack three channels with the same intensity. However, this might not be necessary. If the cmap value is not specified, the image is automatically turned to a colored map"
      ]
    },
    {
      "cell_type": "code",
      "execution_count": null,
      "metadata": {
        "colab": {
          "base_uri": "https://localhost:8080/",
          "height": 300
        },
        "id": "8ON7ni8VQTyB",
        "outputId": "fffb9097-2da8-44f8-bcd8-1dea3211cfd2"
      },
      "outputs": [
        {
          "name": "stdout",
          "output_type": "stream",
          "text": [
            "torch.Size([28, 28])\n"
          ]
        },
        {
          "data": {
            "text/plain": [
              "torch.Size([28, 28])"
            ]
          },
          "execution_count": 11,
          "metadata": {},
          "output_type": "execute_result"
        },
        {
          "data": {
            "image/png": "[encoded data removed]",
            "text/plain": [
              "<Figure size 432x288 with 1 Axes>"
            ]
          },
          "metadata": {},
          "output_type": "display_data"
        }
      ],
      "source": [
        "x = example_data[0][0]\n",
        "plt.imshow(x,  interpolation='none')\n",
        "print(x.shape)\n",
        "#x.unsqueeze_(2)\n",
        "#print(x.shape)\n",
        "#x = x.repeat(1, 1, 3)\n",
        "y = torch.stack([x,x,x],2)\n",
        "x.shape\n",
        "#x = torch.reshape(x, (28, 28, 3))\n",
        "x.shape\n",
        "#plt.imshow(x,  interpolation='none')"
      ]
    },
    {
      "cell_type": "code",
      "execution_count": null,
      "metadata": {
        "colab": {
          "base_uri": "https://localhost:8080/",
          "height": 334
        },
        "id": "QhIOZoyiS7zA",
        "outputId": "117b5965-8e2f-4e7d-9fae-4ce6fb4ec293"
      },
      "outputs": [
        {
          "name": "stdout",
          "output_type": "stream",
          "text": [
            "torch.Size([28, 28])\n",
            "torch.Size([28, 28, 3])\n",
            "tensor(0.)\n"
          ]
        },
        {
          "data": {
            "text/plain": [
              "<matplotlib.image.AxesImage at 0x7f8b7b5d5cd0>"
            ]
          },
          "execution_count": 12,
          "metadata": {},
          "output_type": "execute_result"
        },
        {
          "data": {
            "image/png": "[encoded data removed]",
            "text/plain": [
              "<Figure size 432x288 with 1 Axes>"
            ]
          },
          "metadata": {},
          "output_type": "display_data"
        }
      ],
      "source": [
        "xx = torch.rand(28,28)\n",
        "y =torch.stack([xx,xx,xx],2)\n",
        "print(xx.shape)\n",
        "print(y.shape)\n",
        "print(torch.norm(y[:,:,0] - xx))\n",
        "plt.imshow(xx, interpolation='none')\n"
      ]
    },
    {
      "cell_type": "markdown",
      "metadata": {
        "id": "ByvBjKmNWtPt"
      },
      "source": [
        "Maybe we need to turn RGB to grayscale before classification. How to do that?\n",
        "\n",
        "https://www.tutorialspoint.com/pytorch-how-to-convert-an-image-to-grayscale#:~:text=To%20convert%20an%20image%20to%20grayscale%2C%20we%20apply%20Grayscale(),transforms%20module.\n",
        "\n"
      ]
    },
    {
      "cell_type": "code",
      "execution_count": null,
      "metadata": {
        "colab": {
          "base_uri": "https://localhost:8080/",
          "height": 301
        },
        "id": "WW7PHl-CX_t9",
        "outputId": "0a7eb503-00ce-4211-b753-f357f3cdff54"
      },
      "outputs": [
        {
          "name": "stdout",
          "output_type": "stream",
          "text": [
            "(32, 32, 3)\n"
          ]
        },
        {
          "data": {
            "text/plain": [
              "<matplotlib.image.AxesImage at 0x7f8b7b5ad820>"
            ]
          },
          "execution_count": 13,
          "metadata": {},
          "output_type": "execute_result"
        },
        {
          "data": {
            "image/png": "[encoded data removed]",
            "text/plain": [
              "<Figure size 432x288 with 1 Axes>"
            ]
          },
          "metadata": {},
          "output_type": "display_data"
        }
      ],
      "source": [
        "def rgb_to_grayscale(rgb_image):\n",
        "    return np.dot(rgb_image, [0.2989, 0.5870, 0.1140])\n",
        "\n",
        "test = image.copy()\n",
        "print(test.shape)\n",
        "test_gray = rgb_to_grayscale(test)\n",
        "\n",
        "\n",
        "#test_pil = torchvision.transforms.ToPILImage()\n",
        "#image_gray = torchvision.transforms.functional.rgb_to_grayscale(test_pil)\n",
        "#img = Image.open(test_pil).convert('RGB')\n",
        "#img.show()\n",
        "#print(test_pil)\n",
        "#test_ts = torch.from_numpy(test)\n",
        "#print(test_ts.shape)\n",
        "#test_ts.reshape([3, 32, 32])\n",
        "\n",
        "plt.imshow(test_gray, cmap='binary')"
      ]
    },
    {
      "cell_type": "markdown",
      "metadata": {
        "id": "0-AAsfOBhvMS"
      },
      "source": [
        "## Creating modified images"
      ]
    },
    {
      "cell_type": "markdown",
      "metadata": {
        "id": "qRN-HWkjh3BR"
      },
      "source": [
        "Some changes are tolerabe to the CNN while others are not.\n",
        "\n",
        "Why is the kernel size 1x16 working well for the classification? It is because the original graph in the block is broken. However, the graph structure between blocks is reserved. This may have two inference:\n",
        "1. If we use a CNN with the stride size equal to the key matrix size, it could match the encrption mechanism better.\n",
        "2. If we use the filter crossing block borders, the CNN could be more sensitive to the change\n",
        "\n",
        "Therefore, we can design the experiment as below.\n",
        "1. create random deviation on the original image. We can control its magnitude\n",
        "2. compute the difference score with one of the metrics in the previous block.\n",
        "3. feed data to a CNN for a regression task. We can provide 10% correct images and 90% modified images, but this ratio could be adjusted."
      ]
    },
    {
      "cell_type": "markdown",
      "metadata": {
        "id": "HEZ-kPGS5UBc"
      },
      "source": [
        "### Define a metric for picture difference\n",
        "\n",
        "When comparing two images, a common way to measure the difference between them is to use a pixel-wise metric that calculates the difference between corresponding pixels in the two images. There are several metrics that can be used to measure the pixel difference between two images, including:\n",
        "\n",
        "Mean squared error (MSE): This metric calculates the average squared difference between each pixel in the two images. It is given by the formula:\n",
        "\n",
        "$MSE = (1 / N) * \\Sigma_{i=1}^N (I1_i - I2_i)^2$\n",
        "\n",
        "where N is the total number of pixels in the image, I1_i and I2_i are the intensity values of the i-th pixel in the first and second images, respectively.\n",
        "\n",
        "Peak signal-to-noise ratio (PSNR): This metric measures the ratio between the maximum possible pixel value and the root mean squared error (RMSE) between the two images. It is given by the formula:\n",
        "\n",
        "$PSNR = 20 * log_{10}(MAX_i / RMSE)$\n",
        "\n",
        "where MAX_I is the maximum pixel value (usually 255 for 8-bit images), and RMSE is the root mean squared error, which is calculated as:\n",
        "\n",
        "$RMSE = \\sqrt{(1 / N) * \\Sigma_{i=1}^N (I1_i - I2_i)^2}$\n",
        "\n",
        "Structural similarity index (SSIM): This metric measures the structural similarity between the two images by taking into account the luminance, contrast, and structural similarities. It is a more complex metric that involves calculating several local windows and comparing the statistics of the corresponding patches in the two images.\n",
        "\n",
        "Normalized cross-correlation (NCC): This metric measures the similarity between two images by calculating the correlation between corresponding pixels in the two images. It is given by the formula:\n",
        "\n",
        "$NCC = \\Sigma_{i=1}^N (I1_i - \\bar{I1}) * (I2_i - \\bar{I2}) / (\\sqrt{\\Sigma_{i=1}^N (I1_i - \\bar{I1})^2} * \\sqrt{\\Sigma_{i=1}^N (I2_i - \\bar{I2})^2})$\n",
        "\n",
        "where mean(I1) and mean(I2) are the mean intensity values of the two images.\n",
        "\n",
        "Mean squared error (MSE):\n",
        "\n",
        "J. C. Russ, \"The Image Processing Handbook\", 6th edition, CRC Press, 2011.\n",
        "D. Kundur and D. Hatzinakos, \"Digital Watermarking using Multiresolution Wavelet Decomposition\", Proceedings of the IEEE International Conference on Image Processing, Vol. 1, pp. 591-594, 1998.\n",
        "Peak signal-to-noise ratio (PSNR):\n",
        "\n",
        "H. R. Sheikh, A. C. Bovik, and G. de Veciana, \"An Information Fidelity Criterion for Image Quality Assessment using Natural Scene Statistics\", IEEE Transactions on Image Processing, Vol. 14, No. 12, pp. 2117-2128, 2005.\n",
        "Structural similarity index (SSIM):\n",
        "\n",
        "Z. Wang, A. C. Bovik, H. R. Sheikh, and E. P. Simoncelli, \"Image quality assessment: from error visibility to structural similarity\", IEEE Transactions on Image Processing, Vol. 13, No. 4, pp. 600-612, 2004.\n",
        "A. Mittal, A. K. Moorthy, and A. C. Bovik, \"No-Reference Image Quality Assessment in the Spatial Domain\", IEEE Transactions on Image Processing, Vol. 21, No. 12, pp. 4695-4708, 2012.\n",
        "Normalized cross-correlation (NCC):\n",
        "\n",
        "R. Szeliski, \"Computer Vision: Algorithms and Applications\", Springer, 2010.\n",
        "G. Bjontegaard, \"Calculation of Average PSNR Differences between RD-Curves\", ITU-T VCEG-M33, 2001."
      ]
    },
    {
      "cell_type": "code",
      "execution_count": null,
      "metadata": {
        "id": "XwWX9-XjfCyJ"
      },
      "outputs": [],
      "source": [
        "def normalize(tensor):\n",
        "    return (tensor - torch.amin(tensor, dim=(2,3)).view(tensor.shape[0], 1, 1, 1)) / (torch.amax(tensor, dim=(2,3)) - torch.amin(tensor, dim=(2,3))).view(tensor.shape[0], 1, 1, 1) * 255\n",
        "\n",
        "def diff(img1, img2):\n",
        "  #print(img1.size(dim=2), img2.size(dim=3))\n",
        "  return(torch.sum(torch.square(normalize(img1) - normalize(img2)), (2, 3)) / (img1.size(dim=2) * img2.size(dim=3)))"
      ]
    },
    {
      "cell_type": "markdown",
      "metadata": {
        "id": "zRyEu47Uwl7H"
      },
      "source": [
        "### Apply random variation\n",
        "We take the pixel value in gray scale and apply a random variation of [-v, v]. The range of v is {v $\\in$ Z | 1 <= v <= 10 }"
      ]
    },
    {
      "cell_type": "code",
      "execution_count": null,
      "metadata": {
        "colab": {
          "base_uri": "https://localhost:8080/",
          "height": 302
        },
        "id": "8cVyhYu-d0Gr",
        "outputId": "fcc5ea5f-2fb7-4622-9e7f-452e5e99127a"
      },
      "outputs": [
        {
          "data": {
            "image/png": "[encoded data removed]",
            "text/plain": [
              "<Figure size 576x432 with 10 Axes>"
            ]
          },
          "metadata": {},
          "output_type": "display_data"
        }
      ],
      "source": [
        "\n",
        "\n",
        "\n",
        "\n",
        "def convert(example_data):\n",
        "  std_data = normalize(example_data)\n",
        "  batch_size = std_data.shape[0]\n",
        "  \n",
        "  mod_data = torch.empty(0, 1, 28, 28)\n",
        "  labels = torch.empty(0)\n",
        "  MAX = 10\n",
        "  for i in range(MAX):\n",
        "    new_data = std_data + 128 * i * torch.rand([batch_size, 1, 28, 28])\n",
        "    #mod_data.append(new_data)\n",
        "    mod_data = torch.cat((mod_data, new_data), 0)\n",
        "    #difference = diff(new_data, std_data)\n",
        "    #print(labels.shape, difference.shape)\n",
        "    labels = torch.cat((labels, diff(new_data, std_data).squeeze()),0)\n",
        "    #print(temp.size())\n",
        "    #print(new_data)\n",
        "    #labels.append(difference)\n",
        "  #print(mod_data[0][0][0], labels[0][0][0])\n",
        "  #plt.imshow(mod_data[9][0][0], cmap=\"gray\", interpolation='none')\n",
        "  #nom_labels = normalize(labels)\n",
        "  return mod_data, labels\n",
        "\n",
        "  \n",
        "\n",
        "  \n",
        "\n",
        " \n",
        "data, target = convert(example_data)\n",
        "#print(data.shape, target.shape)\n",
        "fig = plt.figure(figsize=(8, 6))\n",
        "for i in range(10):\n",
        "  plt.subplot(2,5,i+1)\n",
        "  #plt.tight_layout()\n",
        "  plt.imshow(data[i*batch_size_train][0], cmap=\"gray\", interpolation='none')\n",
        "  t_disp = format(target[i*batch_size_train], '.1f')\n",
        "  plt.title(\"Diff: {}\".format(t_disp))\n",
        "  plt.xticks([])\n",
        "  plt.yticks([])\n",
        "  #fig.subplots_adjust(hspace=0.5)\n",
        "  \n",
        "\n"
      ]
    },
    {
      "cell_type": "code",
      "execution_count": null,
      "metadata": {
        "colab": {
          "base_uri": "https://localhost:8080/"
        },
        "id": "c64r-gEp7fd2",
        "outputId": "8219c47e-a8a8-412b-d731-a71b157424b0"
      },
      "outputs": [
        {
          "name": "stdout",
          "output_type": "stream",
          "text": [
            "tensor([-0.2632, -0.1453, -0.0274])\n"
          ]
        }
      ],
      "source": [
        "import torch\n",
        "\n",
        "x = torch.tensor([\n",
        "    [[-0.3000, -0.2926],[-0.2705, -0.2632]],\n",
        "    [[-0.1821, -0.1747],[-0.1526, -0.1453]],\n",
        "    [[-0.0642, -0.0568],[-0.0347, -0.0274]]\n",
        "])\n",
        "\n",
        "print(torch.amax(x, dim=(1, 2)))"
      ]
    },
    {
      "cell_type": "markdown",
      "metadata": {
        "id": "3f63cQpjmhvp"
      },
      "source": [
        "## Senstive CNN"
      ]
    },
    {
      "cell_type": "code",
      "execution_count": null,
      "metadata": {
        "id": "s8qYMZnCmgV0"
      },
      "outputs": [],
      "source": [
        "import torch\n",
        "import torch.nn as nn\n",
        "import torch.nn.functional as F\n",
        "import torch.optim as optim\n",
        "\n",
        "class SensitiveCNN(nn.Module):\n",
        "    def __init__(self):\n",
        "        super(SensitiveCNN, self).__init__()\n",
        "        self.conv1 = nn.Conv2d(1, 28, kernel_size=3, stride=1, padding=1)\n",
        "        self.conv2 = nn.Conv2d(28, 56, kernel_size=3, stride=1, padding=1)\n",
        "        self.fc1 = nn.Linear(56 * 7 * 7, 128)\n",
        "        self.fc2 = nn.Linear(128, 1)\n",
        "\n",
        "    def forward(self, x):\n",
        "        x = F.relu(self.conv1(x))\n",
        "        x = F.max_pool2d(x, 2, 2)\n",
        "        x = F.relu(self.conv2(x))\n",
        "        x = F.max_pool2d(x, 2, 2)\n",
        "        x = x.view(-1, 64 * 7 * 7)\n",
        "        x = F.relu(self.fc1(x))\n",
        "        x = self.fc2(x)\n",
        "        return x\n",
        "\n",
        "network = Net()\n",
        "optimizer = optim.SGD(network.parameters(), lr=learning_rate,\n",
        "                      momentum=momentum)\n",
        "## uncomment for GPU\n",
        "#network.cuda()\n",
        "\n",
        "class Net(nn.Module):\n",
        "    def __init__(self):\n",
        "        super(Net, self).__init__()\n",
        "        self.conv1 = nn.Conv2d(1, 10, kernel_size=4)\n",
        "        self.conv2 = nn.Conv2d(10, 20, kernel_size=4)\n",
        "        self.conv2_drop = nn.Dropout2d()\n",
        "        self.fc1 = nn.Linear(320, 50)\n",
        "        self.fc2 = nn.Linear(50, 1)\n",
        "\n",
        "    def forward(self, x):\n",
        "        x = F.relu(F.max_pool2d(self.conv1(x), 2))\n",
        "        x = F.relu(F.max_pool2d(self.conv2_drop(self.conv2(x)), 2))\n",
        "        x = x.view(-1, 320)\n",
        "        x = F.relu(self.fc1(x))\n",
        "        x = F.dropout(x, training=self.training)\n",
        "        x = self.fc2(x)\n",
        "        return x # F.log_softmax(x)"
      ]
    },
    {
      "cell_type": "code",
      "execution_count": null,
      "metadata": {
        "id": "PTNDqbTJrmPz"
      },
      "outputs": [],
      "source": [
        "train_losses = []\n",
        "train_counter = []\n",
        "test_losses = []\n",
        "test_counter = [i*len(train_loader.dataset) for i in range(n_epochs + 1)]"
      ]
    },
    {
      "cell_type": "code",
      "execution_count": null,
      "metadata": {
        "colab": {
          "base_uri": "https://localhost:8080/"
        },
        "id": "HZVVAFZZrpUc",
        "outputId": "709415b2-d1a1-4351-da8a-36d4d2edfc73"
      },
      "outputs": [
        {
          "name": "stderr",
          "output_type": "stream",
          "text": [
            "<ipython-input-53-3f9466a8b734>:8: UserWarning: Using a target size (torch.Size([640])) that is different to the input size (torch.Size([1000, 1])). This will likely lead to incorrect results due to broadcasting. Please ensure they have the same size.\n",
            "  loss = F.mse_loss(output, mod_target)\n"
          ]
        },
        {
          "name": "stdout",
          "output_type": "stream",
          "text": [
            "Train Epoch: 1 [0/60000 (0%)]\tLoss: 908.318481\n",
            "Train Epoch: 1 [640/60000 (1%)]\tLoss: 6157882880.000000\n",
            "Train Epoch: 1 [1280/60000 (2%)]\tLoss: 2769984768.000000\n",
            "Train Epoch: 1 [1920/60000 (3%)]\tLoss: 1178748800.000000\n",
            "Train Epoch: 1 [2560/60000 (4%)]\tLoss: 501546848.000000\n",
            "Train Epoch: 1 [3200/60000 (5%)]\tLoss: 213404016.000000\n",
            "Train Epoch: 1 [3840/60000 (6%)]\tLoss: 90801248.000000\n",
            "Train Epoch: 1 [4480/60000 (7%)]\tLoss: 38634972.000000\n",
            "Train Epoch: 1 [5120/60000 (9%)]\tLoss: 16438747.000000\n",
            "Train Epoch: 1 [5760/60000 (10%)]\tLoss: 6994567.000000\n",
            "Train Epoch: 1 [6400/60000 (11%)]\tLoss: 2976156.500000\n",
            "Train Epoch: 1 [7040/60000 (12%)]\tLoss: 1266302.500000\n",
            "Train Epoch: 1 [7680/60000 (13%)]\tLoss: 538817.562500\n",
            "Train Epoch: 1 [8320/60000 (14%)]\tLoss: 229251.093750\n",
            "Train Epoch: 1 [8960/60000 (15%)]\tLoss: 97552.664062\n",
            "Train Epoch: 1 [9600/60000 (16%)]\tLoss: 41507.203125\n",
            "Train Epoch: 1 [10240/60000 (17%)]\tLoss: 17662.675781\n",
            "Train Epoch: 1 [10880/60000 (18%)]\tLoss: 7516.440918\n",
            "Train Epoch: 1 [11520/60000 (19%)]\tLoss: 3196.562500\n",
            "Train Epoch: 1 [12160/60000 (20%)]\tLoss: 1360.775146\n",
            "Train Epoch: 1 [12800/60000 (21%)]\tLoss: 579.323547\n",
            "Train Epoch: 1 [13440/60000 (22%)]\tLoss: 246.097870\n",
            "Train Epoch: 1 [14080/60000 (23%)]\tLoss: 105.146774\n",
            "Train Epoch: 1 [14720/60000 (25%)]\tLoss: 44.613945\n",
            "Train Epoch: 1 [15360/60000 (26%)]\tLoss: 19.090738\n",
            "Train Epoch: 1 [16000/60000 (27%)]\tLoss: 8.173471\n",
            "Train Epoch: 1 [16640/60000 (28%)]\tLoss: 3.531029\n",
            "Train Epoch: 1 [17280/60000 (29%)]\tLoss: 1.567400\n",
            "Train Epoch: 1 [17920/60000 (30%)]\tLoss: 0.722659\n",
            "Train Epoch: 1 [18560/60000 (31%)]\tLoss: 0.363912\n",
            "Train Epoch: 1 [19200/60000 (32%)]\tLoss: 0.207032\n",
            "Train Epoch: 1 [19840/60000 (33%)]\tLoss: 0.150621\n",
            "Train Epoch: 1 [20480/60000 (34%)]\tLoss: 0.119491\n",
            "Train Epoch: 1 [21120/60000 (35%)]\tLoss: 0.106051\n",
            "Train Epoch: 1 [21760/60000 (36%)]\tLoss: 0.089976\n",
            "Train Epoch: 1 [22400/60000 (37%)]\tLoss: 0.091982\n",
            "Train Epoch: 1 [23040/60000 (38%)]\tLoss: 0.095670\n",
            "Train Epoch: 1 [23680/60000 (39%)]\tLoss: 0.096881\n",
            "Train Epoch: 1 [24320/60000 (41%)]\tLoss: 0.094566\n",
            "Train Epoch: 1 [24960/60000 (42%)]\tLoss: 0.087402\n",
            "Train Epoch: 1 [25600/60000 (43%)]\tLoss: 0.087353\n",
            "Train Epoch: 1 [26240/60000 (44%)]\tLoss: 0.089446\n",
            "Train Epoch: 1 [26880/60000 (45%)]\tLoss: 0.093592\n",
            "Train Epoch: 1 [27520/60000 (46%)]\tLoss: 0.089794\n",
            "Train Epoch: 1 [28160/60000 (47%)]\tLoss: 0.092136\n",
            "Train Epoch: 1 [28800/60000 (48%)]\tLoss: 0.091299\n",
            "Train Epoch: 1 [29440/60000 (49%)]\tLoss: 0.095595\n",
            "Train Epoch: 1 [30080/60000 (50%)]\tLoss: 0.095365\n",
            "Train Epoch: 1 [30720/60000 (51%)]\tLoss: 0.093503\n",
            "Train Epoch: 1 [31360/60000 (52%)]\tLoss: 0.090553\n",
            "Train Epoch: 1 [32000/60000 (53%)]\tLoss: 0.092516\n",
            "Train Epoch: 1 [32640/60000 (54%)]\tLoss: 0.091302\n",
            "Train Epoch: 1 [33280/60000 (55%)]\tLoss: 0.091326\n",
            "Train Epoch: 1 [33920/60000 (57%)]\tLoss: 0.094277\n",
            "Train Epoch: 1 [34560/60000 (58%)]\tLoss: 0.092012\n",
            "Train Epoch: 1 [35200/60000 (59%)]\tLoss: 0.091507\n",
            "Train Epoch: 1 [35840/60000 (60%)]\tLoss: 0.093049\n",
            "Train Epoch: 1 [36480/60000 (61%)]\tLoss: 0.093448\n",
            "Train Epoch: 1 [37120/60000 (62%)]\tLoss: 0.087385\n",
            "Train Epoch: 1 [37760/60000 (63%)]\tLoss: 0.091342\n",
            "Train Epoch: 1 [38400/60000 (64%)]\tLoss: 0.086825\n",
            "Train Epoch: 1 [39040/60000 (65%)]\tLoss: 0.089598\n",
            "Train Epoch: 1 [39680/60000 (66%)]\tLoss: 0.090258\n",
            "Train Epoch: 1 [40320/60000 (67%)]\tLoss: 0.091570\n",
            "Train Epoch: 1 [40960/60000 (68%)]\tLoss: 0.091859\n",
            "Train Epoch: 1 [41600/60000 (69%)]\tLoss: 0.091717\n",
            "Train Epoch: 1 [42240/60000 (70%)]\tLoss: 0.091412\n",
            "Train Epoch: 1 [42880/60000 (71%)]\tLoss: 0.090970\n",
            "Train Epoch: 1 [43520/60000 (72%)]\tLoss: 0.091923\n",
            "Train Epoch: 1 [44160/60000 (74%)]\tLoss: 0.093220\n",
            "Train Epoch: 1 [44800/60000 (75%)]\tLoss: 0.088196\n",
            "Train Epoch: 1 [45440/60000 (76%)]\tLoss: 0.089303\n",
            "Train Epoch: 1 [46080/60000 (77%)]\tLoss: 0.090007\n",
            "Train Epoch: 1 [46720/60000 (78%)]\tLoss: 0.089219\n",
            "Train Epoch: 1 [47360/60000 (79%)]\tLoss: 0.088770\n",
            "Train Epoch: 1 [48000/60000 (80%)]\tLoss: 0.091995\n",
            "Train Epoch: 1 [48640/60000 (81%)]\tLoss: 0.087302\n",
            "Train Epoch: 1 [49280/60000 (82%)]\tLoss: 0.086003\n",
            "Train Epoch: 1 [49920/60000 (83%)]\tLoss: 0.087440\n",
            "Train Epoch: 1 [50560/60000 (84%)]\tLoss: 0.091042\n",
            "Train Epoch: 1 [51200/60000 (85%)]\tLoss: 0.093584\n",
            "Train Epoch: 1 [51840/60000 (86%)]\tLoss: 0.094355\n",
            "Train Epoch: 1 [52480/60000 (87%)]\tLoss: 0.091643\n",
            "Train Epoch: 1 [53120/60000 (88%)]\tLoss: 0.094739\n",
            "Train Epoch: 1 [53760/60000 (90%)]\tLoss: 0.092361\n",
            "Train Epoch: 1 [54400/60000 (91%)]\tLoss: 0.090577\n",
            "Train Epoch: 1 [55040/60000 (92%)]\tLoss: 0.092121\n",
            "Train Epoch: 1 [55680/60000 (93%)]\tLoss: 0.091215\n",
            "Train Epoch: 1 [56320/60000 (94%)]\tLoss: 0.086935\n",
            "Train Epoch: 1 [56960/60000 (95%)]\tLoss: 0.091941\n",
            "Train Epoch: 1 [57600/60000 (96%)]\tLoss: 0.093001\n",
            "Train Epoch: 1 [58240/60000 (97%)]\tLoss: 0.083498\n",
            "Train Epoch: 1 [58880/60000 (98%)]\tLoss: 0.092338\n",
            "Train Epoch: 1 [59520/60000 (99%)]\tLoss: 0.092808\n"
          ]
        },
        {
          "name": "stderr",
          "output_type": "stream",
          "text": [
            "<ipython-input-53-3f9466a8b734>:8: UserWarning: Using a target size (torch.Size([320])) that is different to the input size (torch.Size([500, 1])). This will likely lead to incorrect results due to broadcasting. Please ensure they have the same size.\n",
            "  loss = F.mse_loss(output, mod_target)\n",
            "<ipython-input-53-3f9466a8b734>:32: UserWarning: Using a target size (torch.Size([10000])) that is different to the input size (torch.Size([15625, 1])). This will likely lead to incorrect results due to broadcasting. Please ensure they have the same size.\n",
            "  test_loss += F.mse_loss(output, mod_target, size_average=False).item()\n"
          ]
        },
        {
          "name": "stdout",
          "output_type": "stream",
          "text": [
            "\n",
            "Test set: Avg. loss: 13570.0949\n",
            "\n",
            "Train Epoch: 2 [0/60000 (0%)]\tLoss: 0.091265\n",
            "Train Epoch: 2 [640/60000 (1%)]\tLoss: 0.091871\n",
            "Train Epoch: 2 [1280/60000 (2%)]\tLoss: 0.088001\n",
            "Train Epoch: 2 [1920/60000 (3%)]\tLoss: 0.094499\n",
            "Train Epoch: 2 [2560/60000 (4%)]\tLoss: 0.094555\n",
            "Train Epoch: 2 [3200/60000 (5%)]\tLoss: 0.090020\n",
            "Train Epoch: 2 [3840/60000 (6%)]\tLoss: 0.096673\n",
            "Train Epoch: 2 [4480/60000 (7%)]\tLoss: 0.092538\n",
            "Train Epoch: 2 [5120/60000 (9%)]\tLoss: 0.091724\n",
            "Train Epoch: 2 [5760/60000 (10%)]\tLoss: 0.090530\n",
            "Train Epoch: 2 [6400/60000 (11%)]\tLoss: 0.093290\n",
            "Train Epoch: 2 [7040/60000 (12%)]\tLoss: 0.092876\n",
            "Train Epoch: 2 [7680/60000 (13%)]\tLoss: 0.092656\n",
            "Train Epoch: 2 [8320/60000 (14%)]\tLoss: 0.087915\n",
            "Train Epoch: 2 [8960/60000 (15%)]\tLoss: 0.093830\n",
            "Train Epoch: 2 [9600/60000 (16%)]\tLoss: 0.096081\n",
            "Train Epoch: 2 [10240/60000 (17%)]\tLoss: 0.092139\n",
            "Train Epoch: 2 [10880/60000 (18%)]\tLoss: 0.089592\n",
            "Train Epoch: 2 [11520/60000 (19%)]\tLoss: 0.088444\n",
            "Train Epoch: 2 [12160/60000 (20%)]\tLoss: 0.093300\n",
            "Train Epoch: 2 [12800/60000 (21%)]\tLoss: 0.095229\n",
            "Train Epoch: 2 [13440/60000 (22%)]\tLoss: 0.088223\n",
            "Train Epoch: 2 [14080/60000 (23%)]\tLoss: 0.090121\n",
            "Train Epoch: 2 [14720/60000 (25%)]\tLoss: 0.088231\n",
            "Train Epoch: 2 [15360/60000 (26%)]\tLoss: 0.092660\n",
            "Train Epoch: 2 [16000/60000 (27%)]\tLoss: 0.092686\n",
            "Train Epoch: 2 [16640/60000 (28%)]\tLoss: 0.089328\n",
            "Train Epoch: 2 [17280/60000 (29%)]\tLoss: 0.089607\n",
            "Train Epoch: 2 [17920/60000 (30%)]\tLoss: 0.097276\n",
            "Train Epoch: 2 [18560/60000 (31%)]\tLoss: 0.089975\n",
            "Train Epoch: 2 [19200/60000 (32%)]\tLoss: 0.092952\n",
            "Train Epoch: 2 [19840/60000 (33%)]\tLoss: 0.094432\n",
            "Train Epoch: 2 [20480/60000 (34%)]\tLoss: 0.091807\n",
            "Train Epoch: 2 [21120/60000 (35%)]\tLoss: 0.089533\n",
            "Train Epoch: 2 [21760/60000 (36%)]\tLoss: 0.094038\n",
            "Train Epoch: 2 [22400/60000 (37%)]\tLoss: 0.092548\n",
            "Train Epoch: 2 [23040/60000 (38%)]\tLoss: 0.092505\n",
            "Train Epoch: 2 [23680/60000 (39%)]\tLoss: 0.094875\n",
            "Train Epoch: 2 [24320/60000 (41%)]\tLoss: 0.089956\n",
            "Train Epoch: 2 [24960/60000 (42%)]\tLoss: 0.092395\n",
            "Train Epoch: 2 [25600/60000 (43%)]\tLoss: 0.092915\n",
            "Train Epoch: 2 [26240/60000 (44%)]\tLoss: 0.091539\n",
            "Train Epoch: 2 [26880/60000 (45%)]\tLoss: 0.092718\n",
            "Train Epoch: 2 [27520/60000 (46%)]\tLoss: 0.090111\n",
            "Train Epoch: 2 [28160/60000 (47%)]\tLoss: 0.088602\n",
            "Train Epoch: 2 [28800/60000 (48%)]\tLoss: 0.090615\n",
            "Train Epoch: 2 [29440/60000 (49%)]\tLoss: 0.091057\n",
            "Train Epoch: 2 [30080/60000 (50%)]\tLoss: 0.089920\n",
            "Train Epoch: 2 [30720/60000 (51%)]\tLoss: 0.095301\n",
            "Train Epoch: 2 [31360/60000 (52%)]\tLoss: 0.089311\n",
            "Train Epoch: 2 [32000/60000 (53%)]\tLoss: 0.089559\n",
            "Train Epoch: 2 [32640/60000 (54%)]\tLoss: 0.093987\n",
            "Train Epoch: 2 [33280/60000 (55%)]\tLoss: 0.092707\n",
            "Train Epoch: 2 [33920/60000 (57%)]\tLoss: 0.090211\n",
            "Train Epoch: 2 [34560/60000 (58%)]\tLoss: 0.091850\n",
            "Train Epoch: 2 [35200/60000 (59%)]\tLoss: 0.090297\n",
            "Train Epoch: 2 [35840/60000 (60%)]\tLoss: 0.093339\n",
            "Train Epoch: 2 [36480/60000 (61%)]\tLoss: 0.086649\n",
            "Train Epoch: 2 [37120/60000 (62%)]\tLoss: 0.083943\n",
            "Train Epoch: 2 [37760/60000 (63%)]\tLoss: 0.089545\n",
            "Train Epoch: 2 [38400/60000 (64%)]\tLoss: 0.087219\n",
            "Train Epoch: 2 [39040/60000 (65%)]\tLoss: 0.093158\n",
            "Train Epoch: 2 [39680/60000 (66%)]\tLoss: 0.092516\n",
            "Train Epoch: 2 [40320/60000 (67%)]\tLoss: 0.095257\n",
            "Train Epoch: 2 [40960/60000 (68%)]\tLoss: 0.092604\n",
            "Train Epoch: 2 [41600/60000 (69%)]\tLoss: 0.089213\n",
            "Train Epoch: 2 [42240/60000 (70%)]\tLoss: 0.092679\n",
            "Train Epoch: 2 [42880/60000 (71%)]\tLoss: 0.092893\n",
            "Train Epoch: 2 [43520/60000 (72%)]\tLoss: 0.094158\n",
            "Train Epoch: 2 [44160/60000 (74%)]\tLoss: 0.089507\n",
            "Train Epoch: 2 [44800/60000 (75%)]\tLoss: 0.093877\n",
            "Train Epoch: 2 [45440/60000 (76%)]\tLoss: 0.093382\n",
            "Train Epoch: 2 [46080/60000 (77%)]\tLoss: 0.092749\n",
            "Train Epoch: 2 [46720/60000 (78%)]\tLoss: 0.094691\n",
            "Train Epoch: 2 [47360/60000 (79%)]\tLoss: 0.087295\n",
            "Train Epoch: 2 [48000/60000 (80%)]\tLoss: 0.090025\n",
            "Train Epoch: 2 [48640/60000 (81%)]\tLoss: 0.091937\n",
            "Train Epoch: 2 [49280/60000 (82%)]\tLoss: 0.093579\n",
            "Train Epoch: 2 [49920/60000 (83%)]\tLoss: 0.090659\n",
            "Train Epoch: 2 [50560/60000 (84%)]\tLoss: 0.091691\n",
            "Train Epoch: 2 [51200/60000 (85%)]\tLoss: 0.090090\n",
            "Train Epoch: 2 [51840/60000 (86%)]\tLoss: 0.088571\n",
            "Train Epoch: 2 [52480/60000 (87%)]\tLoss: 0.095586\n",
            "Train Epoch: 2 [53120/60000 (88%)]\tLoss: 0.092602\n",
            "Train Epoch: 2 [53760/60000 (90%)]\tLoss: 0.092060\n",
            "Train Epoch: 2 [54400/60000 (91%)]\tLoss: 0.087034\n",
            "Train Epoch: 2 [55040/60000 (92%)]\tLoss: 0.095252\n",
            "Train Epoch: 2 [55680/60000 (93%)]\tLoss: 0.095818\n",
            "Train Epoch: 2 [56320/60000 (94%)]\tLoss: 0.090174\n",
            "Train Epoch: 2 [56960/60000 (95%)]\tLoss: 0.092084\n",
            "Train Epoch: 2 [57600/60000 (96%)]\tLoss: 0.090467\n",
            "Train Epoch: 2 [58240/60000 (97%)]\tLoss: 0.091004\n",
            "Train Epoch: 2 [58880/60000 (98%)]\tLoss: 0.096553\n",
            "Train Epoch: 2 [59520/60000 (99%)]\tLoss: 0.091048\n",
            "\n",
            "Test set: Avg. loss: 13429.2793\n",
            "\n",
            "Train Epoch: 3 [0/60000 (0%)]\tLoss: 0.090272\n",
            "Train Epoch: 3 [640/60000 (1%)]\tLoss: 0.091515\n",
            "Train Epoch: 3 [1280/60000 (2%)]\tLoss: 0.088095\n",
            "Train Epoch: 3 [1920/60000 (3%)]\tLoss: 0.084374\n",
            "Train Epoch: 3 [2560/60000 (4%)]\tLoss: 0.091205\n",
            "Train Epoch: 3 [3200/60000 (5%)]\tLoss: 0.090074\n",
            "Train Epoch: 3 [3840/60000 (6%)]\tLoss: 0.089921\n",
            "Train Epoch: 3 [4480/60000 (7%)]\tLoss: 0.090841\n",
            "Train Epoch: 3 [5120/60000 (9%)]\tLoss: 0.090068\n",
            "Train Epoch: 3 [5760/60000 (10%)]\tLoss: 0.091837\n",
            "Train Epoch: 3 [6400/60000 (11%)]\tLoss: 0.092090\n",
            "Train Epoch: 3 [7040/60000 (12%)]\tLoss: 0.093445\n",
            "Train Epoch: 3 [7680/60000 (13%)]\tLoss: 0.093904\n",
            "Train Epoch: 3 [8320/60000 (14%)]\tLoss: 0.090068\n",
            "Train Epoch: 3 [8960/60000 (15%)]\tLoss: 0.092014\n",
            "Train Epoch: 3 [9600/60000 (16%)]\tLoss: 0.094791\n",
            "Train Epoch: 3 [10240/60000 (17%)]\tLoss: 0.093343\n",
            "Train Epoch: 3 [10880/60000 (18%)]\tLoss: 0.093156\n",
            "Train Epoch: 3 [11520/60000 (19%)]\tLoss: 0.084921\n",
            "Train Epoch: 3 [12160/60000 (20%)]\tLoss: 0.090329\n",
            "Train Epoch: 3 [12800/60000 (21%)]\tLoss: 0.090657\n",
            "Train Epoch: 3 [13440/60000 (22%)]\tLoss: 0.090393\n",
            "Train Epoch: 3 [14080/60000 (23%)]\tLoss: 0.089700\n",
            "Train Epoch: 3 [14720/60000 (25%)]\tLoss: 0.091828\n",
            "Train Epoch: 3 [15360/60000 (26%)]\tLoss: 0.090219\n",
            "Train Epoch: 3 [16000/60000 (27%)]\tLoss: 0.090995\n",
            "Train Epoch: 3 [16640/60000 (28%)]\tLoss: 0.088961\n",
            "Train Epoch: 3 [17280/60000 (29%)]\tLoss: 0.090434\n",
            "Train Epoch: 3 [17920/60000 (30%)]\tLoss: 0.089027\n",
            "Train Epoch: 3 [18560/60000 (31%)]\tLoss: 0.095211\n",
            "Train Epoch: 3 [19200/60000 (32%)]\tLoss: 0.091210\n",
            "Train Epoch: 3 [19840/60000 (33%)]\tLoss: 0.090513\n",
            "Train Epoch: 3 [20480/60000 (34%)]\tLoss: 0.087159\n",
            "Train Epoch: 3 [21120/60000 (35%)]\tLoss: 0.091041\n",
            "Train Epoch: 3 [21760/60000 (36%)]\tLoss: 0.090037\n",
            "Train Epoch: 3 [22400/60000 (37%)]\tLoss: 0.094276\n",
            "Train Epoch: 3 [23040/60000 (38%)]\tLoss: 0.088422\n",
            "Train Epoch: 3 [23680/60000 (39%)]\tLoss: 0.087747\n",
            "Train Epoch: 3 [24320/60000 (41%)]\tLoss: 0.093020\n",
            "Train Epoch: 3 [24960/60000 (42%)]\tLoss: 0.092395\n",
            "Train Epoch: 3 [25600/60000 (43%)]\tLoss: 0.093956\n",
            "Train Epoch: 3 [26240/60000 (44%)]\tLoss: 0.090853\n",
            "Train Epoch: 3 [26880/60000 (45%)]\tLoss: 0.092888\n",
            "Train Epoch: 3 [27520/60000 (46%)]\tLoss: 0.093566\n",
            "Train Epoch: 3 [28160/60000 (47%)]\tLoss: 0.091590\n",
            "Train Epoch: 3 [28800/60000 (48%)]\tLoss: 0.091239\n",
            "Train Epoch: 3 [29440/60000 (49%)]\tLoss: 0.093813\n",
            "Train Epoch: 3 [30080/60000 (50%)]\tLoss: 0.091447\n",
            "Train Epoch: 3 [30720/60000 (51%)]\tLoss: 0.089323\n",
            "Train Epoch: 3 [31360/60000 (52%)]\tLoss: 0.091099\n",
            "Train Epoch: 3 [32000/60000 (53%)]\tLoss: 0.093842\n",
            "Train Epoch: 3 [32640/60000 (54%)]\tLoss: 0.091737\n",
            "Train Epoch: 3 [33280/60000 (55%)]\tLoss: 0.095963\n",
            "Train Epoch: 3 [33920/60000 (57%)]\tLoss: 0.088136\n",
            "Train Epoch: 3 [34560/60000 (58%)]\tLoss: 0.090409\n",
            "Train Epoch: 3 [35200/60000 (59%)]\tLoss: 0.093143\n",
            "Train Epoch: 3 [35840/60000 (60%)]\tLoss: 0.094382\n",
            "Train Epoch: 3 [36480/60000 (61%)]\tLoss: 0.090624\n",
            "Train Epoch: 3 [37120/60000 (62%)]\tLoss: 0.092649\n",
            "Train Epoch: 3 [37760/60000 (63%)]\tLoss: 0.090165\n",
            "Train Epoch: 3 [38400/60000 (64%)]\tLoss: 0.091153\n",
            "Train Epoch: 3 [39040/60000 (65%)]\tLoss: 0.087687\n",
            "Train Epoch: 3 [39680/60000 (66%)]\tLoss: 0.086661\n",
            "Train Epoch: 3 [40320/60000 (67%)]\tLoss: 0.095592\n",
            "Train Epoch: 3 [40960/60000 (68%)]\tLoss: 0.090427\n",
            "Train Epoch: 3 [41600/60000 (69%)]\tLoss: 0.084332\n",
            "Train Epoch: 3 [42240/60000 (70%)]\tLoss: 0.093250\n",
            "Train Epoch: 3 [42880/60000 (71%)]\tLoss: 0.090069\n",
            "Train Epoch: 3 [43520/60000 (72%)]\tLoss: 0.087235\n",
            "Train Epoch: 3 [44160/60000 (74%)]\tLoss: 0.090244\n",
            "Train Epoch: 3 [44800/60000 (75%)]\tLoss: 0.090760\n",
            "Train Epoch: 3 [45440/60000 (76%)]\tLoss: 0.090474\n",
            "Train Epoch: 3 [46080/60000 (77%)]\tLoss: 0.090506\n",
            "Train Epoch: 3 [46720/60000 (78%)]\tLoss: 0.090741\n",
            "Train Epoch: 3 [47360/60000 (79%)]\tLoss: 0.087120\n",
            "Train Epoch: 3 [48000/60000 (80%)]\tLoss: 0.091602\n",
            "Train Epoch: 3 [48640/60000 (81%)]\tLoss: 0.091184\n",
            "Train Epoch: 3 [49280/60000 (82%)]\tLoss: 0.089786\n",
            "Train Epoch: 3 [49920/60000 (83%)]\tLoss: 0.092197\n",
            "Train Epoch: 3 [50560/60000 (84%)]\tLoss: 0.091685\n",
            "Train Epoch: 3 [51200/60000 (85%)]\tLoss: 0.093758\n",
            "Train Epoch: 3 [51840/60000 (86%)]\tLoss: 0.089588\n",
            "Train Epoch: 3 [52480/60000 (87%)]\tLoss: 0.088065\n",
            "Train Epoch: 3 [53120/60000 (88%)]\tLoss: 0.090943\n",
            "Train Epoch: 3 [53760/60000 (90%)]\tLoss: 0.091363\n",
            "Train Epoch: 3 [54400/60000 (91%)]\tLoss: 0.093486\n",
            "Train Epoch: 3 [55040/60000 (92%)]\tLoss: 0.093239\n",
            "Train Epoch: 3 [55680/60000 (93%)]\tLoss: 0.095634\n",
            "Train Epoch: 3 [56320/60000 (94%)]\tLoss: 0.092058\n",
            "Train Epoch: 3 [56960/60000 (95%)]\tLoss: 0.088180\n",
            "Train Epoch: 3 [57600/60000 (96%)]\tLoss: 0.094350\n",
            "Train Epoch: 3 [58240/60000 (97%)]\tLoss: 0.092531\n",
            "Train Epoch: 3 [58880/60000 (98%)]\tLoss: 0.091334\n",
            "Train Epoch: 3 [59520/60000 (99%)]\tLoss: 0.092736\n",
            "\n",
            "Test set: Avg. loss: 13564.3680\n",
            "\n"
          ]
        }
      ],
      "source": [
        "def train(epoch):\n",
        "  network.train()\n",
        "  for batch_idx, (data, target) in enumerate(train_loader):\n",
        "    mod_data, mod_target = convert(data, batch_size_train)\n",
        "    optimizer.zero_grad()\n",
        "    output = network(mod_data)\n",
        "    #print(output)\n",
        "    loss = F.mse_loss(output, mod_target)\n",
        "    loss.backward()\n",
        "    optimizer.step()\n",
        "    if batch_idx % log_interval == 0:\n",
        "      print('Train Epoch: {} [{}/{} ({:.0f}%)]\\tLoss: {:.6f}'.format(\n",
        "        epoch, batch_idx * len(data), len(train_loader.dataset),\n",
        "        100. * batch_idx / len(train_loader), loss.item()))\n",
        "      train_losses.append(loss.item())\n",
        "      train_counter.append(\n",
        "        (batch_idx*64) + ((epoch-1)*len(train_loader.dataset)))\n",
        "      torch.save(network.state_dict(), 'model.pth')\n",
        "      torch.save(optimizer.state_dict(), 'optimizer.pth')\n",
        "\n",
        "def test():\n",
        "  network.eval()\n",
        "  test_loss = 0\n",
        "  correct = 0\n",
        "  with torch.no_grad():\n",
        "    for data, target in test_loader:\n",
        "      #print(data.shape, target.shape)\n",
        "      mod_data, mod_target = convert(data, batch_size_test)\n",
        "      #print(mod_data.shape, mod_target.shape)\n",
        "      output = network(mod_data)\n",
        "      #print(output.shape, mod_target.shape)\n",
        "      test_loss += F.mse_loss(output, mod_target, size_average=False).item()\n",
        "      #pred = output.data.max(1, keepdim=True)[1]\n",
        "      #correct += pred.eq(target.data.view_as(pred)).sum()\n",
        "  test_loss /= len(test_loader.dataset)\n",
        "  test_losses.append(test_loss)\n",
        "  print('\\nTest set: Avg. loss: {:.4f}\\n'.format(\n",
        "    test_loss))\n",
        "  \n",
        "\n",
        "#test()\n",
        "for epoch in range(1, n_epochs + 1):\n",
        "  train(epoch)\n",
        "  test()"
      ]
    },
    {
      "cell_type": "code",
      "execution_count": null,
      "metadata": {
        "colab": {
          "base_uri": "https://localhost:8080/"
        },
        "id": "h70h7aTVFnwz",
        "outputId": "cd12de0c-f4e8-4c0d-a746-f6df6e59b802"
      },
      "outputs": [
        {
          "name": "stdout",
          "output_type": "stream",
          "text": [
            "odict_keys(['conv1.weight', 'conv1.bias', 'conv2.weight', 'conv2.bias', 'fc1.weight', 'fc1.bias', 'fc2.weight', 'fc2.bias'])\n",
            "torch.Size([32, 1, 3, 3])\n",
            "torch.Size([64, 32, 3, 3])\n"
          ]
        }
      ],
      "source": [
        "\n",
        "\n",
        "# Load the .pth file for debugging\n",
        "checkpoint = torch.load(\"model.pth\")\n",
        "\n",
        "# Print the keys of the checkpoint dictionary\n",
        "print(checkpoint.keys())\n",
        "\n",
        "# Access the model parameters\n",
        "print(checkpoint[\"conv1.weight\"].shape)\n",
        "print(checkpoint[\"conv2.weight\"].shape)\n",
        "\n",
        "\n"
      ]
    },
    {
      "cell_type": "code",
      "execution_count": null,
      "metadata": {
        "colab": {
          "base_uri": "https://localhost:8080/",
          "height": 307
        },
        "id": "Nu5L8_CFWTXG",
        "outputId": "ffdd4068-8c97-4218-f429-fe1f92d9c7c6"
      },
      "outputs": [
        {
          "data": {
            "text/plain": [
              "Text(0, 0.5, 'mean square error loss')"
            ]
          },
          "execution_count": 55,
          "metadata": {},
          "output_type": "execute_result"
        },
        {
          "data": {
            "image/png": "[encoded data removed]",
            "text/plain": [
              "<Figure size 432x288 with 1 Axes>"
            ]
          },
          "metadata": {},
          "output_type": "display_data"
        }
      ],
      "source": [
        "fig = plt.figure()\n",
        "plt.plot(train_counter, train_losses, color='blue')\n",
        "plt.scatter(test_counter, test_losses, color='red')\n",
        "plt.legend(['Train Loss', 'Test Loss'], loc='upper right')\n",
        "plt.xlabel('number of training examples seen')\n",
        "plt.ylabel('mean square error loss')\n"
      ]
    },
    {
      "cell_type": "markdown",
      "metadata": {
        "id": "aL9c7L8hX3a_"
      },
      "source": [
        "![image.png](data:image/png;base64,iVBORw0KGgoAAAANSUhEUgAAAZgAAAEPCAYAAAB/WNKuAAAgAElEQVR4nO3deVQUZ7oG8KdZgqMijGsURllFoGka2aIJKnpBXIJX1CTuDlE0iybHRDNeb6JJNDpjxo0sDicuiRI1GreIo8QTzWjcgusVxyVsghqDKAgosvR3/yD0AIJWNxRVtM/vnBzTRVd/b1clvL7fW/WVRgghQERE1MislA6AiIgsExMMERHJggmGiIhkodoEExsbi44dO0Kr1T72vVlZWRgwYAB0Oh369euHnJycJoiQiIgeRbUJZtKkSdi7d6+k97799tuYMGECzp07h/feew9z5syROToiInoc1SaYPn36oG3btjW2paWlISoqCoGBgQgLC8PFixcBABcuXED//v0BAOHh4di5c2eTx0tERDWpNsHUJS4uDvHx8Th58iQ+/vhjvPrqqwAAf39/bNu2DQCwfft2FBYWIi8vT8lQiYieeDZKByBVUVERjhw5glGjRhm3PXjwAADw8ccf4/XXX8e6devQp08fODk5wdraWqlQiYgIzSjBGAwGODo64syZMw/9rEuXLsYKpqioCN9++y0cHR2bOkQiIqqm2UyRtWnTBq6urtiyZQsAQAiBs2fPAgBu3boFg8EAAFi0aBFiY2MVi5OIiCqpNsGMHj0avXr1wqVLl+Ds7IzVq1cjMTERq1evhr+/P3x9fY3N/IMHD8LLywvdu3fHzZs3MXfuXIWjJyIiDdciIyIiOai2giEiouZNlU3+9u3bw8XFRekwiIiajaysLOTm5iodRg2qTDAuLi5ISUlROgwiomYjKChI6RAewikyIiKSBRMMERHJggmGiIhkocoeDBFZjrKyMuTk5KCkpETpUCxCixYt4OzsDFtbW6VDeSwmGCKSVU5ODuzt7eHi4gKNRqN0OM2aEAJ5eXnIycmBq6ur0uE8FqfIiEhWJSUlaNeuHZNLI9BoNGjXrl2zqQaZYIhIdkwujac5HUuLSzAHDgCXLysdBRERWVyCmTwZ+OtflY6CiNQiLy8Per0eer0eTz/9NJycnIyvS0tLH7lvSkoKZsyYYdJ4Li4uuHXrVkNCthgW1+QvLa38h4gIANq1a2d8jtT8+fPRunVrvP3228afl5eXw8am7l+FQUFBqrxDvrlokgomPz8fI0eORI8ePeDt7Y2jR4/KNpYQQEWFbB9PRBZg0qRJmDZtGkJDQzF79mycOHECvXr1QkBAAHr37o1Lly4BqHwUyNChQwFUJqfY2Fj069cPbm5uWLlypeTxMjMz0b9/f+h0OgwYMABXr14FAGzZsgVarRb+/v7o06cPACA1NRUhISHQ6/XQ6XS4cuVKI3/7ptMkFcwbb7yBqKgobN26FaWlpbh3755sYwkB/P7sMSJSmTffBOp4KG2D6PXA8uWm75eTk4MjR47A2toad+/exaFDh2BjY4P9+/fjf/7nf/Dtt98+tM/Fixdx4MABFBYWwsvLC6+88oqk+1GmT5+OiRMnYuLEiVizZg1mzJiBHTt24IMPPsC+ffvg5OSE/Px8AMCqVavwxhtvYOzYsSgtLUVFM/4bs+wJpqCgAP/617+wbt06AMBTTz2Fp556SrbxDAZWMET0eKNGjYK1tTWAyt9TEydOxJUrV6DRaFBWVlbnPkOGDIGdnR3s7OzQsWNH3Lx5E87Ozo8d6+jRo8bHuo8fPx6zZ88GADz77LOYNGkSXnjhBcTExAAAevXqhYULFyInJwcxMTHw9PRsjK+rCNkTTEZGBjp06IA///nPOHv2LAIDA7FixQq0atWqxvsSEhKQkJAAAA1acpoVDJF6mVNpyKX676B3330X4eHh2L59OzIzM9GvX78697GzszP+u7W1NcrLyxsUw6pVq3D8+HEkJSUhMDAQJ0+exJgxYxAaGoqkpCQMHjwY//jHP9C/f/8GjaMU2Xsw5eXlOHXqFF555RWcPn0arVq1wuLFix96X1xcHFJSUpCSkoIOHTqYPR4rGCIyVUFBAZycnADAONvSmHr37o1NmzYBABITExEWFgYASEtLQ2hoKD744AN06NAB2dnZSE9Ph5ubG2bMmIFhw4bh3LlzjR5PU5E9wTg7O8PZ2RmhoaEAgJEjR+LUqVOyjccKhohMNXv2bMyZMwcBAQENrkoAQKfTGX/3zZw5E/Hx8Vi7di10Oh3Wr1+PFStWAABmzZoFPz8/aLVa9O7dG/7+/vjmm2+g1Wqh1+tx/vx5TJgwocHxKEUjhBByDxIWFoYvvvgCXl5emD9/PoqLi7FkyZJ63x8UFGT2A8fatwdCQ4GkJHOjJaLG9O9//xve3t5Kh2FR6jqmDfm9KZcmuYosPj7eeEWEm5sb1q5dK9tYBgMrGCIiNWiSBKPX65sss/I+GCIidbC4pWJYwRARqYPFJRhWMERE6sAEQ0REsrC4BMMpMiIidbC41ZRZwRBRdXl5eRgwYAAA4Ndff4W1tbXxZu4TJ048dumqgwcP4qmnnkLv3r0f+tm6deuQkpKCTz75pPEDtwAWl2BYwRBRdY9brv9xDh48iNatW9eZYOjRLG6KjBUMUTOXmAi4uABWVpV/JiY2+hAnT55E3759ERgYiIEDB+LGjRsAgJUrV8LHxwc6nQ4vvfQSMjMzsWrVKixbtgx6vR6HDh2S9PlLly6FVquFVqvF8t8XYCsuLsaQIUPg7+8PrVaLzZs3AwD+8pe/GMc0JfE1BxZXwXCpGKJmLDERiIsDqh7pkZVV+RoAxo5tlCGEEJg+fTp27tyJDh06YPPmzZg7dy7WrFmDxYsXIyMjA3Z2dsjPz4ejoyOmTZtmUtVz8uRJrF27FsePH4cQAqGhoejbty/S09PRpUsXJP2+zEhBQQHy8vKwfft2XLx4ERqNxrhkv6WwuAqGi10SNWNz5/4nuVS5d69yeyN58OABzp8/j4iICOj1eixYsAA5OTkAKtcQGzt2LDZs2FDvUy4f5/Dhwxg+fDhatWqF1q1bIyYmBocOHYKfnx++//57vPPOOzh06BAcHBzg4OCAFi1a4OWXX8a2bdvQsmXLRvueamBxCYYVDFEz9vuTHiVvN4MQAr6+vjhz5gzOnDmD//u//0NycjIAICkpCa+99hpOnTqF4ODgRln4skr37t1x6tQp+Pn54X//93/xwQcfwMbGBidOnMDIkSOxe/duREVFNdp4amBxCYYVDFEz1rWradvNYGdnh9zcXOOj28vKypCamgqDwYDs7GyEh4fjr3/9KwoKClBUVAR7e3sUFhZK/vywsDDs2LED9+7dQ3FxMbZv346wsDBcv34dLVu2xLhx4zBr1iycOnUKRUVFKCgowODBg7Fs2TKcPXu20b6nGlhcDwZgBUPUbC1cWLMHAwAtW1ZubyRWVlbYunUrZsyYgYKCApSXl+PNN99E9+7dMW7cOBQUFEAIgRkzZsDR0RHPP/88Ro4ciZ07dyI+Pt74LJcq69atw44dO4yvjx07hkmTJiEkJAQAMHnyZAQEBGDfvn2YNWsWrKysYGtri88//xyFhYUYNmwYSkpKIITA0qVLG+17qkGTLNdvKnOXnRai8sITDw/gyhUZAiMik5m8XH9iYmXP5erVyspl4cJGa/BbCi7Xr4CqyoVTZETN2NixTCgWwqJ6MFW1GKfIiIiUZ1EJhhUMkTqpcCa+2WpOx9KiEgwrGCL1adGiBfLy8prVL0a1EkIgLy8PLVq0UDoUSSyqB1P13y8rGCL1cHZ2Rk5ODnJzc5UOxSK0aNECzs7OSochiUUlmKrKhRUMkXrY2trC1dVV6TBIARY5RcYKhohIeRaVYFjBEBGph0UlGFYwRETqwQRDRESyaJImv4uLC+zt7WFtbQ0bGxvZljPgFBkRkXo02VVkBw4cQPv27WUdgxUMEZF6WNQUGSsYIiL1aJIEo9FoEBkZicDAQCQkJNT5noSEBAQFBSEoKMjsG7JYwRARqUeTTJEdPnwYTk5O+O233xAREYEePXqgT58+Nd4TFxeHuN+fvR0UFGTWONVXohAC0GjMDpmIiBqoSSoYJycnAEDHjh0xfPhwnDhxQpZxqk+NsYohIlKW7AmmuLjY+LjR4uJiJCcnQ6vVyjJW9QqGfRgiImXJPkV28+ZNDB8+HABQXl6OMWPGICoqSpaxWMEQEamH7AnGzc0NZ8+elXsYAKxgiIjUxKIuU66eYFjBEBEpS3KC2bJli7GXsmDBAsTExODUqVOyBWYOTpEREamH5ATz4Ycfwt7eHocPH8b+/fvx8ssv45VXXpEzNpNxioyISD0kJxhra2sAQFJSEuLi4jBkyBCUlpbKFpg5WMEQEamH5ATj5OSEqVOnYvPmzRg8eDAePHgAg8rKBFYwRETqITnBfPPNNxg4cCD27dsHR0dH3L59G0uWLJEzNpOxyU9EpB6SL1O+ceMGhgwZAjs7Oxw8eBDnzp3DhAkT5IzNZNWrFlYwRETKklzBjBgxAtbW1vjll18QFxeH7OxsjBkzRs7YTMYKhohIPSQnGCsrK9jY2GDbtm2YPn06lixZghs3bsgZm8lYwRARqYfkBGNra4uNGzfiq6++wtChQwEAZWVlsgVmDlYwRETqITnBrF27FkePHsXcuXPh6uqKjIwMjB8/Xs7YTMaryIiI1ENygvHx8cHHH38MPz8/nD9/Hs7OznjnnXfkjM1kvA+GiEg9JF9FdvDgQUycOBEuLi4QQiA7OxtffvnlQw8OUxKnyIiI1ENygnnrrbeQnJwMLy8vAMDly5cxevRonDx5UrbgTMUmPxGRekieIisrKzMmFwDo3r07m/xERFQvyRVMUFAQJk+ejHHjxgEAEhMTERQUJFtg5mCTn4hIPSQnmM8//xyffvopVq5cCQAICwvDq6++Kltg5mCTn4hIPSQnGDs7O8ycORMzZ86UM54GYQVDRKQej00wfn5+0Gg09f783LlzjRpQQ7CCISJSj8cmmN27dzdFHI2CFQwRkXo8NsF069atKeJoFLyKjIhIPSRfptwc8D4YIiL1sKgEwwqGiEg9JCWYiooKjB07tkEDVVRUICAgwLgSsxzY5CciUg9JCcba2hpZWVkoLS01e6AVK1bA29vb7P2lYJOfiEg9JN8H4+bmhmeffRbR0dFo1aqVcbuU+2JycnKQlJSEuXPnYunSpeZFKgGnyIiI1ENygnF3d4e7uzsMBgMKCwtNGuTNN9/E3/72N5P3MxWb/ERE6iE5wcybNw8AUFRUBABo3bq1pP12796Njh07IjAwEAcPHqz3fQkJCUhISAAA5ObmSg2rBlYwRETqIfkqsvPnzyMgIAC+vr7w9fVFYGAgUlNTH7vfTz/9hF27dsHFxQUvvfQSfvjhB+OCmdXFxcUhJSUFKSkp6NChg2nf4nesYIiI1ENygomLi8PSpUuRlZWFrKws/P3vf8eUKVMeu9+iRYuQk5ODzMxMbNq0Cf3798eGDRsaFHR9WMEQEamH5ARTXFyM8PBw4+t+/fqhuLhYlqDMxavIiIjUw6SryD788EOMHz8eALBhwwa4ubmZNFi/fv3Qr18/0yI0Ae+DISJSD8kVzJo1a5Cbm4uYmBiMGDECt27dwpo1a+SMzWSsYIiI1ENSBVNRUYGYmBgcOHBA7ngahBUMEZF6SL6T38rKCgUFBXLH0yBs8hMRqYfkHkzr1q3h5+eHiIiIGnfyVz1CWQ04RUZEpB6SE0xMTAxiYmLkjKXBOEVGRKQeknsw69atU30PhhUMEZF6WFQPhhUMEZF6sAdDRESysKgeDK8iIyJSD8kJZuLEibh//z6uXr0KLy8vOWMyGxe7JCJSD8l38n/33XfQ6/WIiooCAJw5cwbR0dGyBWYOVjBEROohOcHMnz8fJ06cgKOjIwBAr9cjPT1dtsDMwSY/EZF6SE4wtra2cHBwqLmzleTdmwSb/ERE6iE5Q/j6+uLrr79GRUUFrly5gunTp6N3795yxmYyTpEREamH5AQTHx+P1NRU2NnZYcyYMXBwcMDy5cvljM1kbPITEamH5KvIWrZsiYULF2LhwoVyxtMgrGCIiNRDXU2UBmIFQ0SkHhaVYFjBEBGph8UmGFYwRETKkpxgLl++jAEDBkCr1QIAzp07hwULFsgWmDl4HwwRkXpITjBTpkzBokWLYGtrCwDQ6XTYtGmTbIGZgxUMEZF6SE4w9+7dQ0hISI1tNjaSL0JrEqxgiIjUQ3KCad++PdLS0qDRaAAAW7duRefOnWULzBxs8hMRqYfkEuTTTz9FXFwcLl68CCcnJ7i6uiIxMfGx+5WUlKBPnz548OABysvLMXLkSLz//vsNCro+VQnG2ppTZERESpP8yOTPPvsM+/fvR3FxMQwGA+zt7SUNYGdnhx9++AGtW7dGWVkZnnvuOQwaNAjPPPNMgwKvS1VSsbFhBUNEpDRJCcba2hqHDx8GgBpPs5RCo9GgdevWAICysjKUlZUZp9kaGysYIiL1kDxFFhAQgOjoaIwaNapGkpHylMuKigoEBgbil19+wWuvvYbQ0FDzon0MVjBEROohOcGUlJSgXbt2+OGHH4zbNBqNpARjbW2NM2fOID8/H8OHD8f58+eN99NUSUhIQEJCAgAgNzdXalg1VFUwNjasYIiIlCY5waxdu7bBgzk6OiI8PBx79+59KMHExcUhLi4OABAUFGTW51dPMKxgiIiUZVIFs3r1aqSmpqKkpMS4fc2aNY/cLzc3F7a2tnB0dMT9+/fx/fff45133jE/4keoPkXGCoaISFmS74MZP348fv31V+zbtw99+/ZFTk6OpCvJbty4gfDwcOh0OgQHByMiIgJDhw5tUND1YQVDRKQekiuYX375BVu2bMHOnTsxceJEjBkzBmFhYY/dT6fT4fTp0w0KUipWMERE6iG5gqlag8zR0RHnz59HQUEBfvvtN9kCMwcrGCIi9ZBcwcTFxeHOnTv48MMPER0djaKiInzwwQdyxmYyJhgiIvWQnGAmT54MAOjbty/S09NlC6ghqqbFbG2B8nJlYyEietJJTjD1VSvvvfdeowXTUFUVjJ0dUFambCxERE86yQmm+t37JSUl2L17N7y9vWUJylxVFQwTDBGR8iQnmLfeeqvG67fffhsDBw5s9IAaonoFU1iobCxERE86yVeR1Xbv3j3k5OQ0ZiwNxikyIiL1kFzB+Pn5GVdBrqioQG5urqr6L8B/psieegooLVU2FiKiJ53kBLN79+7/7GRjg06dOqnukclVFYytLSsYIiKlSc4QtZeFuXv3bo3Xbdu2bZyIGsBgAKysWMEQEamB5ATTs2dPZGdn449//COEEMjPz0fXrl0BVC7br4Z7Y4QANBpWMEREaiC5yR8REYHvvvsOt27dQl5eHnbv3o3IyEhkZGSoIrkAlQmmqoJhgiEiUpbkBHPs2DEMHjzY+HrQoEE4cuSILEGZy2D4TwXDKTIiImVJniLr0qULFixYgHHjxgEAEhMT0aVLF9kCM0fVFBkrGCIi5UmuYDZu3Ijc3FwMHz4cw4cPR25uLjZu3ChnbCaravKzgiEiUp7kCqZt27ZYsWIFgMr7YIqLi9GmTRvZAjNH7SZ/1WsiImp6kiuYMWPG4O7duyguLoafnx98fHywZMkSOWMzWfUmvxBcsp+ISEmSE8yFCxfQpk0b7NixA4MGDUJGRgbWr18vZ2wmq97kB9iHISJSkuQEU1ZWhrKyMuzYsQPR0dGwtbU1Lh2jFtUrGIAJhohISZITzNSpU+Hi4oLi4mL06dMHWVlZquvB1K5g2OgnIlKO5AQzY8YMXLt2DXv27IFGo0HXrl1x4MABOWMzWfUmP8AKhohISWYv16/RaFS52GX1KTJWMEREyjE7wagRm/xEROphUQmGTX4iIvUwaY7ryJEjyMzMRHl5uXHbhAkTHrlPdnY2JkyYgJs3b0Kj0SAuLg5vvPGGedE+Bpv8RETqITnBjB8/HmlpadDr9bC2tgZQ2Yd5XIKxsbHB3//+d/Ts2ROFhYUIDAxEREQEfHx8GhZ5HaqvRQawgiEiUpLkBJOSkoILFy6YfO9L586d0blzZwCVDy3z9vbGtWvXZEkw1dciA1jBEBEpSXIPRqvV4tdff23QYJmZmTh9+jRCQ0Mf+llCQgKCgoIQFBSE3Nxcsz6flykTEamH5Arm1q1b8PHxQUhICOzs7Izbd+3aJWn/oqIijBgxAsuXL6/zBs24uDjExcUBAIKCgqSGVQMvUyYiUg/JCWb+/PlmD1JWVoYRI0Zg7NixiImJMftzHoeXKRMRqYfkBNO3b1+zBhBC4OWXX4a3tzdmzpxp1mdIH4tNfiIitTDpkcnBwcFo3bo1nnrqKVhbW0tai+ynn37C+vXr8cMPP0Cv10Ov12PPnj0NCro+bPITEamH5Arm9ddfx6ZNmzBq1CikpKTgq6++wuXLlx+733PPPQchRIOClIoVDBGReph0J7+HhwcqKipgbW2NP//5z9i7d69ccZmlqsnPCoaISHmSK5iWLVuitLQUer0es2fPRufOnWEwGOSMzWRs8hMRqYfkCmb9+vUwGAz45JNP0KpVK2RnZ+Pbb7+VMzaT1Z4iYwVDRKQcyRVMt27dcP/+fdy4cQPz5s2TMyaz1W7ys4IhIlKO5Armu+++g16vR1RUFADgzJkziI6Oli0wc7DJT0SkHpITzPz583HixAk4OjoCAPR6PTIyMmQLzBxs8hMRqYfkBGNrawsHB4ca20xd+FJubPITEamH5ATj6+uLr7/+GhUVFbhy5QqmT5+O3r17yxmbyaqmyDQawMaGFQwRkZIkJ5j4+HikpqbCzs4Oo0ePRps2bbB8+XI5YzNZVZMfqKxiWMEQESnHpPtgFi5ciIULF8oZT4NUVTBAZaOfFQwRkXJMeuDYRx999NAjk8+dOydLYOaoavIDrGCIiJQmOcGMHTsWS5YsgZ+fH6ysTFphpslUNfmBygqGCYaISDmSE0yHDh1Ud99LbdWnyGxtOUVGRKQkyQnm/fffx+TJkzFgwIAaT7SU8wFipmKTn4hIPSQnmLVr1+LixYsoKyszTpFpNBpVJRg2+YmI1ENygvn5559x6dIlOWNpMDb5iYjUQ3K3vnfv3rhw4YKcsTRY7SY/KxgiIuVIrmCOHTsGvV4PV1dX2NnZQQgBjUajusuUqzf5WcEQESlHcoJR29Mr61K9yc/LlImIlGXS82DUrnYFU1iobDxERE8ydd4xaabqTf4WLYD795WNh4joSWZRCaZ6k9/eHigqUjYeIqInmUUlmOpTZPb2nCIjIlKS7AkmNjYWHTt2hFarlXuoGk3+1q2ZYIiIlCR7gpk0aVKTXYFWu4K5fx+otvAzERE1IdkTTJ8+fdC2bVu5hwFQs8lvb1/5Z3FxkwxNRES1qKYHk5CQgKCgIAQFBSE3N9esz6jd5Ac4TUZEpBTVJJi4uDikpKQgJSUFHTp0MOszak+RAUwwRERKUU2CaQy1m/wAEwwRkVIsKsHUVcHwXhgiImXInmBGjx6NXr164dKlS3B2dsbq1atlG6uuJj8rGCIiZUhei8xcGzdulHsIIzb5iYjUw2KnyNiDISJSlkUlmOpNflYwRETKsqgEU72CadWq8t/Z5CciUobFJZiqCkaj4XpkRERKsqgEU73JDzDBEBEpyaISTPUpMoBL9hMRKcmiEkz1Jj/Ah44RESnJohIMKxgiIvWwuARTu4JhgiEiUoZFJZi6mvx37yoXDxHRk8yiEkztCubpp4Fff63cTkRETcuiEkztCqZrV+DePeD2beViIiJ6UllUgqnd5O/atfLPq1eViYeI6ElmcQmm+hQZEwwRkXIsKsHUNUUGANnZysRDRPQks6gEU7uC6dABsLNjBUNEpASLSjC1KxiNprKKYYIhImp6FpVgajf5ASYYIiKlWFyCsar1jbp2BbKylImHiOhJZlEJpvYUGQD4+ADXrwPXrikTExHRk8qiEkxdFUxEROWf33/f9PEQET3JLCrB1FXB6HRAp07Avn3KxERE9KSyqARTV5NfowEiIysrmAcPlImLiOhJ1CQJZu/evfDy8oKHhwcWL14szyCJiRCFhbBasQxwcQESE40/Gj8eyMsDPvpInqGpHomJlefCyuqhc0IK4nlRH0s9J0Jm5eXlws3NTaSlpYkHDx4InU4nUlNTH7lPYGCgaYNs2CBEy5aiFQrFTHwsBCBEy5aV2383dqwQNjZCfPCBENnZQhgM5nwbkuz3cyIqC8s6zwkpgOdFfRrpnJj8e7MJaISQdzH7o0ePYv78+dj3exNk0aJFAIA5c+bUu09QUBBSUlKkD+LiAmRlQQOuy0+P5uOjdAQKu3IZKCt7eLutLeDZvenjoRrn5Ef0RXvkVW7v1g3IzJT8MSb/3mwCNnIPcO3aNfzpT38yvnZ2dsbx48cfel9CQgISEhIAALm5uaYNwjspSQIPDyYYXDhb9/YyAD5MMIqodk6sUfGf7Rbwe032BCNVXFwc4uLiAFRmYpP8fjelQK0Ov4l/A6BG9HtV+RCeE2W5zKr/vGwZ1fTxUP3npGq13mZM9ia/k5MTsqstZ5yTkwMnJ6fGHWThQqBly5rbWras3E7K4DlRJ54X9bHkcyJ3k6esrEy4urqK9PR0Y5P//Pnzj9zHrGbVhg1CdOsmhEZT+SeblsrjOVEnnhf1aYRz8kQ2+QFgz549ePPNN1FRUYHY2FjMnTv3ke9XY7OKiEjN1Ph7s0l6MIMHD8bgwYObYigiIlIJi7qTn4iI1IMJhoiIZMEEQ0REsmCCISIiWTTJVWSm6tChA7p162bWvrdu3UL79u0bOaLGxzgbX3OJlXE2ruYSJyBvrFlZWaavgiIzVSaYhlDjpXp1YZyNr7nEyjgbV3OJE2hesTYGTpEREZEsmGCIiEgW1vPnz5+vdBCNLTAwUOkQJGGcja+5xMo4G1dziRNoXrE2lMX1YIiISB04RUZERLJggiEiIllYTILZu3cvvLy84OHhgcWLFzfJmNnZ2QgPD4ePjw98fX2xYsUKAMD8+fPh5CHGSk8AABANSURBVOQEvV4PvV6PPXv2GPdZtGgRPDw84OXlZXyM9KPiz8jIQGhoKDw8PPDiiy+itLTUrFhdXFzg5+cHvV5vfKDb7du3ERERAU9PT0RERODOnTsAACEEZsyYAQ8PD+h0Opw6dcr4OV9++SU8PT3h6emJL7/80rj95MmT8PPzg4eHB2bMmAFzZ14vXbpkPG56vR5t2rTB8uXLVXFMY2Nj0bFjR2i1WuO2pjiG9Y1hSpyzZs1Cjx49oNPpMHz4cOTn5wMAMjMz8Yc//MF4XKdNm2Z2PI/6zqbE2hTn+sGDB3jxxRfh4eGB0NBQZD7mIXh1xfniiy8aY3RxcYFer1fFMVWVpn9CQOMrLy8Xbm5uIi0tzfjMmdTUVNnHvX79ujh58qQQQoi7d+8KT09PkZqaKubNmyeWLFny0PtTU1OFTqcTJSUlIj09Xbi5uYny8vJHxj9q1CixceNGIYQQU6dOFZ999plZsXbr1k3k5ubW2DZr1iyxaNEiIYQQixYtErNnzxZCCJGUlCSioqKEwWAQR48eFSEhIUIIIfLy8oSrq6vIy8sTt2/fFq6uruL27dtCCCGCg4PF0aNHhcFgEFFRUWLPnj1mxVldeXm56NSpk8jMzFTFMf3xxx/FyZMnha+vr3FbUxzD+sYwJc59+/aJsrIyIYQQs2fPNn5GRkZGjfdVZ2o89X1nU2NtinP96aefiqlTpwohhNi4caN44YUXTI6zupkzZ4r3339fCKH8MVUTi0gwR44cEZGRkcbXH330kfjoo4+aPI7o6GiRnJxc7/8gteOKjIwUR44cqTd+g8Eg2rVrZ/zFUPt9pqgrwXTv3l1cv35dCFGZLLt37y6EECIuLk58/fXXD73v66+/FnFxccbtVe+7fv268PLyMm6v/T5z7du3T/Tu3VsIUf8vnaY+prV/eTTFMaxvDFPirG7btm1izJgxj3yfOfHU951NjbUpznXVvkJUPhSxXbt2wmAwmBRnFYPBIJydncXly5cf+b6mPKZqYRFTZNeuXcOf/vQn42tnZ2dcu3atSWPIzMzE6dOnERoaCgD45JNPoNPpEBsbayx364uzvu15eXlwdHSEjY1Nje3m0Gg0iIyMRGBgIBISEgAAN2/eROfOnQEATz/9NG7evGlWnNeuXYOzs/ND2xtq06ZNGD16tPG12o4p0DTHsL4xzLVmzRoMGjTI+DojIwMBAQHo27cvDh06ZIzf1Hga8/9Duc919X1sbGzg4OCAvLw8s2I9dOgQOnXqBE9PT+M2NR5TJVhEglFaUVERRowYgeXLl6NNmzZ45ZVXkJaWhjNnzqBz58546623lA4Rhw8fxqlTp/DPf/4Tn376Kf71r3/V+LlGo4FGo1EouoeVlpZi165dGDVqFACo8pjW1hTHsKFjLFy4EDY2Nhg7diwAoHPnzrh69SpOnz6NpUuXYsyYMbh7926TxVOX5nCuq9u4cWONvwip8ZgqxSISjJOTE7Kzs42vc3Jy4OTk1CRjl5WVYcSIERg7dixiYmIAAJ06dYK1tTWsrKwwZcoUnDhx4pFx1re9Xbt2yM/PR3l5eYO/V9V+HTt2xPDhw3HixAl06tQJN27cAADcuHEDHTt2NCtOJycn5OTkPLS9If75z3+iZ8+e6NSpEwB1HtOquOQ+hvWNYap169Zh9+7dSExMNP4Cs7OzQ7t27QBU3gDo7u6Oy5cvmxVPY/1/2BTnuvo+5eXlKCgoMB4HU5SXl2Pbtm148cUXjdvUeEyVYhEJJjg4GFeuXEFGRgZKS0uxadMmREdHyz6uEAIvv/wyvL29MXPmTOP2qv9QAGD79u3GK0+io6OxadMmPHjwABkZGbhy5QpCQkLqjV+j0SA8PBxbt24FUHn10bBhw0yOs7i4GIWFhcZ/T05OhlarRXR0tPEqpuqfHR0dja+++gpCCBw7dgwODg7o3LkzBg4ciOTkZNy5cwd37txBcnIyBg4ciM6dO6NNmzY4duwYhBD46quvzIqzutp/K1TbMa3SFMewvjFMsXfvXvztb3/Drl270LJlS+P23NxcVFRUAADS09Nx5coVuLm5mRVPfd/ZVE1xrqt/h61bt6J///5mVQ379+9Hjx49akx9qfGYKkax7k8jS0pKEp6ensLNzU0sWLCgScY8dOiQACD8/PyEv7+/8Pf3F0lJSWLcuHFCq9UKPz8/8fzzz9doyi1YsEC4ubmJ7t2717jSqr7409LSRHBwsHB3dxcjR44UJSUlJseZlpYmdDqd0Ol0wsfHx/j5t27dEv379xceHh5iwIABIi8vTwhR2bR89dVXhZubm9BqteLnn382ftbq1auFu7u7cHd3F2vWrDFu//nnn4Wvr69wc3MTr7322mMbpo9SVFQk2rZtK/Lz843b1HBMX3rpJfH0008LGxsb4eTkJL744osmOYb1jWFKnO7u7sLZ2dn432nVFVRbt24VPj4+wt/fXwQEBIhdu3aZHc+jvrMpsTbFub5//74YOXKkcHd3F8HBwSItLc3kOIUQYuLEieLzzz+v8V6lj6macKkYIiKShUVMkRERkfowwRARkSyYYIiISBZMMEREJAsmGCIikgUTDJmsX79+SElJkX2clStXwtvb23jXeZUzZ87UWGFXquvXr2PkyJGPfd/gwYONqw1bgoMHD2Lo0KFKh0FPIBulA6AnS3l5uXFtqMf57LPPsH///ho3sQGVCSYlJQWDBw826fO7dOlivOnuUcxJXkT0MFYwFiozMxPe3t6YMmUKfH19ERkZifv37wOoWYHcunULLi4uACqXEvnv//5vREREwMXFBZ988gmWLl2KgIAAPPPMM7h9+7bx89evXw+9Xg+tVmtcyqO4uBixsbEICQlBQEAAdu7cafzc6Oho9O/fHwMGDHgo1qVLl0Kr1UKr1WL58uUAgGnTpiE9PR2DBg3CsmXLjO8tLS3Fe++9h82bN0Ov12Pz5s2YP38+xo8fj2effRbjx49HZmYmwsLC0LNnT/Ts2RNHjhwxHpOqu8LXrVuHmJgYREVFwdPTE7NnzzaO4eLiglu3bj3yGP7888/Q6XTQ6/WYNWtWjeeEVLdkyRIEBwdDp9Nh3rx5ACrvTh8wYACEELhx4wa6d++OX3/9td64Dx48iL59+2LYsGFwc3PDX/7yFyQmJiIkJAR+fn5IS0sDAEyaNAnTpk1DUFAQunfvjt27dz8UT33nKDU1FSEhIdDr9dDpdLhy5UqN/SoqKjBp0iRotVr4+fkZz0laWhqioqIQGBiIsLAwXLx4EUDl3ewjRoxAcHAwgoOD8dNPPwGofNZLbGws+vXrBzc3N6xcubLO40YWQuEbPUkmGRkZwtraWpw+fVoIUflcjPXr1wshhOjbt6/xjuDc3FzRrVs3IYQQa9euFe7u7uLu3bvit99+E23atDHepfzmm2+KZcuWGfefPHmyEKLyORlVS5PPmTPHOMadO3eEp6enKCoqEmvXrhVOTk513oGekpIitFqtKCoqEoWFhcLHx0ecOnVKCFH3Iwaq4nzttdeMr+fNmyd69uwp7t27J4QQori4WNy/f18IIcTly5dFYGCg8ZhUxbp27Vrh6uoq8vPzxf3790XXrl3F1atXa4z7qGPo6+trXO79nXfeqXN59n379okpU6YIg8EgKioqxJAhQ8SPP/4ohBBi7NixIj4+XgwZMsS4HHt9cR84cEA4ODiI69evi5KSEtGlSxfx3nvvCSGEWL58uXjjjTeEEJV3lQ8cOFBUVFSIy5cvCycnJ3H//n1x4MABMWTIkEeeo9dff11s2LBBCCHEgwcPjMey+nn6r//6L+PrO3fuCCGE6N+/v3GZ+mPHjonw8HAhhBCjR48Whw4dEkIIkZWVJXr06GE8V7169RIlJSUiNzdXtG3bVpSWlj507MgycIrMgrm6uhqfshcYGPjYp/YBQHh4OOzt7WFvbw8HBwc8//zzAAA/Pz+cO3fO+L6qdcL69OmDu3fvIj8/H8nJydi1axc+/vhjAEBJSQmuXr0KAIiIiEDbtm0fGu/w4cMYPnw4WrVqBQCIiYnBoUOHEBAQYNJ3jY6Oxh/+8AcAlQuQvv766zhz5gysra1x+fLlOvcZMGAAHBwcAAA+Pj7IysqqsTQ6UPcxzM/PR2FhIXr16gUAGDNmTJ3VQnJyMpKTk43fpaioCFeuXEGfPn0QHx8PrVaLZ555xngsHxV3cHCwcQ0qd3d3REZGAqg8LwcOHDC+74UXXoCVlRU8PT3h5uZmrCiqx1TXOerVqxcWLlyInJwcxMTE1Fh6HgDc3NyQnp6O6dOnY8iQIYiMjERRURGOHDliXPEaqHxSJFC5RteFCxeM2+/evYuioiIAwJAhQ2BnZwc7Ozt07NgRN2/efGgalCwDE4wFs7OzM/67tbW1cXrHxsYGBoMBQOUvmPr2sbKyMr62srIyrkoL4KGFATUaDYQQ+Pbbb+Hl5VXjZ8ePHzcmELlU//xly5ahU6dOOHv2LAwGA1q0aFHnPrWPT/XvV997qo6hFEIIzJkzB1OnTn3oZzk5ObCyssLNmzdhMBhgZWX1yLgbcl5qx1TXOfL29kZoaCiSkpIwePBg/OMf/0D//v2NP//jH/+Is2fPYt++fVi1ahW++eYbLF++HI6Ojjhz5sxD389gMODYsWN1Hnspx50sA3swTyAXFxecPHkSACQ1veuyefNmAJUViIODAxwcHDBw4EDEx8cbnzN++vTpx35OWFgYduzYgXv37qG4uBjbt29HWFjYI/ext7c3rg5dl4KCAnTu3BlWVlZYv369cWXbxuLo6Ah7e3scP34cQOWD0eoycOBArFmzxvg392vXruG3335DeXk5YmNjsXHjRnh7e2Pp0qWNFveWLVtgMBiQlpaG9PT0hxJJfecoPT0dbm5umDFjBoYNG1ajWgUqe3UGgwEjRozAggULcOrUKbRp0waurq7YsmULgMrkdfbsWQBAZGQk4uPjjfvXlYTI8jHBPIHefvttfP755wgICMCtW7fM+owWLVogICAA06ZNw+rVqwEA7777LsrKyqDT6eDr64t33333sZ/Ts2dPTJo0CSEhIQgNDcXkyZMfOz0WHh6OCxcuGJv8tb366qv48ssv4e/vj4sXL8pSPa1evRpTpkyBXq9HcXGxcaqtusjISIwZMwa9evWCn58fRo4cicLCQnz00UcICwvDc889h6VLl+KLL77Av//970aJu2vXrggJCcGgQYOwatWqhyqI+s7RN998A61WC71ej/Pnz2PChAk19rt27Rr69esHvV6PcePGYdGiRQCAxMRErF69Gv7+/vD19TVeNLBy5UqkpKRAp9PBx8cHq1atMvm7UPPH1ZSJzFBUVITWrVsDABYvXowbN25gxYoVisY0adIkDB06VNK9PkRNgT0YIjMkJSVh0aJFKC8vR7du3bBu3TqlQyJSHVYwREQkC/ZgiIhIFkwwREQkCyYYIiKSBRMMERHJggmGiIhkwQRDRESy+H/SahfB3T3fogAAAABJRU5ErkJggg==)"
      ]
    },
    {
      "cell_type": "markdown",
      "metadata": {
        "id": "uiQylHdupcOa"
      },
      "source": [
        "# Stage 2"
      ]
    },
    {
      "cell_type": "markdown",
      "metadata": {
        "id": "k842z251pf9r"
      },
      "source": [
        "\n",
        "The weights of the key matrix are in the range of [-1,1], In the extream case, the encypted value could be as large as 48 * 255.\n",
        "\n",
        "Now we can try to list the steps in stage 2.\n",
        "1. enrypt the original image\n",
        "2. reshape them as the input of our model\n",
        "3. apply split, concatenate and view before the normal CNN\n",
        "4. use normal CNN to train\n",
        "5. record the classification result \n",
        "6. recover parameter $W^{-1}$\n",
        "7. measure the image difference.\n"
      ]
    },
    {
      "cell_type": "markdown",
      "metadata": {
        "id": "l01T8J7W1MFx"
      },
      "source": [
        "The R channel is actually 0, 3, 6, ... element in the vector, so the corresponding row is 0, 3, 6, .... We can still divide the weight matrix to 9 blocks, but it's difficult to use divide and conquer strategy."
      ]
    },
    {
      "cell_type": "code",
      "execution_count": null,
      "metadata": {
        "colab": {
          "base_uri": "https://localhost:8080/",
          "height": 391
        },
        "id": "YcxeATdtjBM0",
        "outputId": "b0d1d7da-d405-4e6c-a5ae-0887f77376b1"
      },
      "outputs": [
        {
          "name": "stdout",
          "output_type": "stream",
          "text": [
            "torch.Size([49, 1000, 1, 4, 4])\n",
            "torch.Size([49, 1000, 16])\n"
          ]
        },
        {
          "ename": "AttributeError",
          "evalue": "ignored",
          "output_type": "error",
          "traceback": [
            "\u001b[0;31m---------------------------------------------------------------------------\u001b[0m",
            "\u001b[0;31mAttributeError\u001b[0m                            Traceback (most recent call last)",
            "\u001b[0;32m<ipython-input-19-b0d6773b56eb>\u001b[0m in \u001b[0;36m<module>\u001b[0;34m\u001b[0m\n\u001b[1;32m     32\u001b[0m \u001b[0;34m\u001b[0m\u001b[0m\n\u001b[1;32m     33\u001b[0m \u001b[0;34m\u001b[0m\u001b[0m\n\u001b[0;32m---> 34\u001b[0;31m \u001b[0mresult\u001b[0m \u001b[0;34m=\u001b[0m \u001b[0mforward_test\u001b[0m\u001b[0;34m(\u001b[0m\u001b[0mexample_data\u001b[0m\u001b[0;34m)\u001b[0m\u001b[0;34m\u001b[0m\u001b[0;34m\u001b[0m\u001b[0m\n\u001b[0m\u001b[1;32m     35\u001b[0m \u001b[0mprint\u001b[0m\u001b[0;34m(\u001b[0m\u001b[0mresult\u001b[0m\u001b[0;34m.\u001b[0m\u001b[0mshape\u001b[0m\u001b[0;34m)\u001b[0m\u001b[0;34m\u001b[0m\u001b[0;34m\u001b[0m\u001b[0m\n\u001b[1;32m     36\u001b[0m \u001b[0mfig\u001b[0m\u001b[0;34m,\u001b[0m \u001b[0maxs\u001b[0m \u001b[0;34m=\u001b[0m \u001b[0mplt\u001b[0m\u001b[0;34m.\u001b[0m\u001b[0msubplots\u001b[0m\u001b[0;34m(\u001b[0m\u001b[0;36m1\u001b[0m\u001b[0;34m,\u001b[0m \u001b[0;36m2\u001b[0m\u001b[0;34m)\u001b[0m\u001b[0;34m\u001b[0m\u001b[0;34m\u001b[0m\u001b[0m\n",
            "\u001b[0;32m<ipython-input-19-b0d6773b56eb>\u001b[0m in \u001b[0;36mforward_test\u001b[0;34m(x)\u001b[0m\n\u001b[1;32m     22\u001b[0m   \u001b[0;31m# Concatenate the transformed blocks along the feature dimension\u001b[0m\u001b[0;34m\u001b[0m\u001b[0;34m\u001b[0m\u001b[0;34m\u001b[0m\u001b[0m\n\u001b[1;32m     23\u001b[0m   \u001b[0mx_split\u001b[0m \u001b[0;34m=\u001b[0m \u001b[0mtorch\u001b[0m\u001b[0;34m.\u001b[0m\u001b[0msplit\u001b[0m\u001b[0;34m(\u001b[0m\u001b[0mx_reshaped\u001b[0m\u001b[0;34m,\u001b[0m \u001b[0;36m1\u001b[0m\u001b[0;34m,\u001b[0m \u001b[0mdim\u001b[0m\u001b[0;34m=\u001b[0m\u001b[0;36m1\u001b[0m\u001b[0;34m)\u001b[0m\u001b[0;34m\u001b[0m\u001b[0;34m\u001b[0m\u001b[0m\n\u001b[0;32m---> 24\u001b[0;31m   \u001b[0mprint\u001b[0m\u001b[0;34m(\u001b[0m\u001b[0mx_split\u001b[0m\u001b[0;34m.\u001b[0m\u001b[0mshape\u001b[0m\u001b[0;34m)\u001b[0m\u001b[0;34m\u001b[0m\u001b[0;34m\u001b[0m\u001b[0m\n\u001b[0m\u001b[1;32m     25\u001b[0m   \u001b[0mx_cat\u001b[0m \u001b[0;34m=\u001b[0m \u001b[0mtorch\u001b[0m\u001b[0;34m.\u001b[0m\u001b[0mcat\u001b[0m\u001b[0;34m(\u001b[0m\u001b[0mx_split\u001b[0m\u001b[0;34m,\u001b[0m \u001b[0mdim\u001b[0m\u001b[0;34m=\u001b[0m\u001b[0;36m0\u001b[0m\u001b[0;34m)\u001b[0m\u001b[0;34m\u001b[0m\u001b[0;34m\u001b[0m\u001b[0m\n\u001b[1;32m     26\u001b[0m \u001b[0;34m\u001b[0m\u001b[0m\n",
            "\u001b[0;31mAttributeError\u001b[0m: 'tuple' object has no attribute 'shape'"
          ]
        }
      ],
      "source": [
        "## This is a test cell for reshape and view\n",
        "\n",
        "import torch\n",
        "import numpy as np\n",
        "import torch.nn as nn\n",
        "import torch.nn.functional as F\n",
        "import torch.optim as optim\n",
        "\n",
        "def forward_test(x):\n",
        "  # Split the input tensor into 4x4 blocks\n",
        "  x_blocks = [x[:, :, i:i+4, j:j+4].contiguous() for i in range(0, 28, 4) for j in range(0, 28, 4)]\n",
        "  \n",
        "  # Stack the blocks into a tensor with shape (49, batch_size, 1, 4, 4)\n",
        "  x_stacked = torch.stack(x_blocks, dim=0)\n",
        "  print(x_stacked.shape)\n",
        "  # Apply the linear transformation to each block\n",
        "  #x_transformed = nn.Linear(x_stacked.view(-1, 16), in_features=16, out_features=16)\n",
        "  \n",
        "  # Reshape the transformed tensor to have shape (batch_size, 49, 16)\n",
        "  x_reshaped = x_stacked.view(x_stacked.shape[0], x.shape[0], -1)\n",
        "  print(x_reshaped.shape)\n",
        "  # Concatenate the transformed blocks along the feature dimension\n",
        "  x_split = torch.split(x_reshaped, 1, dim=1)\n",
        "  print(x_split.shape)\n",
        "  x_cat = torch.cat(x_split, dim=0)\n",
        "  \n",
        "  print(x_cat.shape)\n",
        "  # Reshape the concatenated tensor to have shape (batch_size, 1, 784)\n",
        "  x_final = x_cat.view(x.shape[0], 1, 28, 28)\n",
        "  \n",
        "  return x_final\n",
        "\n",
        "\n",
        "result = forward_test(example_data)\n",
        "print(result.shape)\n",
        "fig, axs = plt.subplots(1, 2)\n",
        "axs[0].imshow(example_data[238][0], interpolation='none')\n",
        "axs[1].imshow(result[238][0], interpolation='none')\n"
      ]
    },
    {
      "cell_type": "code",
      "execution_count": null,
      "metadata": {
        "colab": {
          "base_uri": "https://localhost:8080/"
        },
        "id": "imqO5Bc8N82Y",
        "outputId": "e37d1639-66a1-4393-aaee-a0dfdb6218fe"
      },
      "outputs": [
        {
          "name": "stdout",
          "output_type": "stream",
          "text": [
            "tensor([[ 0.1393, -0.2123,  0.1332, -0.6446, -0.9830,  0.0657, -2.2399, -1.0341,\n",
            "         -1.9518,  1.3241,  0.9550,  0.0457, -0.8406,  0.4174, -1.1276, -0.3088],\n",
            "        [ 1.2018, -0.5131, -0.0502,  0.7732, -0.9730,  0.3778,  1.3534,  0.8059,\n",
            "         -0.0760, -0.4707,  1.1949, -1.1158,  0.6620,  0.3588, -1.8436, -0.7941],\n",
            "        [-0.8187,  0.8093, -0.5988,  0.4436, -2.5788,  1.4817, -0.0316,  0.2458,\n",
            "         -0.0778,  0.8210, -1.1223,  3.8883, -0.0838, -0.5991,  0.3711, -0.3595],\n",
            "        [-0.3125, -0.6689, -0.9471,  0.0185,  0.0543,  1.5132, -0.8911,  1.4240,\n",
            "          0.6891, -2.1514, -0.3642,  2.1417,  1.3651,  0.7749,  0.3857,  1.0954],\n",
            "        [-1.1906, -0.2270,  0.7786,  0.1545,  0.3784, -0.8632, -1.6048, -0.8646,\n",
            "          0.2946,  1.1909,  0.7471, -1.9012,  1.0414,  0.1624, -2.0552,  1.1631],\n",
            "        [ 0.9320,  0.4955, -0.6701,  1.0221,  0.0465, -0.8338,  0.4628,  0.2209,\n",
            "          0.3499, -1.9687,  0.2103,  0.7669,  1.2861, -0.7240, -0.1973, -1.1069],\n",
            "        [-0.0328, -1.0765, -0.3184, -0.7834,  0.6446, -0.4076,  0.2092,  1.2894,\n",
            "         -3.0402,  0.1167,  1.5155, -0.9786, -0.0756,  0.7475, -0.6269,  0.9103]])\n",
            "tensor([[ 0.1393,  0.1393,  0.1393,  0.1393,  1.2018,  1.2018,  1.2018,  1.2018,\n",
            "         -0.8187, -0.8187, -0.8187, -0.8187, -0.3125, -0.3125, -0.3125, -0.3125,\n",
            "         -1.1906, -1.1906, -1.1906, -1.1906,  0.9320,  0.9320,  0.9320,  0.9320,\n",
            "         -0.0328, -0.0328, -0.0328, -0.0328],\n",
            "        [-0.2123, -0.2123, -0.2123, -0.2123, -0.5131, -0.5131, -0.5131, -0.5131,\n",
            "          0.8093,  0.8093,  0.8093,  0.8093, -0.6689, -0.6689, -0.6689, -0.6689,\n",
            "         -0.2270, -0.2270, -0.2270, -0.2270,  0.4955,  0.4955,  0.4955,  0.4955,\n",
            "         -1.0765, -1.0765, -1.0765, -1.0765],\n",
            "        [ 0.1332,  0.1332,  0.1332,  0.1332, -0.0502, -0.0502, -0.0502, -0.0502,\n",
            "         -0.5988, -0.5988, -0.5988, -0.5988, -0.9471, -0.9471, -0.9471, -0.9471,\n",
            "          0.7786,  0.7786,  0.7786,  0.7786, -0.6701, -0.6701, -0.6701, -0.6701,\n",
            "         -0.3184, -0.3184, -0.3184, -0.3184],\n",
            "        [-0.6446, -0.6446, -0.6446, -0.6446,  0.7732,  0.7732,  0.7732,  0.7732,\n",
            "          0.4436,  0.4436,  0.4436,  0.4436,  0.0185,  0.0185,  0.0185,  0.0185,\n",
            "          0.1545,  0.1545,  0.1545,  0.1545,  1.0221,  1.0221,  1.0221,  1.0221,\n",
            "         -0.7834, -0.7834, -0.7834, -0.7834]])\n"
          ]
        }
      ],
      "source": [
        "import torch\n",
        "\n",
        "# Create a tensor of shape [7, 16]\n",
        "t_in = torch.randn(7, 16)\n",
        "\n",
        "# Reshape the tensor to [4, 28] while preserving the first 4 elements of each row\n",
        "t_out = torch.zeros(4, 28)\n",
        "for i in range(7):\n",
        "    t_out[:, i*4:(i+1)*4] = t_in[i, :4].view(4, 1)\n",
        "\n",
        "# Check the shapes of the tensors\n",
        "print(t_in)   # Output: torch.Size([7, 16])\n",
        "print(t_out)  # Output: torch.Size([4, 28])\n"
      ]
    },
    {
      "cell_type": "code",
      "execution_count": null,
      "metadata": {
        "colab": {
          "base_uri": "https://localhost:8080/"
        },
        "id": "CP6qq969fcmM",
        "outputId": "c6cc107e-856d-4d10-c325-91eed2611dce"
      },
      "outputs": [
        {
          "name": "stdout",
          "output_type": "stream",
          "text": [
            "tensor([1, 2, 5, 6, 3, 4, 7, 8])\n"
          ]
        }
      ],
      "source": [
        "import torch\n",
        "\n",
        "# Define the mapping and input tensors\n",
        "mapping = torch.tensor([[1, 1], [2, 2], [5, 3], [6, 4], [3, 5], [4, 6], [7, 7], [8, 8]])\n",
        "input_tensor = torch.tensor([1, 2, 3, 4, 5, 6, 7, 8])\n",
        "\n",
        "# Create an empty tensor to hold the output\n",
        "output_tensor = torch.zeros_like(input_tensor)\n",
        "\n",
        "# Iterate over each row of the mapping tensor and set the corresponding\n",
        "# element in the output tensor to the value of the input tensor at the\n",
        "# index specified by the mapping\n",
        "for i in range(mapping.shape[0]):\n",
        "    output_tensor[mapping[i, 1]-1] = input_tensor[mapping[i, 0]-1]\n",
        "\n",
        "print(output_tensor)\n"
      ]
    },
    {
      "cell_type": "code",
      "execution_count": null,
      "metadata": {
        "colab": {
          "base_uri": "https://localhost:8080/"
        },
        "id": "JYRnzjoTpPSo",
        "outputId": "eb9323a7-1c7a-4a16-df91-b9c743b17cc9"
      },
      "outputs": [
        {
          "name": "stdout",
          "output_type": "stream",
          "text": [
            "tensor([[  0,   1,   2,   3,   4,   5,   6,   7,   8,   9,  10,  11,  12,  13,\n",
            "          14,  15,  16,  17,  18,  19,  20,  21,  22,  23,  24,  25,  26,  27,\n",
            "          28,  29,  30,  31,  32,  33,  34,  35,  36,  37,  38,  39,  40,  41,\n",
            "          42,  43,  44,  45,  46,  47,  48,  49,  50,  51,  52,  53,  54,  55,\n",
            "          56,  57,  58,  59,  60,  61,  62,  63,  64,  65,  66,  67,  68,  69,\n",
            "          70,  71,  72,  73,  74,  75,  76,  77,  78,  79,  80,  81,  82,  83,\n",
            "          84,  85,  86,  87,  88,  89,  90,  91,  92,  93,  94,  95,  96,  97,\n",
            "          98,  99, 100, 101, 102, 103, 104, 105, 106, 107, 108, 109, 110, 111]])\n",
            "tensor([[  0,   1,   2,   3,   4,   5,   6,   7,   8,   9,  10,  11,  12,  13,\n",
            "          14,  15,  16,  17,  18,  19,  20,  21,  22,  23,  24,  25,  26,  27,\n",
            "          28,  29,  30,  31,  32,  33,  34,  35,  36,  37,  38,  39,  40,  41,\n",
            "          42,  43,  44,  45,  46,  47,  48,  49,  50,  51,  52,  53,  54,  55,\n",
            "          56,  57,  58,  59,  60,  61,  62,  63,  64,  65,  66,  67,  68,  69,\n",
            "          70,  71,  72,  73,  74,  75,  76,  77,  78,  79,  80,  81,  82,  83,\n",
            "          84,  85,  86,  87,  88,  89,  90,  91,  92,  93,  94,  95,  96,  97,\n",
            "          98,  99, 100, 101, 102, 103, 104, 105, 106, 107, 108, 109, 110, 111],\n",
            "        [  0,   1,   2,   3,  16,  17,  18,  19,  32,  33,  34,  35,  48,  49,\n",
            "          50,  51,  64,  65,  66,  67,  80,  81,  82,  83,  96,  97,  98,  99,\n",
            "           4,   5,   6,   7,  20,  21,  22,  23,  36,  37,  38,  39,  52,  53,\n",
            "          54,  55,  68,  69,  70,  71,  84,  85,  86,  87, 100, 101, 102, 103,\n",
            "           8,   9,  10,  11,  24,  25,  26,  27,  40,  41,  42,  43,  56,  57,\n",
            "          58,  59,  72,  73,  74,  75,  88,  89,  90,  91, 104, 105, 106, 107,\n",
            "          12,  13,  14,  15,  28,  29,  30,  31,  44,  45,  46,  47,  60,  61,\n",
            "          62,  63,  76,  77,  78,  79,  92,  93,  94,  95, 108, 109, 110, 111]])\n"
          ]
        }
      ],
      "source": [
        "import torch\n",
        "\n",
        "def construct_mapping():\n",
        "  # Create a tensor with shape [112] and values [0, 1, 2, ..., 111]\n",
        "  s = torch.arange(112)\n",
        "  print(s.view(1,112))\n",
        "  #print(source.view(4,28))\n",
        "  # Reshape the tensor to [4, 28] with the desired pattern\n",
        "  t = s.clone().reshape(4,28)\n",
        "  t[0] = torch.tensor([0, 1, 2, 3, 16,17,18,19, 32,33,34,35, 48,49,50,51, 64,65,66,67, 80,81,82,83, 96, 97, 98, 99])\n",
        "  for i in range(1, 4):\n",
        "      t[i] = t[0] + i*4\n",
        "  #print(t.view(4,28))\n",
        "  return torch.cat((s.view(1,112),t.view(1,112)), dim=0)\n",
        "\n",
        "print(construct_mapping())\n"
      ]
    },
    {
      "cell_type": "markdown",
      "metadata": {
        "id": "QI-fMoWGU9Fn"
      },
      "source": [
        "## Encrypt the image"
      ]
    },
    {
      "cell_type": "markdown",
      "metadata": {
        "id": "QOHygtmb8A-L"
      },
      "source": [
        "### For loop approach"
      ]
    },
    {
      "cell_type": "code",
      "execution_count": null,
      "metadata": {
        "colab": {
          "base_uri": "https://localhost:8080/",
          "height": 184
        },
        "id": "M7hPmc0vSJm0",
        "outputId": "11696b90-5d0b-4f92-c307-61861678b721"
      },
      "outputs": [
        {
          "name": "stdout",
          "output_type": "stream",
          "text": [
            "torch.Size([16, 16])\n"
          ]
        },
        {
          "data": {
            "text/plain": [
              "<matplotlib.image.AxesImage at 0x7fbe7bca5e50>"
            ]
          },
          "execution_count": 8,
          "metadata": {},
          "output_type": "execute_result"
        },
        {
          "data": {
            "image/png": "[encoded data removed]",
            "text/plain": [
              "<Figure size 432x288 with 3 Axes>"
            ]
          },
          "metadata": {},
          "output_type": "display_data"
        }
      ],
      "source": [
        "import matplotlib.pyplot as plt\n",
        "def encrypt(img, key):\n",
        "  #fig, axs = plt.subplots(14, 7)\n",
        "  assembled_image = torch.zeros_like(img)\n",
        "  for i in range(7):\n",
        "    for j in range(7):\n",
        "      img_cropped = torchvision.transforms.functional.crop(img, top=4*i, left=4*j, height=4, width=4)\n",
        "      #axs[i, j].imshow(img_cropped[0][0], interpolation='none')\n",
        "\n",
        "      #print(img_cropped.shape)\n",
        "      img_reshaped = img_cropped.contiguous().view(img.shape[0], 1, 16, 1)\n",
        "      #print(img_reshaped[0][0])\n",
        "      \n",
        "      #print(w_matrix)\n",
        "      #print(img_reshaped[0][0])\n",
        "      #print(img_reshaped.shape)\n",
        "      img_encrypted = torch.matmul(key.expand(img.shape[0], 1, 16, 16), img_reshaped)\n",
        "      img_pieces = img_encrypted.view(img.shape[0], 1, 4, 4)\n",
        "      #org = torch.matmul(torch.inverse(w_matrix), encrypted)\n",
        "      #print(org)\n",
        "      #axs[7+i, j].imshow(img_pieces[0][0], interpolation='none')\n",
        "      assembled_image[:,:,4*i:4*i+4,4*j:4*j+4] = img_pieces\n",
        "  return assembled_image\n",
        "\n",
        "torch.manual_seed(1121)\n",
        "        #print(img_reshaped.shape)\n",
        "w_matrix = torch.rand(16, 16)\n",
        "w_matrix_m1 = torch.inverse(w_matrix)\n",
        "\n",
        "print(w_matrix.shape)\n",
        "#print(example_data.shape)\n",
        "img_encrypted = encrypt(example_data, w_matrix)\n",
        "img_decrypted = encrypt(img_encrypted, w_matrix_m1)\n",
        "fig, axs = plt.subplots(1, 3)\n",
        "axs[0].imshow(example_data[0][0], interpolation='none')\n",
        "axs[1].imshow(img_encrypted[0][0], interpolation='none')\n",
        "axs[2].imshow(img_decrypted[0][0], interpolation='none')"
      ]
    },
    {
      "cell_type": "markdown",
      "metadata": {
        "id": "IyGqQsji8OjJ"
      },
      "source": [
        "### tensor mapping approach"
      ]
    },
    {
      "cell_type": "markdown",
      "metadata": {
        "id": "e_Jut6zyIDXf"
      },
      "source": [
        "As the recontructing method in the previous cell may not be differentiable, we tried another approach using mapping"
      ]
    },
    {
      "cell_type": "code",
      "execution_count": null,
      "metadata": {
        "colab": {
          "base_uri": "https://localhost:8080/",
          "height": 722
        },
        "id": "K_i90S4Q1QJW",
        "outputId": "f122d453-f2c7-4c78-f6b5-f585f79c2611"
      },
      "outputs": [
        {
          "name": "stdout",
          "output_type": "stream",
          "text": [
            "torch.Size([64, 1, 49, 4, 4])\n",
            "tensor([[-0.4242, -0.4242, -0.4242, -0.4242],\n",
            "        [-0.4242, -0.4242, -0.4242, -0.4242],\n",
            "        [-0.4242, -0.4242, -0.4242, -0.4242],\n",
            "        [-0.4242, -0.4242, -0.4242, -0.4242]])\n",
            "torch.Size([64, 1, 49, 16])\n",
            "tensor([-0.4242, -0.4242, -0.4242, -0.4242, -0.4242, -0.4242, -0.4242, -0.4242,\n",
            "        -0.4242, -0.4242, -0.4242, -0.4242, -0.4242, -0.4242, -0.4242, -0.4242])\n",
            "split: <class 'tuple'> 7 torch.Size([64, 1, 7, 16])\n",
            "tensor([-0.4242, -0.4242, -0.4242, -0.4242, -0.4242, -0.4242, -0.4242, -0.4242,\n",
            "        -0.4242, -0.4242, -0.4242, -0.4242, -0.4242, -0.4242, -0.4242, -0.4242])\n",
            "tensor([-0.4242, -0.4242, -0.4242, -0.4242, -0.4242, -0.4242, -0.4242, -0.4242,\n",
            "        -0.4242, -0.4242, -0.4242, -0.4242, -0.4242, -0.4242, -0.4242, -0.4242,\n",
            "        -0.4242, -0.4242, -0.4242, -0.4242, -0.4242, -0.4242, -0.4242, -0.4242,\n",
            "        -0.4242, -0.4242, -0.4242, -0.4242, -0.4242, -0.4242, -0.4242, -0.4242,\n",
            "        -0.4242, -0.4242, -0.4242, -0.4242, -0.4242, -0.4242, -0.4242, -0.4242,\n",
            "        -0.4242, -0.4242, -0.4242, -0.4242, -0.4242, -0.4242, -0.4242, -0.4242,\n",
            "        -0.4242, -0.4242, -0.4242, -0.4242, -0.4242, -0.4242, -0.4242, -0.4242,\n",
            "        -0.4242, -0.4242, -0.4242, -0.4242, -0.4242, -0.4242, -0.4242, -0.4242,\n",
            "        -0.4242, -0.4242, -0.4242, -0.4242, -0.4242, -0.4242, -0.4242, -0.4242,\n",
            "        -0.4242, -0.4242, -0.4242, -0.4242, -0.4242, -0.4242, -0.4242, -0.4242,\n",
            "        -0.4242, -0.4242, -0.4242, -0.4242, -0.4242, -0.4242, -0.4242, -0.4242,\n",
            "        -0.4242, -0.4242, -0.4242, -0.4242, -0.4242, -0.4242, -0.4242, -0.4242,\n",
            "        -0.4242, -0.4242, -0.4242, -0.4242, -0.4242, -0.4242, -0.4242, -0.4242,\n",
            "        -0.4242, -0.4242, -0.4242, -0.4242, -0.4242, -0.4242, -0.4242, -0.4242])\n",
            "torch.Size([64, 1, 4, 28])\n",
            "tensor([-0.4242, -0.4242, -0.4242, -0.4242, -0.4242, -0.4242, -0.4242, -0.4242,\n",
            "        -0.4242, -0.4242, -0.4242, -0.4242, -0.4242, -0.4242, -0.4242, -0.4242,\n",
            "        -0.4242, -0.4242, -0.4242, -0.4242, -0.4242, -0.4242, -0.4242, -0.4242,\n",
            "        -0.4242, -0.4242, -0.4242, -0.4242])\n",
            "cat: torch.Size([64, 1, 28, 28])\n",
            "torch.Size([64, 1, 28, 28])\n"
          ]
        },
        {
          "data": {
            "text/plain": [
              "<matplotlib.image.AxesImage at 0x7f08d27ee5e0>"
            ]
          },
          "execution_count": 73,
          "metadata": {},
          "output_type": "execute_result"
        },
        {
          "data": {
            "image/png": "[encoded data removed]",
            "text/plain": [
              "<Figure size 432x288 with 3 Axes>"
            ]
          },
          "metadata": {},
          "output_type": "display_data"
        }
      ],
      "source": [
        "def construct_mapping():\n",
        "  # Create a tensor with shape [112] and values [0, 1, 2, ..., 111]\n",
        "  s = torch.arange(112)\n",
        "  #print(s.view(1,112))\n",
        "  #print(source.view(4,28))\n",
        "  # Reshape the tensor to [4, 28] with the desired pattern\n",
        "  t = s.clone().reshape(4,28)\n",
        "  t[0] = torch.tensor([0, 1, 2, 3, 16,17,18,19, 32,33,34,35, 48,49,50,51, 64,65,66,67, 80,81,82,83, 96, 97, 98, 99])\n",
        "  for i in range(1, 4):\n",
        "      t[i] = t[0] + i*4\n",
        "  #print(t.view(4,28))\n",
        "  return torch.cat((t.reshape(1,112),s.reshape(1,112)), dim=0)\n",
        "\n",
        "def tensor_map(input_t, mapping):\n",
        "  output_t = torch.zeros_like(input_t)\n",
        "  for i in range(mapping.shape[1]):\n",
        "    output_t[:,:,mapping[1, i]] = input_t[:,:,mapping[0,i]]\n",
        "  return output_t\n",
        "\n",
        "def forward_test(x, mapping):\n",
        "    \n",
        "    # Split the input tensor into 4x4 blocks\n",
        "    x_blocks = [x[:, :, i:i+4, j:j+4].contiguous() for i in range(0, 28, 4) for j in range(0, 28, 4)]\n",
        "\n",
        "    # Stack the blocks into a tensor with shape (49, batch_size, 1, 4, 4)\n",
        "    x_stacked = torch.stack(x_blocks, dim=2)\n",
        "    print(x_stacked.shape)\n",
        "    print(x_stacked[0][0][1])\n",
        "    #x_snapshot = x_stacked[238][0][1]\n",
        "    axs[0].imshow(x_stacked[0][0][1], interpolation='none')\n",
        "    # Reshape the tensor to have shape (batch_size, 49, 16)\n",
        "    x_reshaped = x_stacked.reshape(x.shape[0], 1, 49, 16)\n",
        "    print(x_reshaped.shape)\n",
        "    print(x_reshaped[0][0][1])\n",
        "    # Split the tensor along the second dimension (block dimension)\n",
        "    x_split = torch.split(x_reshaped, 7, dim=2)\n",
        "    print(\"split:\", type(x_split), len(x_split), x_split[0].shape)\n",
        "    print(x_split[0][0][0][1])\n",
        "    print(x_split[0][0][0].reshape(112))\n",
        "    x_mapped = [tensor_map(t.reshape(x.shape[0], 1, 112), mapping).reshape(x.shape[0],1,4, 28) for t in x_split]\n",
        "    print(x_mapped[0].shape)\n",
        "    print(x_mapped[0][0][0][0])\n",
        "    # Concatenate the tensors along the third dimension (feature dimension)\n",
        "    x_cat = torch.cat(x_mapped, dim=2)\n",
        "    print(\"cat:\", x_cat.shape)\n",
        "    # Reshape the concatenated tensor to have shape (batch_size, 1, 28, 28)\n",
        "    x_final = x_cat.reshape(x.shape[0], 1, 28, 28)\n",
        "    \n",
        "    return x_final\n",
        "\n",
        "fig, axs = plt.subplots(1, 3)\n",
        "\n",
        "result = forward_test(example_data, construct_mapping())\n",
        "print(result.shape)\n",
        "\n",
        "axs[1].imshow(example_data[0][0], interpolation='none')\n",
        "axs[2].imshow(result[0][0], interpolation='none')\n"
      ]
    },
    {
      "cell_type": "markdown",
      "metadata": {
        "id": "QkoeNoI00OtQ"
      },
      "source": [
        "## Flatten the encrypted image\n",
        "\n",
        "Reshape from [1000, 1, 28, 28] to [1000, 1, 784]. It's different from the usual flatterning. It needs to regroup the elements and flatten within groups."
      ]
    },
    {
      "cell_type": "code",
      "execution_count": null,
      "metadata": {
        "colab": {
          "base_uri": "https://localhost:8080/"
        },
        "id": "ktkBkPDn0V7w",
        "outputId": "22817d65-427c-43a5-99b7-86b425826371"
      },
      "outputs": [
        {
          "name": "stdout",
          "output_type": "stream",
          "text": [
            "torch.Size([1000, 1, 784])\n"
          ]
        }
      ],
      "source": [
        "\n",
        "def flatten_enc(img):\n",
        "  flattened_image = torch.zeros(1000, 1, 784)\n",
        "  for i in range(7):\n",
        "    for j in range(7):\n",
        "      img_cropped = torchvision.transforms.functional.crop(img, top=4*i, left=4*j, height=4, width=4)\n",
        "      img_reshaped = img_cropped.contiguous().view(1000, 1, 16)\n",
        "      flattened_image[:,:,16*(i*7+j):16*(i*7+j+1)] = img_reshaped\n",
        "  return flattened_image\n",
        "\n",
        "print(flatten_enc(img_encrypted).shape)"
      ]
    },
    {
      "cell_type": "markdown",
      "metadata": {
        "id": "19cHNJBv-NYv"
      },
      "source": [
        "## Customize CNN"
      ]
    },
    {
      "cell_type": "markdown",
      "metadata": {
        "id": "pR5rANBCeRP0"
      },
      "source": [
        "### Baseline"
      ]
    },
    {
      "cell_type": "code",
      "execution_count": null,
      "metadata": {
        "id": "fFfozjGA-VJ2"
      },
      "outputs": [],
      "source": [
        "import numpy as np\n",
        "import torch.nn as nn\n",
        "import torch.nn.functional as F\n",
        "import torch.optim as optim\n",
        "\n",
        "class MyModel(nn.Module):\n",
        "    def __init__(self, stage):\n",
        "        super(MyModel, self).__init__()\n",
        "        self.linear = nn.Linear(in_features=16, out_features=16, bias=False)\n",
        "        self.conv = nn.Conv2d(in_channels=4, out_channels=8, kernel_size=3, stride=1, padding=1)\n",
        "        self.relu = nn.ReLU()\n",
        "        self.maxpool = nn.MaxPool2d(kernel_size=2, stride=2)\n",
        "        self.mapping = self.construct_mapping()\n",
        "        self.conv1 = nn.Conv2d(1, 10, kernel_size=5)\n",
        "        self.conv2 = nn.Conv2d(10, 20, kernel_size=5)\n",
        "        self.conv2_drop = nn.Dropout2d()\n",
        "        self.fc1 = nn.Linear(320, 50)\n",
        "        self.fc2 = nn.Linear(50, 10)\n",
        "        self.stage = stage\n",
        "    \n",
        "    def construct_mapping(self):\n",
        "        # Create a tensor with shape [112] and values [0, 1, 2, ..., 111]\n",
        "        s = torch.arange(112)\n",
        "        #print(s.view(1,112))\n",
        "        #print(source.view(4,28))\n",
        "        # Reshape the tensor to [4, 28] with the desired pattern\n",
        "        t = s.clone().reshape(4,28)\n",
        "        t[0] = torch.tensor([0, 1, 2, 3, 16,17,18,19, 32,33,34,35, 48,49,50,51, 64,65,66,67, 80,81,82,83, 96, 97, 98, 99])\n",
        "        for i in range(1, 4):\n",
        "            t[i] = t[0] + i*4\n",
        "        #print(t.view(4,28))\n",
        "        return torch.cat((t.reshape(1,112),s.reshape(1,112)), dim=0)\n",
        "\n",
        "    def tensor_map(self, input_t, mapping):\n",
        "      output_t = torch.zeros_like(input_t)\n",
        "      for i in range(mapping.shape[1]):\n",
        "        output_t[:,:,mapping[1, i]] = input_t[:,:,mapping[0,i]]\n",
        "      return output_t \n",
        "      \n",
        "    def forward(self, x):\n",
        "        if self.stage == 2:\n",
        "          # Split the input tensor into 4x4 blocks\n",
        "          x_blocks = [x[:, :, i:i+4, j:j+4].contiguous() for i in range(0, 28, 4) for j in range(0, 28, 4)]\n",
        "          # Apply the linear transformation to each block\n",
        "          #print(x_blocks[0].shape)\n",
        "          #print(x_blocks[0].shape, x.shape[0])\n",
        "          x_transformed = [self.linear(block.view(x.shape[0], 1, 16)) for block in x_blocks]\n",
        "          x_stacked = torch.stack(x_transformed, dim=2)\n",
        "          # Concatenate the transformed groups along the feature dimension\n",
        "          x_reshaped = x_stacked.reshape(x.shape[0], 1, 49, 16)\n",
        "          x_split = torch.split(x_reshaped, 7, dim=2)\n",
        "          x_mapped = [self.tensor_map(t.reshape(x.shape[0], 1, 112), self.mapping).reshape(x.shape[0],1,4, 28) for t in x_split]\n",
        "          # Concatenate the tensors along the third dimension (feature dimension)\n",
        "          x_cat = torch.cat(x_mapped, dim=2)\n",
        "          # Reshape the concatenated tensor to have shape (batch_size, 1, 28, 28)\n",
        "          x_final = x_cat.reshape(x.shape[0], 1, 28, 28)\n",
        "        else:\n",
        "          x_final = x\n",
        "        #print(x_final.shape)\n",
        "        x_final = F.relu(F.max_pool2d(self.conv1(x_final), 2))\n",
        "        #print(x_final.shape)\n",
        "        x_final = F.relu(F.max_pool2d(self.conv2_drop(self.conv2(x_final)), 2))\n",
        "        print(x_final.shape)\n",
        "        x_final = x_final.view(-1, 320)\n",
        "        #print(x_final.shape)\n",
        "        x_final = F.relu(self.fc1(x_final))\n",
        "        #print(x_final.shape)\n",
        "        x_final = F.dropout(x_final, training=self.training)\n",
        "        #print(x_final.shape)\n",
        "        x_final = self.fc2(x_final)\n",
        "        #print(x_final.shape)\n",
        "        return F.log_softmax(x_final)\n",
        "\n",
        "device = torch.device(\"cuda\" if torch.cuda.is_available() else \"cpu\")\n",
        "network = MyModel(2)\n",
        "network.to(device)\n",
        "optimizer = optim.SGD(network.parameters(), lr=learning_rate,\n",
        "                      momentum=momentum)     \n"
      ]
    },
    {
      "cell_type": "markdown",
      "metadata": {
        "id": "vUlcCvvEeUJT"
      },
      "source": [
        "### Remove maxpooling only"
      ]
    },
    {
      "cell_type": "code",
      "execution_count": null,
      "metadata": {
        "id": "dyGwV74xJct0"
      },
      "outputs": [],
      "source": [
        "import numpy as np\n",
        "import torch.nn as nn\n",
        "import torch.nn.functional as F\n",
        "import torch.optim as optim\n",
        "\n",
        "class MyModel(nn.Module):\n",
        "    def __init__(self, stage):\n",
        "        super(MyModel, self).__init__()\n",
        "        self.linear = nn.Linear(in_features=16, out_features=16, bias=False)\n",
        "        self.conv = nn.Conv2d(in_channels=4, out_channels=8, kernel_size=3, stride=1, padding=1)\n",
        "        self.relu = nn.ReLU()\n",
        "        self.maxpool = nn.MaxPool2d(kernel_size=2, stride=2)\n",
        "        self.mapping = self.construct_mapping()\n",
        "        self.conv1 = nn.Conv2d(1, 10, kernel_size=5)\n",
        "        self.conv2 = nn.Conv2d(10, 20, kernel_size=5)\n",
        "        self.conv2_drop = nn.Dropout2d()\n",
        "        self.fc1 = nn.Linear(8000, 50)\n",
        "        self.fc2 = nn.Linear(50, 10)\n",
        "        self.stage = stage\n",
        "    \n",
        "    def construct_mapping(self):\n",
        "        # Create a tensor with shape [112] and values [0, 1, 2, ..., 111]\n",
        "        s = torch.arange(112)\n",
        "        #print(s.view(1,112))\n",
        "        #print(source.view(4,28))\n",
        "        # Reshape the tensor to [4, 28] with the desired pattern\n",
        "        t = s.clone().reshape(4,28)\n",
        "        t[0] = torch.tensor([0, 1, 2, 3, 16,17,18,19, 32,33,34,35, 48,49,50,51, 64,65,66,67, 80,81,82,83, 96, 97, 98, 99])\n",
        "        for i in range(1, 4):\n",
        "            t[i] = t[0] + i*4\n",
        "        #print(t.view(4,28))\n",
        "        return torch.cat((t.reshape(1,112),s.reshape(1,112)), dim=0)\n",
        "\n",
        "    def tensor_map(self, input_t, mapping):\n",
        "      output_t = torch.zeros_like(input_t)\n",
        "      for i in range(mapping.shape[1]):\n",
        "        output_t[:,:,mapping[1, i]] = input_t[:,:,mapping[0,i]]\n",
        "      return output_t \n",
        "      \n",
        "    def forward(self, x):\n",
        "        if self.stage == 2:\n",
        "          # Split the input tensor into 4x4 blocks\n",
        "          x_blocks = [x[:, :, i:i+4, j:j+4].contiguous() for i in range(0, 28, 4) for j in range(0, 28, 4)]\n",
        "          # Apply the linear transformation to each block\n",
        "          #print(x_blocks[0].shape)\n",
        "          #print(x_blocks[0].shape, x.shape[0])\n",
        "          x_transformed = [self.linear(block.view(x.shape[0], 1, 16)) for block in x_blocks]\n",
        "          x_stacked = torch.stack(x_transformed, dim=2)\n",
        "          # Concatenate the transformed groups along the feature dimension\n",
        "          x_reshaped = x_stacked.reshape(x.shape[0], 1, 49, 16)\n",
        "          x_split = torch.split(x_reshaped, 7, dim=2)\n",
        "          x_mapped = [self.tensor_map(t.reshape(x.shape[0], 1, 112), self.mapping).reshape(x.shape[0],1,4, 28) for t in x_split]\n",
        "          # Concatenate the tensors along the third dimension (feature dimension)\n",
        "          x_cat = torch.cat(x_mapped, dim=2)\n",
        "          # Reshape the concatenated tensor to have shape (batch_size, 1, 28, 28)\n",
        "          x_final = x_cat.reshape(x.shape[0], 1, 28, 28)\n",
        "        else:\n",
        "          x_final = x\n",
        "        #print(x_final.shape)\n",
        "        x_final = F.relu(self.conv1(x_final))\n",
        "        #print(x_final.shape)\n",
        "        x_final = F.relu(self.conv2_drop(self.conv2(x_final)))\n",
        "        #print(x_final.shape)\n",
        "        x_final = x_final.view(-1, 8000)\n",
        "        #print(x_final.shape)\n",
        "        x_final = F.relu(self.fc1(x_final))\n",
        "        #print(x_final.shape)\n",
        "        x_final = F.dropout(x_final, training=self.training)\n",
        "        #print(x_final.shape)\n",
        "        x_final = self.fc2(x_final)\n",
        "        #print(x_final.shape)\n",
        "        return F.log_softmax(x_final)\n",
        "\n",
        "device = torch.device(\"cuda\" if torch.cuda.is_available() else \"cpu\")\n",
        "network = MyModel(2)\n",
        "network.to(device)\n",
        "optimizer = optim.SGD(network.parameters(), lr=learning_rate,\n",
        "                      momentum=momentum)  "
      ]
    },
    {
      "cell_type": "markdown",
      "metadata": {
        "id": "wXBkqDzfebCM"
      },
      "source": [
        "### Remove dropout only"
      ]
    },
    {
      "cell_type": "code",
      "execution_count": null,
      "metadata": {
        "id": "jmuXsjaZepwl"
      },
      "outputs": [],
      "source": [
        "import numpy as np\n",
        "import torch.nn as nn\n",
        "import torch.nn.functional as F\n",
        "import torch.optim as optim\n",
        "\n",
        "class MyModel(nn.Module):\n",
        "    def __init__(self, stage):\n",
        "        super(MyModel, self).__init__()\n",
        "        self.linear = nn.Linear(in_features=16, out_features=16, bias=False)\n",
        "        self.conv = nn.Conv2d(in_channels=4, out_channels=8, kernel_size=3, stride=1, padding=1)\n",
        "        self.relu = nn.ReLU()\n",
        "        self.maxpool = nn.MaxPool2d(kernel_size=2, stride=2)\n",
        "        self.mapping = self.construct_mapping()\n",
        "        self.conv1 = nn.Conv2d(1, 10, kernel_size=5)\n",
        "        self.conv2 = nn.Conv2d(10, 20, kernel_size=5)\n",
        "        self.conv2_drop = nn.Dropout2d()\n",
        "        self.fc1 = nn.Linear(320, 50)\n",
        "        self.fc2 = nn.Linear(50, 10)\n",
        "        self.stage = stage\n",
        "    \n",
        "    def construct_mapping(self):\n",
        "        # Create a tensor with shape [112] and values [0, 1, 2, ..., 111]\n",
        "        s = torch.arange(112)\n",
        "        #print(s.view(1,112))\n",
        "        #print(source.view(4,28))\n",
        "        # Reshape the tensor to [4, 28] with the desired pattern\n",
        "        t = s.clone().reshape(4,28)\n",
        "        t[0] = torch.tensor([0, 1, 2, 3, 16,17,18,19, 32,33,34,35, 48,49,50,51, 64,65,66,67, 80,81,82,83, 96, 97, 98, 99])\n",
        "        for i in range(1, 4):\n",
        "            t[i] = t[0] + i*4\n",
        "        #print(t.view(4,28))\n",
        "        return torch.cat((t.reshape(1,112),s.reshape(1,112)), dim=0)\n",
        "\n",
        "    def tensor_map(self, input_t, mapping):\n",
        "      output_t = torch.zeros_like(input_t)\n",
        "      for i in range(mapping.shape[1]):\n",
        "        output_t[:,:,mapping[1, i]] = input_t[:,:,mapping[0,i]]\n",
        "      return output_t \n",
        "      \n",
        "    def forward(self, x):\n",
        "        if self.stage == 2:\n",
        "          # Split the input tensor into 4x4 blocks\n",
        "          x_blocks = [x[:, :, i:i+4, j:j+4].contiguous() for i in range(0, 28, 4) for j in range(0, 28, 4)]\n",
        "          # Apply the linear transformation to each block\n",
        "          #print(x_blocks[0].shape)\n",
        "          #print(x_blocks[0].shape, x.shape[0])\n",
        "          x_transformed = [self.linear(block.view(x.shape[0], 1, 16)) for block in x_blocks]\n",
        "          x_stacked = torch.stack(x_transformed, dim=2)\n",
        "          # Concatenate the transformed groups along the feature dimension\n",
        "          x_reshaped = x_stacked.reshape(x.shape[0], 1, 49, 16)\n",
        "          x_split = torch.split(x_reshaped, 7, dim=2)\n",
        "          x_mapped = [self.tensor_map(t.reshape(x.shape[0], 1, 112), self.mapping).reshape(x.shape[0],1,4, 28) for t in x_split]\n",
        "          # Concatenate the tensors along the third dimension (feature dimension)\n",
        "          x_cat = torch.cat(x_mapped, dim=2)\n",
        "          # Reshape the concatenated tensor to have shape (batch_size, 1, 28, 28)\n",
        "          x_final = x_cat.reshape(x.shape[0], 1, 28, 28)\n",
        "        else:\n",
        "          x_final = x\n",
        "        #print(x_final.shape)\n",
        "        x_final = F.relu(F.max_pool2d(self.conv1(x_final), 2))\n",
        "        #print(x_final.shape)\n",
        "        x_final = F.relu(F.max_pool2d(self.conv2(self.conv2(x_final)), 2))\n",
        "        #print(x_final.shape)\n",
        "        x_final = x_final.view(-1, 320)\n",
        "        #print(x_final.shape)\n",
        "        x_final = F.relu(self.fc1(x_final))\n",
        "        #print(x_final.shape)\n",
        "        #x_final = F.dropout(x_final, training=self.training)\n",
        "        #print(x_final.shape)\n",
        "        x_final = self.fc2(x_final)\n",
        "        #print(x_final.shape)\n",
        "        return F.log_softmax(x_final)\n",
        "\n",
        "device = torch.device(\"cuda\" if torch.cuda.is_available() else \"cpu\")\n",
        "network = MyModel(2)\n",
        "network.to(device)\n",
        "optimizer = optim.SGD(network.parameters(), lr=learning_rate,\n",
        "                      momentum=momentum) "
      ]
    },
    {
      "cell_type": "markdown",
      "metadata": {
        "id": "dd8V7d4Tem4O"
      },
      "source": [
        "### Remove both"
      ]
    },
    {
      "cell_type": "code",
      "execution_count": null,
      "metadata": {
        "id": "w9gHkyEbepka"
      },
      "outputs": [],
      "source": []
    },
    {
      "cell_type": "markdown",
      "metadata": {
        "id": "657Ct1JYszmJ"
      },
      "source": [
        "## Training"
      ]
    },
    {
      "cell_type": "code",
      "execution_count": null,
      "metadata": {
        "id": "o8zhGiLRdrVh"
      },
      "outputs": [],
      "source": [
        "train_losses = []\n",
        "train_counter = []\n",
        "test_losses = []\n",
        "train_mse = []\n",
        "test_mse = []\n",
        "train_mse_ratio = []\n",
        "test_mse_ratio = []\n",
        "test_counter = [i*len(train_loader.dataset) for i in range(n_epochs + 1)]"
      ]
    },
    {
      "cell_type": "code",
      "execution_count": null,
      "metadata": {
        "colab": {
          "background_save": true,
          "base_uri": "https://localhost:8080/"
        },
        "id": "QzqLdqGsdzBq",
        "outputId": "6a1326e8-de43-45fa-d025-e5af898b295c"
      },
      "outputs": [
        {
          "name": "stderr",
          "output_type": "stream",
          "text": [
            "<ipython-input-28-b4fa26db2145>:72: UserWarning: Implicit dimension choice for log_softmax has been deprecated. Change the call to include dim=X as an argument.\n",
            "  return F.log_softmax(x_final)\n"
          ]
        },
        {
          "name": "stdout",
          "output_type": "stream",
          "text": [
            "\n",
            "Test set: Avg. loss: 2.3109, Accuracy: 1337/10000 (13%)\n",
            "\n",
            "Train Epoch: 1 [0/60000 (0%)]\tLoss: 2.454075\n",
            "Train Epoch: 1 [640/60000 (1%)]\tLoss: 1.973085\n",
            "Train Epoch: 1 [1280/60000 (2%)]\tLoss: 1.577878\n",
            "Train Epoch: 1 [1920/60000 (3%)]\tLoss: 1.330634\n",
            "Train Epoch: 1 [2560/60000 (4%)]\tLoss: 1.433640\n",
            "Train Epoch: 1 [3200/60000 (5%)]\tLoss: 0.879849\n",
            "Train Epoch: 1 [3840/60000 (6%)]\tLoss: 1.193038\n",
            "Train Epoch: 1 [4480/60000 (7%)]\tLoss: 1.031339\n",
            "Train Epoch: 1 [5120/60000 (9%)]\tLoss: 0.950351\n",
            "Train Epoch: 1 [5760/60000 (10%)]\tLoss: 1.229468\n",
            "Train Epoch: 1 [6400/60000 (11%)]\tLoss: 0.555392\n",
            "Train Epoch: 1 [7040/60000 (12%)]\tLoss: 0.757518\n",
            "Train Epoch: 1 [7680/60000 (13%)]\tLoss: 0.715911\n",
            "Train Epoch: 1 [8320/60000 (14%)]\tLoss: 0.685131\n",
            "Train Epoch: 1 [8960/60000 (15%)]\tLoss: 0.728877\n",
            "Train Epoch: 1 [9600/60000 (16%)]\tLoss: 0.779053\n",
            "Train Epoch: 1 [10240/60000 (17%)]\tLoss: 0.604310\n",
            "Train Epoch: 1 [10880/60000 (18%)]\tLoss: 0.880412\n",
            "Train Epoch: 1 [11520/60000 (19%)]\tLoss: 0.687459\n",
            "Train Epoch: 1 [12160/60000 (20%)]\tLoss: 1.088949\n",
            "Train Epoch: 1 [12800/60000 (21%)]\tLoss: 0.830157\n",
            "Train Epoch: 1 [13440/60000 (22%)]\tLoss: 0.522601\n",
            "Train Epoch: 1 [14080/60000 (23%)]\tLoss: 0.695247\n",
            "Train Epoch: 1 [14720/60000 (25%)]\tLoss: 0.491598\n",
            "Train Epoch: 1 [15360/60000 (26%)]\tLoss: 0.636739\n",
            "Train Epoch: 1 [16000/60000 (27%)]\tLoss: 0.585203\n",
            "Train Epoch: 1 [16640/60000 (28%)]\tLoss: 0.545710\n",
            "Train Epoch: 1 [17280/60000 (29%)]\tLoss: 0.644406\n",
            "Train Epoch: 1 [17920/60000 (30%)]\tLoss: 0.643539\n",
            "Train Epoch: 1 [18560/60000 (31%)]\tLoss: 0.705875\n",
            "Train Epoch: 1 [19200/60000 (32%)]\tLoss: 0.582544\n",
            "Train Epoch: 1 [19840/60000 (33%)]\tLoss: 0.454619\n",
            "Train Epoch: 1 [20480/60000 (34%)]\tLoss: 0.515712\n",
            "Train Epoch: 1 [21120/60000 (35%)]\tLoss: 0.605386\n",
            "Train Epoch: 1 [21760/60000 (36%)]\tLoss: 0.429026\n",
            "Train Epoch: 1 [22400/60000 (37%)]\tLoss: 0.902242\n",
            "Train Epoch: 1 [23040/60000 (38%)]\tLoss: 0.540678\n",
            "Train Epoch: 1 [23680/60000 (39%)]\tLoss: 0.778697\n",
            "Train Epoch: 1 [24320/60000 (41%)]\tLoss: 0.351136\n",
            "Train Epoch: 1 [24960/60000 (42%)]\tLoss: 0.583562\n",
            "Train Epoch: 1 [25600/60000 (43%)]\tLoss: 0.471443\n",
            "Train Epoch: 1 [26240/60000 (44%)]\tLoss: 0.418815\n",
            "Train Epoch: 1 [26880/60000 (45%)]\tLoss: 0.707174\n",
            "Train Epoch: 1 [27520/60000 (46%)]\tLoss: 0.576000\n",
            "Train Epoch: 1 [28160/60000 (47%)]\tLoss: 0.450517\n",
            "Train Epoch: 1 [28800/60000 (48%)]\tLoss: 0.495058\n",
            "Train Epoch: 1 [29440/60000 (49%)]\tLoss: 0.404617\n",
            "Train Epoch: 1 [30080/60000 (50%)]\tLoss: 0.559286\n",
            "Train Epoch: 1 [30720/60000 (51%)]\tLoss: 0.357458\n",
            "Train Epoch: 1 [31360/60000 (52%)]\tLoss: 0.247546\n",
            "Train Epoch: 1 [32000/60000 (53%)]\tLoss: 0.487514\n",
            "Train Epoch: 1 [32640/60000 (54%)]\tLoss: 0.526686\n",
            "Train Epoch: 1 [33280/60000 (55%)]\tLoss: 0.603675\n",
            "Train Epoch: 1 [33920/60000 (57%)]\tLoss: 0.381791\n",
            "Train Epoch: 1 [34560/60000 (58%)]\tLoss: 0.383691\n",
            "Train Epoch: 1 [35200/60000 (59%)]\tLoss: 0.402604\n",
            "Train Epoch: 1 [35840/60000 (60%)]\tLoss: 0.309406\n",
            "Train Epoch: 1 [36480/60000 (61%)]\tLoss: 0.459372\n",
            "Train Epoch: 1 [37120/60000 (62%)]\tLoss: 0.428709\n",
            "Train Epoch: 1 [37760/60000 (63%)]\tLoss: 0.437298\n",
            "Train Epoch: 1 [38400/60000 (64%)]\tLoss: 0.290937\n",
            "Train Epoch: 1 [39040/60000 (65%)]\tLoss: 0.394367\n",
            "Train Epoch: 1 [39680/60000 (66%)]\tLoss: 0.364529\n",
            "Train Epoch: 1 [40320/60000 (67%)]\tLoss: 0.535893\n",
            "Train Epoch: 1 [40960/60000 (68%)]\tLoss: 0.454169\n",
            "Train Epoch: 1 [41600/60000 (69%)]\tLoss: 0.413098\n",
            "Train Epoch: 1 [42240/60000 (70%)]\tLoss: 0.448443\n",
            "Train Epoch: 1 [42880/60000 (71%)]\tLoss: 0.270684\n",
            "Train Epoch: 1 [43520/60000 (72%)]\tLoss: 0.538094\n",
            "Train Epoch: 1 [44160/60000 (74%)]\tLoss: 0.373684\n",
            "Train Epoch: 1 [44800/60000 (75%)]\tLoss: 0.702100\n",
            "Train Epoch: 1 [45440/60000 (76%)]\tLoss: 0.273467\n",
            "Train Epoch: 1 [46080/60000 (77%)]\tLoss: 0.343949\n",
            "Train Epoch: 1 [46720/60000 (78%)]\tLoss: 0.288567\n",
            "Train Epoch: 1 [47360/60000 (79%)]\tLoss: 0.445655\n",
            "Train Epoch: 1 [48000/60000 (80%)]\tLoss: 0.525142\n",
            "Train Epoch: 1 [48640/60000 (81%)]\tLoss: 0.339311\n",
            "Train Epoch: 1 [49280/60000 (82%)]\tLoss: 0.406018\n",
            "Train Epoch: 1 [49920/60000 (83%)]\tLoss: 0.315610\n",
            "Train Epoch: 1 [50560/60000 (84%)]\tLoss: 0.209353\n",
            "Train Epoch: 1 [51200/60000 (85%)]\tLoss: 0.575811\n",
            "Train Epoch: 1 [51840/60000 (86%)]\tLoss: 0.236479\n",
            "Train Epoch: 1 [52480/60000 (87%)]\tLoss: 0.383751\n",
            "Train Epoch: 1 [53120/60000 (88%)]\tLoss: 0.243894\n",
            "Train Epoch: 1 [53760/60000 (90%)]\tLoss: 0.447340\n",
            "Train Epoch: 1 [54400/60000 (91%)]\tLoss: 0.500080\n",
            "Train Epoch: 1 [55040/60000 (92%)]\tLoss: 0.409508\n",
            "Train Epoch: 1 [55680/60000 (93%)]\tLoss: 0.388050\n",
            "Train Epoch: 1 [56320/60000 (94%)]\tLoss: 0.397731\n",
            "Train Epoch: 1 [56960/60000 (95%)]\tLoss: 0.468331\n",
            "Train Epoch: 1 [57600/60000 (96%)]\tLoss: 0.401816\n",
            "Train Epoch: 1 [58240/60000 (97%)]\tLoss: 0.415982\n",
            "Train Epoch: 1 [58880/60000 (98%)]\tLoss: 0.153177\n",
            "Train Epoch: 1 [59520/60000 (99%)]\tLoss: 0.404099\n",
            "\n",
            "Test set: Avg. loss: 0.1737, Accuracy: 9451/10000 (95%)\n",
            "\n",
            "Train Epoch: 2 [0/60000 (0%)]\tLoss: 0.250940\n",
            "Train Epoch: 2 [640/60000 (1%)]\tLoss: 0.352996\n",
            "Train Epoch: 2 [1280/60000 (2%)]\tLoss: 0.337174\n",
            "Train Epoch: 2 [1920/60000 (3%)]\tLoss: 0.189208\n",
            "Train Epoch: 2 [2560/60000 (4%)]\tLoss: 0.166001\n",
            "Train Epoch: 2 [3200/60000 (5%)]\tLoss: 0.354587\n",
            "Train Epoch: 2 [3840/60000 (6%)]\tLoss: 0.379077\n",
            "Train Epoch: 2 [4480/60000 (7%)]\tLoss: 0.493714\n",
            "Train Epoch: 2 [5120/60000 (9%)]\tLoss: 0.220528\n",
            "Train Epoch: 2 [5760/60000 (10%)]\tLoss: 0.192654\n",
            "Train Epoch: 2 [6400/60000 (11%)]\tLoss: 0.504127\n",
            "Train Epoch: 2 [7040/60000 (12%)]\tLoss: 0.326342\n",
            "Train Epoch: 2 [7680/60000 (13%)]\tLoss: 0.358034\n",
            "Train Epoch: 2 [8320/60000 (14%)]\tLoss: 0.274616\n",
            "Train Epoch: 2 [8960/60000 (15%)]\tLoss: 0.185588\n",
            "Train Epoch: 2 [9600/60000 (16%)]\tLoss: 0.208108\n",
            "Train Epoch: 2 [10240/60000 (17%)]\tLoss: 0.285055\n",
            "Train Epoch: 2 [10880/60000 (18%)]\tLoss: 0.326380\n",
            "Train Epoch: 2 [11520/60000 (19%)]\tLoss: 0.241423\n",
            "Train Epoch: 2 [12160/60000 (20%)]\tLoss: 0.301872\n",
            "Train Epoch: 2 [12800/60000 (21%)]\tLoss: 0.569181\n",
            "Train Epoch: 2 [13440/60000 (22%)]\tLoss: 0.329746\n",
            "Train Epoch: 2 [14080/60000 (23%)]\tLoss: 0.194993\n",
            "Train Epoch: 2 [14720/60000 (25%)]\tLoss: 0.553881\n",
            "Train Epoch: 2 [15360/60000 (26%)]\tLoss: 0.214740\n",
            "Train Epoch: 2 [16000/60000 (27%)]\tLoss: 0.401454\n",
            "Train Epoch: 2 [16640/60000 (28%)]\tLoss: 0.496765\n",
            "Train Epoch: 2 [17280/60000 (29%)]\tLoss: 0.384848\n",
            "Train Epoch: 2 [17920/60000 (30%)]\tLoss: 0.252146\n",
            "Train Epoch: 2 [18560/60000 (31%)]\tLoss: 0.224815\n",
            "Train Epoch: 2 [19200/60000 (32%)]\tLoss: 0.242230\n",
            "Train Epoch: 2 [19840/60000 (33%)]\tLoss: 0.238363\n",
            "Train Epoch: 2 [20480/60000 (34%)]\tLoss: 0.260483\n",
            "Train Epoch: 2 [21120/60000 (35%)]\tLoss: 0.399717\n",
            "Train Epoch: 2 [21760/60000 (36%)]\tLoss: 0.439657\n",
            "Train Epoch: 2 [22400/60000 (37%)]\tLoss: 0.295952\n",
            "Train Epoch: 2 [23040/60000 (38%)]\tLoss: 0.268786\n",
            "Train Epoch: 2 [23680/60000 (39%)]\tLoss: 0.121754\n",
            "Train Epoch: 2 [24320/60000 (41%)]\tLoss: 0.397833\n",
            "Train Epoch: 2 [24960/60000 (42%)]\tLoss: 0.454772\n",
            "Train Epoch: 2 [25600/60000 (43%)]\tLoss: 0.389917\n",
            "Train Epoch: 2 [26240/60000 (44%)]\tLoss: 0.439339\n",
            "Train Epoch: 2 [26880/60000 (45%)]\tLoss: 0.440446\n",
            "Train Epoch: 2 [27520/60000 (46%)]\tLoss: 0.548004\n",
            "Train Epoch: 2 [28160/60000 (47%)]\tLoss: 0.356034\n",
            "Train Epoch: 2 [28800/60000 (48%)]\tLoss: 0.219609\n",
            "Train Epoch: 2 [29440/60000 (49%)]\tLoss: 0.260101\n",
            "Train Epoch: 2 [30080/60000 (50%)]\tLoss: 0.066486\n",
            "Train Epoch: 2 [30720/60000 (51%)]\tLoss: 0.565936\n",
            "Train Epoch: 2 [31360/60000 (52%)]\tLoss: 0.449304\n",
            "Train Epoch: 2 [32000/60000 (53%)]\tLoss: 0.178770\n",
            "Train Epoch: 2 [32640/60000 (54%)]\tLoss: 0.241025\n",
            "Train Epoch: 2 [33280/60000 (55%)]\tLoss: 0.138035\n",
            "Train Epoch: 2 [33920/60000 (57%)]\tLoss: 0.120296\n",
            "Train Epoch: 2 [34560/60000 (58%)]\tLoss: 0.480308\n",
            "Train Epoch: 2 [35200/60000 (59%)]\tLoss: 0.239596\n",
            "Train Epoch: 2 [35840/60000 (60%)]\tLoss: 0.254248\n",
            "Train Epoch: 2 [36480/60000 (61%)]\tLoss: 0.262730\n",
            "Train Epoch: 2 [37120/60000 (62%)]\tLoss: 0.327081\n",
            "Train Epoch: 2 [37760/60000 (63%)]\tLoss: 0.211897\n",
            "Train Epoch: 2 [38400/60000 (64%)]\tLoss: 0.299202\n",
            "Train Epoch: 2 [39040/60000 (65%)]\tLoss: 0.302579\n",
            "Train Epoch: 2 [39680/60000 (66%)]\tLoss: 0.263656\n",
            "Train Epoch: 2 [40320/60000 (67%)]\tLoss: 0.189521\n",
            "Train Epoch: 2 [40960/60000 (68%)]\tLoss: 0.289657\n",
            "Train Epoch: 2 [41600/60000 (69%)]\tLoss: 0.276817\n",
            "Train Epoch: 2 [42240/60000 (70%)]\tLoss: 0.261568\n",
            "Train Epoch: 2 [42880/60000 (71%)]\tLoss: 0.225284\n",
            "Train Epoch: 2 [43520/60000 (72%)]\tLoss: 0.317015\n",
            "Train Epoch: 2 [44160/60000 (74%)]\tLoss: 0.190102\n",
            "Train Epoch: 2 [44800/60000 (75%)]\tLoss: 0.302001\n",
            "Train Epoch: 2 [45440/60000 (76%)]\tLoss: 0.308340\n",
            "Train Epoch: 2 [46080/60000 (77%)]\tLoss: 0.124650\n",
            "Train Epoch: 2 [46720/60000 (78%)]\tLoss: 0.363796\n",
            "Train Epoch: 2 [47360/60000 (79%)]\tLoss: 0.176730\n",
            "Train Epoch: 2 [48000/60000 (80%)]\tLoss: 0.213605\n",
            "Train Epoch: 2 [48640/60000 (81%)]\tLoss: 0.437766\n",
            "Train Epoch: 2 [49280/60000 (82%)]\tLoss: 0.358711\n",
            "Train Epoch: 2 [49920/60000 (83%)]\tLoss: 0.140163\n",
            "Train Epoch: 2 [50560/60000 (84%)]\tLoss: 0.165856\n",
            "Train Epoch: 2 [51200/60000 (85%)]\tLoss: 0.238500\n",
            "Train Epoch: 2 [51840/60000 (86%)]\tLoss: 0.228638\n",
            "Train Epoch: 2 [52480/60000 (87%)]\tLoss: 0.210194\n",
            "Train Epoch: 2 [53120/60000 (88%)]\tLoss: 0.172986\n",
            "Train Epoch: 2 [53760/60000 (90%)]\tLoss: 0.491548\n",
            "Train Epoch: 2 [54400/60000 (91%)]\tLoss: 0.183759\n",
            "Train Epoch: 2 [55040/60000 (92%)]\tLoss: 0.245111\n",
            "Train Epoch: 2 [55680/60000 (93%)]\tLoss: 0.336486\n",
            "Train Epoch: 2 [56320/60000 (94%)]\tLoss: 0.357516\n",
            "Train Epoch: 2 [56960/60000 (95%)]\tLoss: 0.383562\n",
            "Train Epoch: 2 [57600/60000 (96%)]\tLoss: 0.325781\n",
            "Train Epoch: 2 [58240/60000 (97%)]\tLoss: 0.426174\n",
            "Train Epoch: 2 [58880/60000 (98%)]\tLoss: 0.315542\n",
            "Train Epoch: 2 [59520/60000 (99%)]\tLoss: 0.502979\n",
            "\n",
            "Test set: Avg. loss: 0.1251, Accuracy: 9606/10000 (96%)\n",
            "\n",
            "Train Epoch: 3 [0/60000 (0%)]\tLoss: 0.223243\n",
            "Train Epoch: 3 [640/60000 (1%)]\tLoss: 0.059681\n",
            "Train Epoch: 3 [1280/60000 (2%)]\tLoss: 0.127406\n",
            "Train Epoch: 3 [1920/60000 (3%)]\tLoss: 0.393701\n",
            "Train Epoch: 3 [2560/60000 (4%)]\tLoss: 0.183013\n",
            "Train Epoch: 3 [3200/60000 (5%)]\tLoss: 0.315376\n",
            "Train Epoch: 3 [3840/60000 (6%)]\tLoss: 0.234822\n",
            "Train Epoch: 3 [4480/60000 (7%)]\tLoss: 0.315260\n",
            "Train Epoch: 3 [5120/60000 (9%)]\tLoss: 0.216372\n",
            "Train Epoch: 3 [5760/60000 (10%)]\tLoss: 0.195936\n",
            "Train Epoch: 3 [6400/60000 (11%)]\tLoss: 0.248150\n",
            "Train Epoch: 3 [7040/60000 (12%)]\tLoss: 0.322022\n",
            "Train Epoch: 3 [7680/60000 (13%)]\tLoss: 0.219076\n",
            "Train Epoch: 3 [8320/60000 (14%)]\tLoss: 0.390517\n",
            "Train Epoch: 3 [8960/60000 (15%)]\tLoss: 0.629717\n",
            "Train Epoch: 3 [9600/60000 (16%)]\tLoss: 0.252009\n",
            "Train Epoch: 3 [10240/60000 (17%)]\tLoss: 0.220908\n",
            "Train Epoch: 3 [10880/60000 (18%)]\tLoss: 0.128226\n",
            "Train Epoch: 3 [11520/60000 (19%)]\tLoss: 0.145924\n",
            "Train Epoch: 3 [12160/60000 (20%)]\tLoss: 0.317003\n",
            "Train Epoch: 3 [12800/60000 (21%)]\tLoss: 0.233692\n",
            "Train Epoch: 3 [13440/60000 (22%)]\tLoss: 0.077803\n",
            "Train Epoch: 3 [14080/60000 (23%)]\tLoss: 0.241882\n",
            "Train Epoch: 3 [14720/60000 (25%)]\tLoss: 0.170975\n",
            "Train Epoch: 3 [15360/60000 (26%)]\tLoss: 0.282318\n",
            "Train Epoch: 3 [16000/60000 (27%)]\tLoss: 0.216421\n",
            "Train Epoch: 3 [16640/60000 (28%)]\tLoss: 0.472815\n",
            "Train Epoch: 3 [17280/60000 (29%)]\tLoss: 0.183419\n",
            "Train Epoch: 3 [17920/60000 (30%)]\tLoss: 0.226214\n",
            "Train Epoch: 3 [18560/60000 (31%)]\tLoss: 0.253417\n",
            "Train Epoch: 3 [19200/60000 (32%)]\tLoss: 0.327039\n",
            "Train Epoch: 3 [19840/60000 (33%)]\tLoss: 0.163848\n",
            "Train Epoch: 3 [20480/60000 (34%)]\tLoss: 0.162823\n",
            "Train Epoch: 3 [21120/60000 (35%)]\tLoss: 0.199887\n",
            "Train Epoch: 3 [21760/60000 (36%)]\tLoss: 0.397980\n",
            "Train Epoch: 3 [22400/60000 (37%)]\tLoss: 0.180266\n",
            "Train Epoch: 3 [23040/60000 (38%)]\tLoss: 0.281638\n",
            "Train Epoch: 3 [23680/60000 (39%)]\tLoss: 0.316427\n",
            "Train Epoch: 3 [24320/60000 (41%)]\tLoss: 0.111152\n",
            "Train Epoch: 3 [24960/60000 (42%)]\tLoss: 0.094710\n",
            "Train Epoch: 3 [25600/60000 (43%)]\tLoss: 0.161115\n",
            "Train Epoch: 3 [26240/60000 (44%)]\tLoss: 0.207094\n",
            "Train Epoch: 3 [26880/60000 (45%)]\tLoss: 0.262506\n",
            "Train Epoch: 3 [27520/60000 (46%)]\tLoss: 0.193860\n",
            "Train Epoch: 3 [28160/60000 (47%)]\tLoss: 0.226012\n",
            "Train Epoch: 3 [28800/60000 (48%)]\tLoss: 0.399771\n",
            "Train Epoch: 3 [29440/60000 (49%)]\tLoss: 0.324562\n",
            "Train Epoch: 3 [30080/60000 (50%)]\tLoss: 0.388840\n",
            "Train Epoch: 3 [30720/60000 (51%)]\tLoss: 0.110488\n",
            "Train Epoch: 3 [31360/60000 (52%)]\tLoss: 0.159504\n",
            "Train Epoch: 3 [32000/60000 (53%)]\tLoss: 0.241271\n",
            "Train Epoch: 3 [32640/60000 (54%)]\tLoss: 0.036123\n",
            "Train Epoch: 3 [33280/60000 (55%)]\tLoss: 0.094554\n",
            "Train Epoch: 3 [33920/60000 (57%)]\tLoss: 0.232618\n",
            "Train Epoch: 3 [34560/60000 (58%)]\tLoss: 0.331873\n",
            "Train Epoch: 3 [35200/60000 (59%)]\tLoss: 0.175899\n",
            "Train Epoch: 3 [35840/60000 (60%)]\tLoss: 0.259499\n",
            "Train Epoch: 3 [36480/60000 (61%)]\tLoss: 0.085317\n",
            "Train Epoch: 3 [37120/60000 (62%)]\tLoss: 0.235483\n",
            "Train Epoch: 3 [37760/60000 (63%)]\tLoss: 0.092901\n",
            "Train Epoch: 3 [38400/60000 (64%)]\tLoss: 0.307361\n",
            "Train Epoch: 3 [39040/60000 (65%)]\tLoss: 0.229612\n",
            "Train Epoch: 3 [39680/60000 (66%)]\tLoss: 0.122167\n",
            "Train Epoch: 3 [40320/60000 (67%)]\tLoss: 0.216711\n",
            "Train Epoch: 3 [40960/60000 (68%)]\tLoss: 0.221313\n",
            "Train Epoch: 3 [41600/60000 (69%)]\tLoss: 0.226216\n",
            "Train Epoch: 3 [42240/60000 (70%)]\tLoss: 0.247298\n",
            "Train Epoch: 3 [42880/60000 (71%)]\tLoss: 0.379991\n",
            "Train Epoch: 3 [43520/60000 (72%)]\tLoss: 0.258956\n",
            "Train Epoch: 3 [44160/60000 (74%)]\tLoss: 0.341784\n",
            "Train Epoch: 3 [44800/60000 (75%)]\tLoss: 0.206128\n",
            "Train Epoch: 3 [45440/60000 (76%)]\tLoss: 0.177136\n",
            "Train Epoch: 3 [46080/60000 (77%)]\tLoss: 0.459143\n",
            "Train Epoch: 3 [46720/60000 (78%)]\tLoss: 0.256577\n",
            "Train Epoch: 3 [47360/60000 (79%)]\tLoss: 0.151053\n",
            "Train Epoch: 3 [48000/60000 (80%)]\tLoss: 0.251280\n",
            "Train Epoch: 3 [48640/60000 (81%)]\tLoss: 0.290499\n",
            "Train Epoch: 3 [49280/60000 (82%)]\tLoss: 0.167669\n",
            "Train Epoch: 3 [49920/60000 (83%)]\tLoss: 0.210250\n",
            "Train Epoch: 3 [50560/60000 (84%)]\tLoss: 0.193061\n",
            "Train Epoch: 3 [51200/60000 (85%)]\tLoss: 0.320556\n",
            "Train Epoch: 3 [51840/60000 (86%)]\tLoss: 0.341174\n",
            "Train Epoch: 3 [52480/60000 (87%)]\tLoss: 0.134042\n",
            "Train Epoch: 3 [53120/60000 (88%)]\tLoss: 0.275747\n",
            "Train Epoch: 3 [53760/60000 (90%)]\tLoss: 0.268592\n",
            "Train Epoch: 3 [54400/60000 (91%)]\tLoss: 0.145339\n",
            "Train Epoch: 3 [55040/60000 (92%)]\tLoss: 0.233354\n",
            "Train Epoch: 3 [55680/60000 (93%)]\tLoss: 0.324768\n",
            "Train Epoch: 3 [56320/60000 (94%)]\tLoss: 0.268016\n",
            "Train Epoch: 3 [56960/60000 (95%)]\tLoss: 0.129067\n",
            "Train Epoch: 3 [57600/60000 (96%)]\tLoss: 0.167001\n",
            "Train Epoch: 3 [58240/60000 (97%)]\tLoss: 0.358696\n",
            "Train Epoch: 3 [58880/60000 (98%)]\tLoss: 0.329321\n",
            "Train Epoch: 3 [59520/60000 (99%)]\tLoss: 0.110515\n",
            "\n",
            "Test set: Avg. loss: 0.1036, Accuracy: 9664/10000 (97%)\n",
            "\n"
          ]
        }
      ],
      "source": [
        "def train(epoch, stage):\n",
        "  network.train()\n",
        "  mse_dec = torch.empty(0).to(device)\n",
        "  mse_enc = torch.empty(0).to(device)\n",
        "  for batch_idx, (data, target) in enumerate(train_loader):\n",
        "    optimizer.zero_grad()\n",
        "    if stage == 2:\n",
        "      data_enc = encrypt(data, w_matrix).to(device)\n",
        "    target = target.to(device)\n",
        "    output = network(data_enc)\n",
        "    #print(output.shape, target.shape)\n",
        "    loss = F.nll_loss(output, target)\n",
        "    diff_dec = diff(data.to(device), encrypt(data_enc, network.linear.weight)).squeeze()\n",
        "    diff_enc = diff(data.to(device), data_enc).squeeze()\n",
        "    mse_dec = torch.cat((mse_dec, diff_dec), dim=0)\n",
        "    mse_enc = torch.cat((mse_enc, diff_enc), dim=0)\n",
        "    #print(diff_enc[:10], diff_dec[:10])\n",
        "    loss.backward()\n",
        "    optimizer.step()\n",
        "    if batch_idx % log_interval == 0:\n",
        "      print('Train Epoch: {} [{}/{} ({:.0f}%)]\\tLoss: {:.6f}'.format(\n",
        "        epoch, batch_idx * len(data), len(train_loader.dataset),\n",
        "        100. * batch_idx / len(train_loader), loss.item()))\n",
        "      train_losses.append(loss.item())\n",
        "      train_mse.append(torch.mean(mse_dec, dim=0).item())\n",
        "      train_mse_ratio.append(torch.median(torch.div(mse_enc, mse_dec)).item())\n",
        "      train_counter.append(\n",
        "        (batch_idx*64) + ((epoch-1)*len(train_loader.dataset)))\n",
        "      torch.save(network.state_dict(), 'model.pth')\n",
        "      torch.save(optimizer.state_dict(), 'optimizer.pth')\n",
        "\n",
        "def test(stage):\n",
        "  network.eval()\n",
        "  test_loss = 0\n",
        "  correct = 0\n",
        "  mse_dec = torch.empty(0).to(device)\n",
        "  mse_enc = torch.empty(0).to(device)\n",
        "  with torch.no_grad():\n",
        "    for data, target in test_loader:\n",
        "      if stage == 2:\n",
        "        data_enc = encrypt(data, w_matrix).to(device)\n",
        "      target = target.to(device)\n",
        "      output = network(data_enc)\n",
        "      #print(output.shape, target.shape)\n",
        "      test_loss += F.nll_loss(output, target, size_average=False).item()\n",
        "      diff_dec = diff(data.to(device), encrypt(data_enc, network.linear.weight)).squeeze()\n",
        "      diff_enc = diff(data.to(device), data_enc).squeeze()\n",
        "      mse_dec = torch.cat((mse_dec, diff_dec), dim=0)\n",
        "      mse_enc = torch.cat((mse_enc, diff_enc), dim=0)\n",
        "      pred = output.data.max(1, keepdim=True)[1]\n",
        "      correct += pred.eq(target.data.view_as(pred)).sum()\n",
        "  test_loss /= len(test_loader.dataset)\n",
        "  test_losses.append(test_loss)\n",
        "  test_mse.append(torch.mean(mse_dec, dim=0).item())\n",
        "  test_mse_ratio.append(torch.median(torch.div(mse_enc, mse_dec)).item())\n",
        "  #for i in range(10):\n",
        "  #  print(diff(data, encrypt(data_enc, network.linear.weight)).squeeze()[i].item())\n",
        "  print('\\nTest set: Avg. loss: {:.4f}, Accuracy: {}/{} ({:.0f}%)\\n'.format(\n",
        "    test_loss, correct, len(test_loader.dataset),\n",
        "    100. * correct / len(test_loader.dataset)))\n",
        "\n",
        "test(2)\n",
        "for epoch in range(1, n_epochs + 1):\n",
        "  train(epoch, 2)\n",
        "  test(2)\n"
      ]
    },
    {
      "cell_type": "code",
      "execution_count": null,
      "metadata": {
        "colab": {
          "base_uri": "https://localhost:8080/",
          "height": 318
        },
        "id": "N2Yj0e1u6FTB",
        "outputId": "fb5926bc-b259-481a-e78b-50a1db493359"
      },
      "outputs": [
        {
          "name": "stdout",
          "output_type": "stream",
          "text": [
            "[0, 60000, 120000, 180000] [2.604756640625, 0.2507417572021484, 0.17431716613769532, 0.14210051803588866]\n"
          ]
        },
        {
          "data": {
            "text/plain": [
              "Text(0, 0.5, 'negative log likelihood loss')"
            ]
          },
          "execution_count": 63,
          "metadata": {},
          "output_type": "execute_result"
        },
        {
          "data": {
            "image/png": "[encoded data removed]",
            "text/plain": [
              "<Figure size 432x288 with 1 Axes>"
            ]
          },
          "metadata": {},
          "output_type": "display_data"
        }
      ],
      "source": [
        "fig = plt.figure()\n",
        "plt.plot(train_counter, train_losses, color='blue')\n",
        "print(test_counter, test_losses)\n",
        "plt.scatter(test_counter, test_losses, color='red')\n",
        "plt.legend(['Train Loss', 'Test Loss'], loc='upper right')\n",
        "plt.xlabel('number of training examples seen')\n",
        "plt.ylabel('negative log likelihood loss')"
      ]
    },
    {
      "cell_type": "code",
      "execution_count": null,
      "metadata": {
        "colab": {
          "base_uri": "https://localhost:8080/",
          "height": 297
        },
        "id": "Z1M4EDueG810",
        "outputId": "49e4883b-1136-4497-c3f3-53febfbd9a82"
      },
      "outputs": [
        {
          "data": {
            "text/plain": [
              "Text(0, 0.5, 'mse')"
            ]
          },
          "execution_count": 64,
          "metadata": {},
          "output_type": "execute_result"
        },
        {
          "data": {
            "image/png": "[encoded data removed]",
            "text/plain": [
              "<Figure size 432x288 with 1 Axes>"
            ]
          },
          "metadata": {},
          "output_type": "display_data"
        }
      ],
      "source": [
        "fig = plt.figure()\n",
        "plt.plot(train_counter, train_mse, color='blue')\n",
        "plt.scatter(test_counter, test_mse, color='red')\n",
        "plt.legend(['Train mse', 'Test mse'], loc='upper right')\n",
        "plt.xlabel('number of training examples seen')\n",
        "plt.ylabel('mse')"
      ]
    },
    {
      "cell_type": "code",
      "execution_count": null,
      "metadata": {
        "colab": {
          "base_uri": "https://localhost:8080/",
          "height": 296
        },
        "id": "N7fbO_asboRe",
        "outputId": "8a9a1f07-0871-4952-ea6a-cb51e69179ba"
      },
      "outputs": [
        {
          "data": {
            "text/plain": [
              "Text(0, 0.5, 'mse_ratio')"
            ]
          },
          "execution_count": 65,
          "metadata": {},
          "output_type": "execute_result"
        },
        {
          "data": {
            "image/png": "[encoded data removed]",
            "text/plain": [
              "<Figure size 432x288 with 1 Axes>"
            ]
          },
          "metadata": {},
          "output_type": "display_data"
        }
      ],
      "source": [
        "fig = plt.figure()\n",
        "plt.plot(train_counter, train_mse_ratio, color='blue')\n",
        "plt.scatter(test_counter, test_mse_ratio, color='red')\n",
        "plt.legend(['Train mse ratio', 'Test mse ratio'], loc='upper right')\n",
        "plt.xlabel('number of training examples seen')\n",
        "plt.ylabel('mse_ratio')"
      ]
    },
    {
      "cell_type": "code",
      "execution_count": null,
      "metadata": {
        "colab": {
          "base_uri": "https://localhost:8080/",
          "height": 283
        },
        "id": "eQoiPevobFtv",
        "outputId": "0e9348cf-ff33-49d9-b088-44a84f3f8e51"
      },
      "outputs": [
        {
          "data": {
            "image/png": "[encoded data removed]",
            "text/plain": [
              "<Figure size 432x288 with 2 Axes>"
            ]
          },
          "metadata": {},
          "output_type": "display_data"
        }
      ],
      "source": [
        "\n",
        "# create figure and axis objects with subplots()\n",
        "fig,ax = plt.subplots()\n",
        "# make a plot\n",
        "ax.plot(train_counter,\n",
        "        train_losses, \n",
        "        color='blue',\n",
        "        )\n",
        "plt.scatter(test_counter, test_losses, color='red')\n",
        "# set x-axis label\n",
        "ax.set_xlabel(\"number of training examples seen\")\n",
        "# set y-axis label\n",
        "ax.set_ylabel(\"negative log likelihood loss\")\n",
        "\n",
        "# twin object for two different y-axis on the sample plot\n",
        "ax2=ax.twinx()\n",
        "# make a plot with different y-axis using second axis object\n",
        "ax2.scatter(test_counter, test_mse, color='purple')\n",
        "ax2.set_ylabel(\"mse\")\n",
        "plt.show()\n",
        "# save the plot as a file\n",
        "\n"
      ]
    },
    {
      "cell_type": "markdown",
      "metadata": {
        "id": "nEWtRCMR3VKx"
      },
      "source": [
        "## Retrieve decryption key"
      ]
    },
    {
      "cell_type": "code",
      "execution_count": null,
      "metadata": {
        "colab": {
          "base_uri": "https://localhost:8080/"
        },
        "id": "d2xEQGgEi7ZB",
        "outputId": "ed07654e-b018-49b7-f575-4483efb2bb0e"
      },
      "outputs": [
        {
          "name": "stdout",
          "output_type": "stream",
          "text": [
            "odict_keys(['linear.weight', 'conv.weight', 'conv.bias', 'conv1.weight', 'conv1.bias', 'conv2.weight', 'conv2.bias', 'fc1.weight', 'fc1.bias', 'fc2.weight', 'fc2.bias'])\n",
            "tensor([[-0.1018, -0.1716, -0.2140,  0.0454,  0.1866,  0.0394,  0.1047,  0.1211,\n",
            "         -0.1888, -0.3682,  0.2447,  0.0370, -0.0741,  0.1613, -0.1621,  0.2859],\n",
            "        [ 0.0017, -0.1655, -0.1226, -0.1124, -0.1213,  0.2029, -0.1094,  0.2401,\n",
            "         -0.1272, -0.1987,  0.1174, -0.1547, -0.1537,  0.1209,  0.1027, -0.1621],\n",
            "        [-0.1861,  0.1433, -0.1153,  0.2521,  0.0101,  0.1800,  0.2690,  0.2400,\n",
            "          0.0164,  0.1476, -0.0993,  0.2385, -0.0629,  0.0852,  0.0288,  0.0454],\n",
            "        [-0.1230, -0.0742,  0.0819,  0.2260,  0.0799, -0.2375,  0.2612, -0.1635,\n",
            "         -0.1979, -0.2071, -0.2111,  0.1327, -0.2191,  0.0298,  0.1899,  0.2093],\n",
            "        [ 0.0222, -0.0606,  0.1735,  0.1379,  0.1728,  0.0163, -0.1818,  0.1427,\n",
            "         -0.1298, -0.2906,  0.1206,  0.1061, -0.0974,  0.1132,  0.1190,  0.0594],\n",
            "        [ 0.1655, -0.2338, -0.0274,  0.0557, -0.0313,  0.1566,  0.2217,  0.1389,\n",
            "         -0.1169, -0.3188, -0.0081, -0.2218,  0.1537, -0.1996,  0.0991,  0.2985],\n",
            "        [-0.0759, -0.1459,  0.2874, -0.1697,  0.2060,  0.1975,  0.2192, -0.1780,\n",
            "          0.2369, -0.0398,  0.1600,  0.0761, -0.1663, -0.2990,  0.1803,  0.2056],\n",
            "        [ 0.2987,  0.0714,  0.1814, -0.0314, -0.0223, -0.1503,  0.0868, -0.0443,\n",
            "         -0.0670, -0.3312, -0.2800,  0.1860, -0.1900, -0.2031, -0.0180, -0.0145],\n",
            "        [-0.1115,  0.1792,  0.0168, -0.1543, -0.1073,  0.0787, -0.0926,  0.0839,\n",
            "         -0.2162, -0.1729, -0.0454, -0.1158, -0.2837, -0.1687,  0.0021, -0.0336],\n",
            "        [-0.0394,  0.0072, -0.1188,  0.2751,  0.2499,  0.2179,  0.3405, -0.0568,\n",
            "          0.2035, -0.2908, -0.1520,  0.1432,  0.0914, -0.2668, -0.0299, -0.0558],\n",
            "        [ 0.2847,  0.0030,  0.1039,  0.1320,  0.1603,  0.1190, -0.1460,  0.0268,\n",
            "          0.2306,  0.3195,  0.0404,  0.2286,  0.1599, -0.1521,  0.0483,  0.0039],\n",
            "        [ 0.0057,  0.0979, -0.2251,  0.2384,  0.0916,  0.2523,  0.1132,  0.2570,\n",
            "         -0.2314, -0.0532, -0.2414, -0.2032, -0.0885,  0.0383, -0.1597,  0.1316],\n",
            "        [-0.2134, -0.2457, -0.2248,  0.0172,  0.1993, -0.0664, -0.1199,  0.1712,\n",
            "         -0.1474, -0.2192,  0.0182, -0.0312, -0.0459, -0.1335, -0.3094,  0.1079],\n",
            "        [-0.1901, -0.2179,  0.0370, -0.1581, -0.1223, -0.0253,  0.0803,  0.2082,\n",
            "         -0.1683, -0.2676, -0.2432,  0.0177, -0.2755, -0.1720, -0.1965,  0.0035],\n",
            "        [-0.1514,  0.0777, -0.2522,  0.1226,  0.1370,  0.0790, -0.2595,  0.2406,\n",
            "          0.1379,  0.1058,  0.0691, -0.1898,  0.0444,  0.0801, -0.1785, -0.0824],\n",
            "        [-0.2726, -0.0004,  0.0703, -0.0971, -0.0449,  0.1284, -0.1072,  0.0133,\n",
            "         -0.2553,  0.0463,  0.1117,  0.1584, -0.0823,  0.2170,  0.0183,  0.0727]],\n",
            "       device='cuda:0')\n"
          ]
        }
      ],
      "source": [
        "# Load the .pth file for debugging\n",
        "checkpoint = torch.load(\"model.pth\")\n",
        "\n",
        "# Print the keys of the checkpoint dictionary\n",
        "print(checkpoint.keys())\n",
        "\n",
        "# Access the model parameters\n",
        "#print(checkpoint[\"linear.bias\"])\n",
        "decryption_key =checkpoint[\"linear.weight\"]\n",
        "print(decryption_key)\n",
        "#print(checkpoint[\"conv2.weight\"].shape)\n",
        "\n",
        "\n",
        "\n",
        "\n"
      ]
    },
    {
      "cell_type": "code",
      "execution_count": null,
      "metadata": {
        "colab": {
          "base_uri": "https://localhost:8080/"
        },
        "id": "fnHnIqHSpBr_",
        "outputId": "0bd3d8e7-44f8-43d8-aead-7f4f4f11c306"
      },
      "outputs": [
        {
          "name": "stdout",
          "output_type": "stream",
          "text": [
            "False\n"
          ]
        }
      ],
      "source": [
        "print(torch.cuda.is_available())\n"
      ]
    },
    {
      "cell_type": "markdown",
      "metadata": {
        "id": "YpA0yebC3bS2"
      },
      "source": [
        "## Measure the performance"
      ]
    },
    {
      "cell_type": "code",
      "execution_count": null,
      "metadata": {
        "colab": {
          "base_uri": "https://localhost:8080/",
          "height": 193
        },
        "id": "8znGKIJm16JV",
        "outputId": "e87e63be-4497-4b0b-df45-44cf6c32452f"
      },
      "outputs": [
        {
          "name": "stdout",
          "output_type": "stream",
          "text": [
            "0 2266 15855 54406\n"
          ]
        },
        {
          "data": {
            "image/png": "[encoded data removed]",
            "text/plain": [
              "<Figure size 576x576 with 4 Axes>"
            ]
          },
          "metadata": {},
          "output_type": "display_data"
        }
      ],
      "source": [
        "import torch\n",
        "import torchvision.transforms as transforms\n",
        "\n",
        "decryption_key = torch.tensor([[-0.0406, -0.2205, -0.2345,  0.0516,  0.2553,  0.1174, -0.0881,  0.0445,\n",
        "         -0.0515, -0.0218,  0.0256,  0.1152,  0.2704,  0.0139, -0.0416, -0.2248],\n",
        "        [ 0.1326, -0.2687, -0.0580,  0.0798, -0.1886, -0.0995,  0.0168,  0.0363,\n",
        "         -0.2119, -0.2622,  0.1903, -0.1340, -0.1291, -0.2084,  0.0673,  0.1520],\n",
        "        [ 0.2392, -0.0140,  0.3176, -0.1038, -0.2321, -0.1370,  0.2435, -0.0465,\n",
        "          0.0214, -0.1940, -0.1334, -0.2444, -0.2416, -0.2463, -0.1195, -0.1867],\n",
        "        [ 0.1268, -0.0260,  0.3834,  0.0249, -0.2893,  0.1652,  0.3941, -0.1653,\n",
        "          0.0276, -0.1844, -0.0711, -0.1271, -0.0859,  0.1057,  0.2015,  0.1808],\n",
        "        [-0.0715, -0.1286,  0.0479,  0.0711, -0.1813, -0.1160,  0.1621, -0.2061,\n",
        "          0.0345,  0.1237,  0.0908,  0.1486, -0.0244, -0.1429,  0.2383,  0.2710],\n",
        "        [-0.0076,  0.1040,  0.2808, -0.1069,  0.0051, -0.0769,  0.3704,  0.1565,\n",
        "         -0.0337,  0.0157, -0.0601,  0.0973,  0.1515, -0.3276, -0.2488,  0.1092],\n",
        "        [-0.1366, -0.1422,  0.0112,  0.0502,  0.3071, -0.2069, -0.2165,  0.0789,\n",
        "          0.2226,  0.3288,  0.0232,  0.0168, -0.0985,  0.0507, -0.2123,  0.2250],\n",
        "        [ 0.2101,  0.1739,  0.2607,  0.0527,  0.0005, -0.1994,  0.0475, -0.2355,\n",
        "          0.1425,  0.2005,  0.1572,  0.1196, -0.0515, -0.2138,  0.0873,  0.0949],\n",
        "        [ 0.2761,  0.0106, -0.2218, -0.2023, -0.0424,  0.1220, -0.1093,  0.1901,\n",
        "          0.1211,  0.0350,  0.2148, -0.0985,  0.2916,  0.0039, -0.0678,  0.0328],\n",
        "        [ 0.1434,  0.2086, -0.0467,  0.0660,  0.2016,  0.2580,  0.3564,  0.1895,\n",
        "          0.2616, -0.1057,  0.1119,  0.1607, -0.0272, -0.0892, -0.1575, -0.0302],\n",
        "        [ 0.1670,  0.1425,  0.0411, -0.1002, -0.2108,  0.0395, -0.0021, -0.1361,\n",
        "         -0.0934, -0.1713, -0.0344, -0.0486, -0.2287,  0.1328,  0.0501, -0.1663],\n",
        "        [-0.0200,  0.2090, -0.1277, -0.0157, -0.1328,  0.1918,  0.0314,  0.0181,\n",
        "          0.0252,  0.1990, -0.2719, -0.0084, -0.1887,  0.0358,  0.2022, -0.1191],\n",
        "        [-0.3246, -0.3250, -0.2898, -0.2028,  0.0645, -0.2444, -0.2418,  0.0048,\n",
        "          0.1536,  0.3925,  0.0231,  0.2302,  0.3490,  0.2380, -0.1476,  0.0996],\n",
        "        [-0.1863, -0.0061,  0.0701, -0.1754, -0.1571,  0.2477,  0.0076, -0.1043,\n",
        "          0.1027, -0.0889,  0.0732, -0.0838,  0.2569,  0.0195, -0.2198,  0.0894],\n",
        "        [-0.1414,  0.1179,  0.1228, -0.0787, -0.0561,  0.1653,  0.0858,  0.0551,\n",
        "         -0.0397, -0.3532, -0.2650,  0.2119, -0.1793, -0.2298,  0.1175, -0.1694],\n",
        "        [ 0.0186,  0.1433, -0.1102, -0.1694,  0.0964,  0.1051, -0.0337,  0.1411,\n",
        "          0.2272,  0.1627,  0.2988,  0.1341,  0.2609,  0.2315,  0.3075, -0.0008]])\n",
        "\n",
        "decryption_key = torch.tensor([[-0.1018, -0.1716, -0.2140,  0.0454,  0.1866,  0.0394,  0.1047,  0.1211,\n",
        "         -0.1888, -0.3682,  0.2447,  0.0370, -0.0741,  0.1613, -0.1621,  0.2859],\n",
        "        [ 0.0017, -0.1655, -0.1226, -0.1124, -0.1213,  0.2029, -0.1094,  0.2401,\n",
        "         -0.1272, -0.1987,  0.1174, -0.1547, -0.1537,  0.1209,  0.1027, -0.1621],\n",
        "        [-0.1861,  0.1433, -0.1153,  0.2521,  0.0101,  0.1800,  0.2690,  0.2400,\n",
        "          0.0164,  0.1476, -0.0993,  0.2385, -0.0629,  0.0852,  0.0288,  0.0454],\n",
        "        [-0.1230, -0.0742,  0.0819,  0.2260,  0.0799, -0.2375,  0.2612, -0.1635,\n",
        "         -0.1979, -0.2071, -0.2111,  0.1327, -0.2191,  0.0298,  0.1899,  0.2093],\n",
        "        [ 0.0222, -0.0606,  0.1735,  0.1379,  0.1728,  0.0163, -0.1818,  0.1427,\n",
        "         -0.1298, -0.2906,  0.1206,  0.1061, -0.0974,  0.1132,  0.1190,  0.0594],\n",
        "        [ 0.1655, -0.2338, -0.0274,  0.0557, -0.0313,  0.1566,  0.2217,  0.1389,\n",
        "         -0.1169, -0.3188, -0.0081, -0.2218,  0.1537, -0.1996,  0.0991,  0.2985],\n",
        "        [-0.0759, -0.1459,  0.2874, -0.1697,  0.2060,  0.1975,  0.2192, -0.1780,\n",
        "          0.2369, -0.0398,  0.1600,  0.0761, -0.1663, -0.2990,  0.1803,  0.2056],\n",
        "        [ 0.2987,  0.0714,  0.1814, -0.0314, -0.0223, -0.1503,  0.0868, -0.0443,\n",
        "         -0.0670, -0.3312, -0.2800,  0.1860, -0.1900, -0.2031, -0.0180, -0.0145],\n",
        "        [-0.1115,  0.1792,  0.0168, -0.1543, -0.1073,  0.0787, -0.0926,  0.0839,\n",
        "         -0.2162, -0.1729, -0.0454, -0.1158, -0.2837, -0.1687,  0.0021, -0.0336],\n",
        "        [-0.0394,  0.0072, -0.1188,  0.2751,  0.2499,  0.2179,  0.3405, -0.0568,\n",
        "          0.2035, -0.2908, -0.1520,  0.1432,  0.0914, -0.2668, -0.0299, -0.0558],\n",
        "        [ 0.2847,  0.0030,  0.1039,  0.1320,  0.1603,  0.1190, -0.1460,  0.0268,\n",
        "          0.2306,  0.3195,  0.0404,  0.2286,  0.1599, -0.1521,  0.0483,  0.0039],\n",
        "        [ 0.0057,  0.0979, -0.2251,  0.2384,  0.0916,  0.2523,  0.1132,  0.2570,\n",
        "         -0.2314, -0.0532, -0.2414, -0.2032, -0.0885,  0.0383, -0.1597,  0.1316],\n",
        "        [-0.2134, -0.2457, -0.2248,  0.0172,  0.1993, -0.0664, -0.1199,  0.1712,\n",
        "         -0.1474, -0.2192,  0.0182, -0.0312, -0.0459, -0.1335, -0.3094,  0.1079],\n",
        "        [-0.1901, -0.2179,  0.0370, -0.1581, -0.1223, -0.0253,  0.0803,  0.2082,\n",
        "         -0.1683, -0.2676, -0.2432,  0.0177, -0.2755, -0.1720, -0.1965,  0.0035],\n",
        "        [-0.1514,  0.0777, -0.2522,  0.1226,  0.1370,  0.0790, -0.2595,  0.2406,\n",
        "          0.1379,  0.1058,  0.0691, -0.1898,  0.0444,  0.0801, -0.1785, -0.0824],\n",
        "        [-0.2726, -0.0004,  0.0703, -0.0971, -0.0449,  0.1284, -0.1072,  0.0133,\n",
        "         -0.2553,  0.0463,  0.1117,  0.1584, -0.0823,  0.2170,  0.0183,  0.0727]])\n",
        "\n",
        "\n",
        "def contrast(img):\n",
        "  img_normalized = normalize(img)\n",
        "  # Apply the transform to the image\n",
        "  #print(img)\n",
        "  result = torch.where(img_normalized > 127, torch.tensor([255.]), torch.tensor([0.]))\n",
        "  return result\n",
        "\n",
        "\n",
        "\n",
        "example_data = normalize(example_data)\n",
        "img_encrypted = normalize(encrypt(example_data, w_matrix))\n",
        "img_decrypted = normalize(encrypt(img_encrypted, decryption_key))\n",
        "img_contrast = normalize(contrast(img_decrypted))\n",
        "\n",
        "\n",
        "i = 4\n",
        "\n",
        "# Ask the user for the lengths of the sides\n",
        "a = int(diff(example_data, img_decrypted)[i][0].item())\n",
        "b = int(diff(example_data, img_encrypted)[i][0].item())\n",
        "c = int(diff(example_data, img_contrast)[i][0].item())\n",
        "d = int(diff(example_data, example_data)[i][0].item())\n",
        "\n",
        "\n",
        "fig, axs = plt.subplots(1, 4, figsize=(8,8))\n",
        "axs[0].imshow(example_data[i][0], cmap = \"gray\", interpolation='none')\n",
        "axs[0].set_title('Original.\\n Diff : {}'.format(d))\n",
        "axs[1].imshow(img_encrypted[i][0], cmap = \"gray\", interpolation='none')\n",
        "axs[1].set_title('Encrypted. \\nDiff : {}'.format(b))\n",
        "axs[2].imshow(img_decrypted[i][0], cmap = \"gray\", interpolation='none')\n",
        "axs[2].set_title('Decrypted. \\nDiff : {}'.format(a))\n",
        "axs[3].imshow(img_contrast[i][0], cmap = \"gray\", interpolation='none')\n",
        "axs[3].set_title('Contrasted. \\nDiff : {}'.format(c))\n",
        "\n",
        "#fig.subplots_adjust(wspace=2)\n",
        "\n",
        "\n",
        "print(d, b,a,c)\n",
        "#print(example_data == example_data)\n"
      ]
    },
    {
      "cell_type": "code",
      "execution_count": null,
      "metadata": {
        "colab": {
          "base_uri": "https://localhost:8080/"
        },
        "id": "I6Z9iIAopsfh",
        "outputId": "1e2bafb8-46be-48cc-f9bb-a8152dba6313"
      },
      "outputs": [
        {
          "name": "stdout",
          "output_type": "stream",
          "text": [
            "tensor([3., 2.])\n"
          ]
        }
      ],
      "source": [
        "import torch\n",
        "\n",
        "ta = torch.tensor([1, 2])\n",
        "tb = torch.tensor([3, 4])\n",
        "print(torch.div(tb, ta))"
      ]
    }
  ],
  "metadata": {
    "accelerator": "GPU",
    "colab": {
      "toc_visible": true,
      "provenance": []
    },
    "gpuClass": "standard",
    "kernelspec": {
      "display_name": "Python 3",
      "name": "python3"
    },
    "language_info": {
      "name": "python"
    },
    "widgets": {
      "application/vnd.jupyter.widget-state+json": {
        "0c69d6348ad74810b3bbd1e8279bf908": {
          "model_module": "@jupyter-widgets/base",
          "model_module_version": "1.2.0",
          "model_name": "LayoutModel",
          "state": {
            "_model_module": "@jupyter-widgets/base",
            "_model_module_version": "1.2.0",
            "_model_name": "LayoutModel",
            "_view_count": null,
            "_view_module": "@jupyter-widgets/base",
            "_view_module_version": "1.2.0",
            "_view_name": "LayoutView",
            "align_content": null,
            "align_items": null,
            "align_self": null,
            "border": null,
            "bottom": null,
            "display": null,
            "flex": null,
            "flex_flow": null,
            "grid_area": null,
            "grid_auto_columns": null,
            "grid_auto_flow": null,
            "grid_auto_rows": null,
            "grid_column": null,
            "grid_gap": null,
            "grid_row": null,
            "grid_template_areas": null,
            "grid_template_columns": null,
            "grid_template_rows": null,
            "height": null,
            "justify_content": null,
            "justify_items": null,
            "left": null,
            "margin": null,
            "max_height": null,
            "max_width": null,
            "min_height": null,
            "min_width": null,
            "object_fit": null,
            "object_position": null,
            "order": null,
            "overflow": null,
            "overflow_x": null,
            "overflow_y": null,
            "padding": null,
            "right": null,
            "top": null,
            "visibility": null,
            "width": null
          }
        },
        "195501c7583f4bbeb8b2a83c5a25e4ee": {
          "model_module": "@jupyter-widgets/base",
          "model_module_version": "1.2.0",
          "model_name": "LayoutModel",
          "state": {
            "_model_module": "@jupyter-widgets/base",
            "_model_module_version": "1.2.0",
            "_model_name": "LayoutModel",
            "_view_count": null,
            "_view_module": "@jupyter-widgets/base",
            "_view_module_version": "1.2.0",
            "_view_name": "LayoutView",
            "align_content": null,
            "align_items": null,
            "align_self": null,
            "border": null,
            "bottom": null,
            "display": null,
            "flex": null,
            "flex_flow": null,
            "grid_area": null,
            "grid_auto_columns": null,
            "grid_auto_flow": null,
            "grid_auto_rows": null,
            "grid_column": null,
            "grid_gap": null,
            "grid_row": null,
            "grid_template_areas": null,
            "grid_template_columns": null,
            "grid_template_rows": null,
            "height": null,
            "justify_content": null,
            "justify_items": null,
            "left": null,
            "margin": null,
            "max_height": null,
            "max_width": null,
            "min_height": null,
            "min_width": null,
            "object_fit": null,
            "object_position": null,
            "order": null,
            "overflow": null,
            "overflow_x": null,
            "overflow_y": null,
            "padding": null,
            "right": null,
            "top": null,
            "visibility": null,
            "width": null
          }
        },
        "1bd0fb1e0d3f4cf3af72dcd375b4b1f4": {
          "model_module": "@jupyter-widgets/base",
          "model_module_version": "1.2.0",
          "model_name": "LayoutModel",
          "state": {
            "_model_module": "@jupyter-widgets/base",
            "_model_module_version": "1.2.0",
            "_model_name": "LayoutModel",
            "_view_count": null,
            "_view_module": "@jupyter-widgets/base",
            "_view_module_version": "1.2.0",
            "_view_name": "LayoutView",
            "align_content": null,
            "align_items": null,
            "align_self": null,
            "border": null,
            "bottom": null,
            "display": null,
            "flex": null,
            "flex_flow": null,
            "grid_area": null,
            "grid_auto_columns": null,
            "grid_auto_flow": null,
            "grid_auto_rows": null,
            "grid_column": null,
            "grid_gap": null,
            "grid_row": null,
            "grid_template_areas": null,
            "grid_template_columns": null,
            "grid_template_rows": null,
            "height": null,
            "justify_content": null,
            "justify_items": null,
            "left": null,
            "margin": null,
            "max_height": null,
            "max_width": null,
            "min_height": null,
            "min_width": null,
            "object_fit": null,
            "object_position": null,
            "order": null,
            "overflow": null,
            "overflow_x": null,
            "overflow_y": null,
            "padding": null,
            "right": null,
            "top": null,
            "visibility": null,
            "width": null
          }
        },
        "1c3210895a7b419cbe1895a02570cad6": {
          "model_module": "@jupyter-widgets/base",
          "model_module_version": "1.2.0",
          "model_name": "LayoutModel",
          "state": {
            "_model_module": "@jupyter-widgets/base",
            "_model_module_version": "1.2.0",
            "_model_name": "LayoutModel",
            "_view_count": null,
            "_view_module": "@jupyter-widgets/base",
            "_view_module_version": "1.2.0",
            "_view_name": "LayoutView",
            "align_content": null,
            "align_items": null,
            "align_self": null,
            "border": null,
            "bottom": null,
            "display": null,
            "flex": null,
            "flex_flow": null,
            "grid_area": null,
            "grid_auto_columns": null,
            "grid_auto_flow": null,
            "grid_auto_rows": null,
            "grid_column": null,
            "grid_gap": null,
            "grid_row": null,
            "grid_template_areas": null,
            "grid_template_columns": null,
            "grid_template_rows": null,
            "height": null,
            "justify_content": null,
            "justify_items": null,
            "left": null,
            "margin": null,
            "max_height": null,
            "max_width": null,
            "min_height": null,
            "min_width": null,
            "object_fit": null,
            "object_position": null,
            "order": null,
            "overflow": null,
            "overflow_x": null,
            "overflow_y": null,
            "padding": null,
            "right": null,
            "top": null,
            "visibility": null,
            "width": null
          }
        },
        "1c4305709b4d43fba831f5be4f94916e": {
          "model_module": "@jupyter-widgets/controls",
          "model_module_version": "1.5.0",
          "model_name": "FloatProgressModel",
          "state": {
            "_dom_classes": [],
            "_model_module": "@jupyter-widgets/controls",
            "_model_module_version": "1.5.0",
            "_model_name": "FloatProgressModel",
            "_view_count": null,
            "_view_module": "@jupyter-widgets/controls",
            "_view_module_version": "1.5.0",
            "_view_name": "ProgressView",
            "bar_style": "success",
            "description": "",
            "description_tooltip": null,
            "layout": "IPY_MODEL_54fe58a837a34f52b7be33ef8add6e1e",
            "max": 4542,
            "min": 0,
            "orientation": "horizontal",
            "style": "IPY_MODEL_fed9ca0849844876966b34fa35297035",
            "value": 4542
          }
        },
        "1d7d840b26b44c41bde8efd0f1fdd06b": {
          "model_module": "@jupyter-widgets/controls",
          "model_module_version": "1.5.0",
          "model_name": "HTMLModel",
          "state": {
            "_dom_classes": [],
            "_model_module": "@jupyter-widgets/controls",
            "_model_module_version": "1.5.0",
            "_model_name": "HTMLModel",
            "_view_count": null,
            "_view_module": "@jupyter-widgets/controls",
            "_view_module_version": "1.5.0",
            "_view_name": "HTMLView",
            "description": "",
            "description_tooltip": null,
            "layout": "IPY_MODEL_e26f87619642437fa3e6d9d22210e0ba",
            "placeholder": "​",
            "style": "IPY_MODEL_20f2b0e8b6bc4355a6f6ee8fb194c33d",
            "value": "100%"
          }
        },
        "1e7a6f5b22fb4647a030f8d3c435907b": {
          "model_module": "@jupyter-widgets/controls",
          "model_module_version": "1.5.0",
          "model_name": "FloatProgressModel",
          "state": {
            "_dom_classes": [],
            "_model_module": "@jupyter-widgets/controls",
            "_model_module_version": "1.5.0",
            "_model_name": "FloatProgressModel",
            "_view_count": null,
            "_view_module": "@jupyter-widgets/controls",
            "_view_module_version": "1.5.0",
            "_view_name": "ProgressView",
            "bar_style": "success",
            "description": "",
            "description_tooltip": null,
            "layout": "IPY_MODEL_9986d201e55e4f3da6cfe0cacdce9217",
            "max": 28881,
            "min": 0,
            "orientation": "horizontal",
            "style": "IPY_MODEL_a0d9306e336343b5824f923afd367c92",
            "value": 28881
          }
        },
        "20f2b0e8b6bc4355a6f6ee8fb194c33d": {
          "model_module": "@jupyter-widgets/controls",
          "model_module_version": "1.5.0",
          "model_name": "DescriptionStyleModel",
          "state": {
            "_model_module": "@jupyter-widgets/controls",
            "_model_module_version": "1.5.0",
            "_model_name": "DescriptionStyleModel",
            "_view_count": null,
            "_view_module": "@jupyter-widgets/base",
            "_view_module_version": "1.2.0",
            "_view_name": "StyleView",
            "description_width": ""
          }
        },
        "3016b5fd130048d3bf6febc94bd297af": {
          "model_module": "@jupyter-widgets/controls",
          "model_module_version": "1.5.0",
          "model_name": "HBoxModel",
          "state": {
            "_dom_classes": [],
            "_model_module": "@jupyter-widgets/controls",
            "_model_module_version": "1.5.0",
            "_model_name": "HBoxModel",
            "_view_count": null,
            "_view_module": "@jupyter-widgets/controls",
            "_view_module_version": "1.5.0",
            "_view_name": "HBoxView",
            "box_style": "",
            "children": [
              "IPY_MODEL_311dd6a1111a42289a0da3d716dc5ee7",
              "IPY_MODEL_3e1e33121aa543e6a9e2459ab1597b31",
              "IPY_MODEL_62be9205c5044f1ab36b953804786f75"
            ],
            "layout": "IPY_MODEL_6302b4bd43ed4e0e8306e205781c4ec4"
          }
        },
        "311dd6a1111a42289a0da3d716dc5ee7": {
          "model_module": "@jupyter-widgets/controls",
          "model_module_version": "1.5.0",
          "model_name": "HTMLModel",
          "state": {
            "_dom_classes": [],
            "_model_module": "@jupyter-widgets/controls",
            "_model_module_version": "1.5.0",
            "_model_name": "HTMLModel",
            "_view_count": null,
            "_view_module": "@jupyter-widgets/controls",
            "_view_module_version": "1.5.0",
            "_view_name": "HTMLView",
            "description": "",
            "description_tooltip": null,
            "layout": "IPY_MODEL_a88662e2ace842a0afb26f7ddf74fcb8",
            "placeholder": "​",
            "style": "IPY_MODEL_b99fa8810fa04901828fb388be7cfde2",
            "value": "100%"
          }
        },
        "37f2ca01ad074d43a0b69219a0a607fe": {
          "model_module": "@jupyter-widgets/controls",
          "model_module_version": "1.5.0",
          "model_name": "HTMLModel",
          "state": {
            "_dom_classes": [],
            "_model_module": "@jupyter-widgets/controls",
            "_model_module_version": "1.5.0",
            "_model_name": "HTMLModel",
            "_view_count": null,
            "_view_module": "@jupyter-widgets/controls",
            "_view_module_version": "1.5.0",
            "_view_name": "HTMLView",
            "description": "",
            "description_tooltip": null,
            "layout": "IPY_MODEL_1c3210895a7b419cbe1895a02570cad6",
            "placeholder": "​",
            "style": "IPY_MODEL_5c3b61ff2c124889a8137e2144636948",
            "value": "100%"
          }
        },
        "3e1e33121aa543e6a9e2459ab1597b31": {
          "model_module": "@jupyter-widgets/controls",
          "model_module_version": "1.5.0",
          "model_name": "FloatProgressModel",
          "state": {
            "_dom_classes": [],
            "_model_module": "@jupyter-widgets/controls",
            "_model_module_version": "1.5.0",
            "_model_name": "FloatProgressModel",
            "_view_count": null,
            "_view_module": "@jupyter-widgets/controls",
            "_view_module_version": "1.5.0",
            "_view_name": "ProgressView",
            "bar_style": "success",
            "description": "",
            "description_tooltip": null,
            "layout": "IPY_MODEL_1bd0fb1e0d3f4cf3af72dcd375b4b1f4",
            "max": 1648877,
            "min": 0,
            "orientation": "horizontal",
            "style": "IPY_MODEL_a5023849ef1543e2849c5aa725234f3b",
            "value": 1648877
          }
        },
        "3ff9a68c455541d0933889f679f2ae6d": {
          "model_module": "@jupyter-widgets/controls",
          "model_module_version": "1.5.0",
          "model_name": "HBoxModel",
          "state": {
            "_dom_classes": [],
            "_model_module": "@jupyter-widgets/controls",
            "_model_module_version": "1.5.0",
            "_model_name": "HBoxModel",
            "_view_count": null,
            "_view_module": "@jupyter-widgets/controls",
            "_view_module_version": "1.5.0",
            "_view_name": "HBoxView",
            "box_style": "",
            "children": [
              "IPY_MODEL_1d7d840b26b44c41bde8efd0f1fdd06b",
              "IPY_MODEL_1e7a6f5b22fb4647a030f8d3c435907b",
              "IPY_MODEL_647df1a62b5342ba850c1a85767514eb"
            ],
            "layout": "IPY_MODEL_92a1c8a6bf8648fd9e89d542e3c72dc5"
          }
        },
        "47d45e9d640c4ccf94a4646e612c7b13": {
          "model_module": "@jupyter-widgets/base",
          "model_module_version": "1.2.0",
          "model_name": "LayoutModel",
          "state": {
            "_model_module": "@jupyter-widgets/base",
            "_model_module_version": "1.2.0",
            "_model_name": "LayoutModel",
            "_view_count": null,
            "_view_module": "@jupyter-widgets/base",
            "_view_module_version": "1.2.0",
            "_view_name": "LayoutView",
            "align_content": null,
            "align_items": null,
            "align_self": null,
            "border": null,
            "bottom": null,
            "display": null,
            "flex": null,
            "flex_flow": null,
            "grid_area": null,
            "grid_auto_columns": null,
            "grid_auto_flow": null,
            "grid_auto_rows": null,
            "grid_column": null,
            "grid_gap": null,
            "grid_row": null,
            "grid_template_areas": null,
            "grid_template_columns": null,
            "grid_template_rows": null,
            "height": null,
            "justify_content": null,
            "justify_items": null,
            "left": null,
            "margin": null,
            "max_height": null,
            "max_width": null,
            "min_height": null,
            "min_width": null,
            "object_fit": null,
            "object_position": null,
            "order": null,
            "overflow": null,
            "overflow_x": null,
            "overflow_y": null,
            "padding": null,
            "right": null,
            "top": null,
            "visibility": null,
            "width": null
          }
        },
        "48cbe2f916cb40c287313f9b49da8c68": {
          "model_module": "@jupyter-widgets/base",
          "model_module_version": "1.2.0",
          "model_name": "LayoutModel",
          "state": {
            "_model_module": "@jupyter-widgets/base",
            "_model_module_version": "1.2.0",
            "_model_name": "LayoutModel",
            "_view_count": null,
            "_view_module": "@jupyter-widgets/base",
            "_view_module_version": "1.2.0",
            "_view_name": "LayoutView",
            "align_content": null,
            "align_items": null,
            "align_self": null,
            "border": null,
            "bottom": null,
            "display": null,
            "flex": null,
            "flex_flow": null,
            "grid_area": null,
            "grid_auto_columns": null,
            "grid_auto_flow": null,
            "grid_auto_rows": null,
            "grid_column": null,
            "grid_gap": null,
            "grid_row": null,
            "grid_template_areas": null,
            "grid_template_columns": null,
            "grid_template_rows": null,
            "height": null,
            "justify_content": null,
            "justify_items": null,
            "left": null,
            "margin": null,
            "max_height": null,
            "max_width": null,
            "min_height": null,
            "min_width": null,
            "object_fit": null,
            "object_position": null,
            "order": null,
            "overflow": null,
            "overflow_x": null,
            "overflow_y": null,
            "padding": null,
            "right": null,
            "top": null,
            "visibility": null,
            "width": null
          }
        },
        "53566454831a468a80b8a3f72ed7cc2d": {
          "model_module": "@jupyter-widgets/base",
          "model_module_version": "1.2.0",
          "model_name": "LayoutModel",
          "state": {
            "_model_module": "@jupyter-widgets/base",
            "_model_module_version": "1.2.0",
            "_model_name": "LayoutModel",
            "_view_count": null,
            "_view_module": "@jupyter-widgets/base",
            "_view_module_version": "1.2.0",
            "_view_name": "LayoutView",
            "align_content": null,
            "align_items": null,
            "align_self": null,
            "border": null,
            "bottom": null,
            "display": null,
            "flex": null,
            "flex_flow": null,
            "grid_area": null,
            "grid_auto_columns": null,
            "grid_auto_flow": null,
            "grid_auto_rows": null,
            "grid_column": null,
            "grid_gap": null,
            "grid_row": null,
            "grid_template_areas": null,
            "grid_template_columns": null,
            "grid_template_rows": null,
            "height": null,
            "justify_content": null,
            "justify_items": null,
            "left": null,
            "margin": null,
            "max_height": null,
            "max_width": null,
            "min_height": null,
            "min_width": null,
            "object_fit": null,
            "object_position": null,
            "order": null,
            "overflow": null,
            "overflow_x": null,
            "overflow_y": null,
            "padding": null,
            "right": null,
            "top": null,
            "visibility": null,
            "width": null
          }
        },
        "54fe58a837a34f52b7be33ef8add6e1e": {
          "model_module": "@jupyter-widgets/base",
          "model_module_version": "1.2.0",
          "model_name": "LayoutModel",
          "state": {
            "_model_module": "@jupyter-widgets/base",
            "_model_module_version": "1.2.0",
            "_model_name": "LayoutModel",
            "_view_count": null,
            "_view_module": "@jupyter-widgets/base",
            "_view_module_version": "1.2.0",
            "_view_name": "LayoutView",
            "align_content": null,
            "align_items": null,
            "align_self": null,
            "border": null,
            "bottom": null,
            "display": null,
            "flex": null,
            "flex_flow": null,
            "grid_area": null,
            "grid_auto_columns": null,
            "grid_auto_flow": null,
            "grid_auto_rows": null,
            "grid_column": null,
            "grid_gap": null,
            "grid_row": null,
            "grid_template_areas": null,
            "grid_template_columns": null,
            "grid_template_rows": null,
            "height": null,
            "justify_content": null,
            "justify_items": null,
            "left": null,
            "margin": null,
            "max_height": null,
            "max_width": null,
            "min_height": null,
            "min_width": null,
            "object_fit": null,
            "object_position": null,
            "order": null,
            "overflow": null,
            "overflow_x": null,
            "overflow_y": null,
            "padding": null,
            "right": null,
            "top": null,
            "visibility": null,
            "width": null
          }
        },
        "56d2785674b54726aa383a7777e29279": {
          "model_module": "@jupyter-widgets/controls",
          "model_module_version": "1.5.0",
          "model_name": "DescriptionStyleModel",
          "state": {
            "_model_module": "@jupyter-widgets/controls",
            "_model_module_version": "1.5.0",
            "_model_name": "DescriptionStyleModel",
            "_view_count": null,
            "_view_module": "@jupyter-widgets/base",
            "_view_module_version": "1.2.0",
            "_view_name": "StyleView",
            "description_width": ""
          }
        },
        "5c3b61ff2c124889a8137e2144636948": {
          "model_module": "@jupyter-widgets/controls",
          "model_module_version": "1.5.0",
          "model_name": "DescriptionStyleModel",
          "state": {
            "_model_module": "@jupyter-widgets/controls",
            "_model_module_version": "1.5.0",
            "_model_name": "DescriptionStyleModel",
            "_view_count": null,
            "_view_module": "@jupyter-widgets/base",
            "_view_module_version": "1.2.0",
            "_view_name": "StyleView",
            "description_width": ""
          }
        },
        "5c65ae5fd54c4e679f5fc553f7241242": {
          "model_module": "@jupyter-widgets/controls",
          "model_module_version": "1.5.0",
          "model_name": "HTMLModel",
          "state": {
            "_dom_classes": [],
            "_model_module": "@jupyter-widgets/controls",
            "_model_module_version": "1.5.0",
            "_model_name": "HTMLModel",
            "_view_count": null,
            "_view_module": "@jupyter-widgets/controls",
            "_view_module_version": "1.5.0",
            "_view_name": "HTMLView",
            "description": "",
            "description_tooltip": null,
            "layout": "IPY_MODEL_195501c7583f4bbeb8b2a83c5a25e4ee",
            "placeholder": "​",
            "style": "IPY_MODEL_c1dee444d8234c20905bae75b5798be7",
            "value": " 4542/4542 [00:00&lt;00:00, 50882.69it/s]"
          }
        },
        "5e85dd5f0f0a43fd99f0e0e2081a70b0": {
          "model_module": "@jupyter-widgets/base",
          "model_module_version": "1.2.0",
          "model_name": "LayoutModel",
          "state": {
            "_model_module": "@jupyter-widgets/base",
            "_model_module_version": "1.2.0",
            "_model_name": "LayoutModel",
            "_view_count": null,
            "_view_module": "@jupyter-widgets/base",
            "_view_module_version": "1.2.0",
            "_view_name": "LayoutView",
            "align_content": null,
            "align_items": null,
            "align_self": null,
            "border": null,
            "bottom": null,
            "display": null,
            "flex": null,
            "flex_flow": null,
            "grid_area": null,
            "grid_auto_columns": null,
            "grid_auto_flow": null,
            "grid_auto_rows": null,
            "grid_column": null,
            "grid_gap": null,
            "grid_row": null,
            "grid_template_areas": null,
            "grid_template_columns": null,
            "grid_template_rows": null,
            "height": null,
            "justify_content": null,
            "justify_items": null,
            "left": null,
            "margin": null,
            "max_height": null,
            "max_width": null,
            "min_height": null,
            "min_width": null,
            "object_fit": null,
            "object_position": null,
            "order": null,
            "overflow": null,
            "overflow_x": null,
            "overflow_y": null,
            "padding": null,
            "right": null,
            "top": null,
            "visibility": null,
            "width": null
          }
        },
        "61dc23ac74b14b97b3ff67e5fd3a9089": {
          "model_module": "@jupyter-widgets/base",
          "model_module_version": "1.2.0",
          "model_name": "LayoutModel",
          "state": {
            "_model_module": "@jupyter-widgets/base",
            "_model_module_version": "1.2.0",
            "_model_name": "LayoutModel",
            "_view_count": null,
            "_view_module": "@jupyter-widgets/base",
            "_view_module_version": "1.2.0",
            "_view_name": "LayoutView",
            "align_content": null,
            "align_items": null,
            "align_self": null,
            "border": null,
            "bottom": null,
            "display": null,
            "flex": null,
            "flex_flow": null,
            "grid_area": null,
            "grid_auto_columns": null,
            "grid_auto_flow": null,
            "grid_auto_rows": null,
            "grid_column": null,
            "grid_gap": null,
            "grid_row": null,
            "grid_template_areas": null,
            "grid_template_columns": null,
            "grid_template_rows": null,
            "height": null,
            "justify_content": null,
            "justify_items": null,
            "left": null,
            "margin": null,
            "max_height": null,
            "max_width": null,
            "min_height": null,
            "min_width": null,
            "object_fit": null,
            "object_position": null,
            "order": null,
            "overflow": null,
            "overflow_x": null,
            "overflow_y": null,
            "padding": null,
            "right": null,
            "top": null,
            "visibility": null,
            "width": null
          }
        },
        "62be9205c5044f1ab36b953804786f75": {
          "model_module": "@jupyter-widgets/controls",
          "model_module_version": "1.5.0",
          "model_name": "HTMLModel",
          "state": {
            "_dom_classes": [],
            "_model_module": "@jupyter-widgets/controls",
            "_model_module_version": "1.5.0",
            "_model_name": "HTMLModel",
            "_view_count": null,
            "_view_module": "@jupyter-widgets/controls",
            "_view_module_version": "1.5.0",
            "_view_name": "HTMLView",
            "description": "",
            "description_tooltip": null,
            "layout": "IPY_MODEL_47d45e9d640c4ccf94a4646e612c7b13",
            "placeholder": "​",
            "style": "IPY_MODEL_f6cdb1053a5e48bd8b5205dfb2985f38",
            "value": " 1648877/1648877 [00:00&lt;00:00, 10948594.14it/s]"
          }
        },
        "6302b4bd43ed4e0e8306e205781c4ec4": {
          "model_module": "@jupyter-widgets/base",
          "model_module_version": "1.2.0",
          "model_name": "LayoutModel",
          "state": {
            "_model_module": "@jupyter-widgets/base",
            "_model_module_version": "1.2.0",
            "_model_name": "LayoutModel",
            "_view_count": null,
            "_view_module": "@jupyter-widgets/base",
            "_view_module_version": "1.2.0",
            "_view_name": "LayoutView",
            "align_content": null,
            "align_items": null,
            "align_self": null,
            "border": null,
            "bottom": null,
            "display": null,
            "flex": null,
            "flex_flow": null,
            "grid_area": null,
            "grid_auto_columns": null,
            "grid_auto_flow": null,
            "grid_auto_rows": null,
            "grid_column": null,
            "grid_gap": null,
            "grid_row": null,
            "grid_template_areas": null,
            "grid_template_columns": null,
            "grid_template_rows": null,
            "height": null,
            "justify_content": null,
            "justify_items": null,
            "left": null,
            "margin": null,
            "max_height": null,
            "max_width": null,
            "min_height": null,
            "min_width": null,
            "object_fit": null,
            "object_position": null,
            "order": null,
            "overflow": null,
            "overflow_x": null,
            "overflow_y": null,
            "padding": null,
            "right": null,
            "top": null,
            "visibility": null,
            "width": null
          }
        },
        "647df1a62b5342ba850c1a85767514eb": {
          "model_module": "@jupyter-widgets/controls",
          "model_module_version": "1.5.0",
          "model_name": "HTMLModel",
          "state": {
            "_dom_classes": [],
            "_model_module": "@jupyter-widgets/controls",
            "_model_module_version": "1.5.0",
            "_model_name": "HTMLModel",
            "_view_count": null,
            "_view_module": "@jupyter-widgets/controls",
            "_view_module_version": "1.5.0",
            "_view_name": "HTMLView",
            "description": "",
            "description_tooltip": null,
            "layout": "IPY_MODEL_61dc23ac74b14b97b3ff67e5fd3a9089",
            "placeholder": "​",
            "style": "IPY_MODEL_cb9eaf4da39a4c98a85ba9dd64c9864f",
            "value": " 28881/28881 [00:00&lt;00:00, 907777.86it/s]"
          }
        },
        "7919c584d7fc44aaac1697607ad94422": {
          "model_module": "@jupyter-widgets/controls",
          "model_module_version": "1.5.0",
          "model_name": "HBoxModel",
          "state": {
            "_dom_classes": [],
            "_model_module": "@jupyter-widgets/controls",
            "_model_module_version": "1.5.0",
            "_model_name": "HBoxModel",
            "_view_count": null,
            "_view_module": "@jupyter-widgets/controls",
            "_view_module_version": "1.5.0",
            "_view_name": "HBoxView",
            "box_style": "",
            "children": [
              "IPY_MODEL_b861a665ee4545b3a1d5064c322b4d77",
              "IPY_MODEL_1c4305709b4d43fba831f5be4f94916e",
              "IPY_MODEL_5c65ae5fd54c4e679f5fc553f7241242"
            ],
            "layout": "IPY_MODEL_53566454831a468a80b8a3f72ed7cc2d"
          }
        },
        "92a1c8a6bf8648fd9e89d542e3c72dc5": {
          "model_module": "@jupyter-widgets/base",
          "model_module_version": "1.2.0",
          "model_name": "LayoutModel",
          "state": {
            "_model_module": "@jupyter-widgets/base",
            "_model_module_version": "1.2.0",
            "_model_name": "LayoutModel",
            "_view_count": null,
            "_view_module": "@jupyter-widgets/base",
            "_view_module_version": "1.2.0",
            "_view_name": "LayoutView",
            "align_content": null,
            "align_items": null,
            "align_self": null,
            "border": null,
            "bottom": null,
            "display": null,
            "flex": null,
            "flex_flow": null,
            "grid_area": null,
            "grid_auto_columns": null,
            "grid_auto_flow": null,
            "grid_auto_rows": null,
            "grid_column": null,
            "grid_gap": null,
            "grid_row": null,
            "grid_template_areas": null,
            "grid_template_columns": null,
            "grid_template_rows": null,
            "height": null,
            "justify_content": null,
            "justify_items": null,
            "left": null,
            "margin": null,
            "max_height": null,
            "max_width": null,
            "min_height": null,
            "min_width": null,
            "object_fit": null,
            "object_position": null,
            "order": null,
            "overflow": null,
            "overflow_x": null,
            "overflow_y": null,
            "padding": null,
            "right": null,
            "top": null,
            "visibility": null,
            "width": null
          }
        },
        "9986d201e55e4f3da6cfe0cacdce9217": {
          "model_module": "@jupyter-widgets/base",
          "model_module_version": "1.2.0",
          "model_name": "LayoutModel",
          "state": {
            "_model_module": "@jupyter-widgets/base",
            "_model_module_version": "1.2.0",
            "_model_name": "LayoutModel",
            "_view_count": null,
            "_view_module": "@jupyter-widgets/base",
            "_view_module_version": "1.2.0",
            "_view_name": "LayoutView",
            "align_content": null,
            "align_items": null,
            "align_self": null,
            "border": null,
            "bottom": null,
            "display": null,
            "flex": null,
            "flex_flow": null,
            "grid_area": null,
            "grid_auto_columns": null,
            "grid_auto_flow": null,
            "grid_auto_rows": null,
            "grid_column": null,
            "grid_gap": null,
            "grid_row": null,
            "grid_template_areas": null,
            "grid_template_columns": null,
            "grid_template_rows": null,
            "height": null,
            "justify_content": null,
            "justify_items": null,
            "left": null,
            "margin": null,
            "max_height": null,
            "max_width": null,
            "min_height": null,
            "min_width": null,
            "object_fit": null,
            "object_position": null,
            "order": null,
            "overflow": null,
            "overflow_x": null,
            "overflow_y": null,
            "padding": null,
            "right": null,
            "top": null,
            "visibility": null,
            "width": null
          }
        },
        "a0d9306e336343b5824f923afd367c92": {
          "model_module": "@jupyter-widgets/controls",
          "model_module_version": "1.5.0",
          "model_name": "ProgressStyleModel",
          "state": {
            "_model_module": "@jupyter-widgets/controls",
            "_model_module_version": "1.5.0",
            "_model_name": "ProgressStyleModel",
            "_view_count": null,
            "_view_module": "@jupyter-widgets/base",
            "_view_module_version": "1.2.0",
            "_view_name": "StyleView",
            "bar_color": null,
            "description_width": ""
          }
        },
        "a5023849ef1543e2849c5aa725234f3b": {
          "model_module": "@jupyter-widgets/controls",
          "model_module_version": "1.5.0",
          "model_name": "ProgressStyleModel",
          "state": {
            "_model_module": "@jupyter-widgets/controls",
            "_model_module_version": "1.5.0",
            "_model_name": "ProgressStyleModel",
            "_view_count": null,
            "_view_module": "@jupyter-widgets/base",
            "_view_module_version": "1.2.0",
            "_view_name": "StyleView",
            "bar_color": null,
            "description_width": ""
          }
        },
        "a88662e2ace842a0afb26f7ddf74fcb8": {
          "model_module": "@jupyter-widgets/base",
          "model_module_version": "1.2.0",
          "model_name": "LayoutModel",
          "state": {
            "_model_module": "@jupyter-widgets/base",
            "_model_module_version": "1.2.0",
            "_model_name": "LayoutModel",
            "_view_count": null,
            "_view_module": "@jupyter-widgets/base",
            "_view_module_version": "1.2.0",
            "_view_name": "LayoutView",
            "align_content": null,
            "align_items": null,
            "align_self": null,
            "border": null,
            "bottom": null,
            "display": null,
            "flex": null,
            "flex_flow": null,
            "grid_area": null,
            "grid_auto_columns": null,
            "grid_auto_flow": null,
            "grid_auto_rows": null,
            "grid_column": null,
            "grid_gap": null,
            "grid_row": null,
            "grid_template_areas": null,
            "grid_template_columns": null,
            "grid_template_rows": null,
            "height": null,
            "justify_content": null,
            "justify_items": null,
            "left": null,
            "margin": null,
            "max_height": null,
            "max_width": null,
            "min_height": null,
            "min_width": null,
            "object_fit": null,
            "object_position": null,
            "order": null,
            "overflow": null,
            "overflow_x": null,
            "overflow_y": null,
            "padding": null,
            "right": null,
            "top": null,
            "visibility": null,
            "width": null
          }
        },
        "b861a665ee4545b3a1d5064c322b4d77": {
          "model_module": "@jupyter-widgets/controls",
          "model_module_version": "1.5.0",
          "model_name": "HTMLModel",
          "state": {
            "_dom_classes": [],
            "_model_module": "@jupyter-widgets/controls",
            "_model_module_version": "1.5.0",
            "_model_name": "HTMLModel",
            "_view_count": null,
            "_view_module": "@jupyter-widgets/controls",
            "_view_module_version": "1.5.0",
            "_view_name": "HTMLView",
            "description": "",
            "description_tooltip": null,
            "layout": "IPY_MODEL_0c69d6348ad74810b3bbd1e8279bf908",
            "placeholder": "​",
            "style": "IPY_MODEL_56d2785674b54726aa383a7777e29279",
            "value": "100%"
          }
        },
        "b99fa8810fa04901828fb388be7cfde2": {
          "model_module": "@jupyter-widgets/controls",
          "model_module_version": "1.5.0",
          "model_name": "DescriptionStyleModel",
          "state": {
            "_model_module": "@jupyter-widgets/controls",
            "_model_module_version": "1.5.0",
            "_model_name": "DescriptionStyleModel",
            "_view_count": null,
            "_view_module": "@jupyter-widgets/base",
            "_view_module_version": "1.2.0",
            "_view_name": "StyleView",
            "description_width": ""
          }
        },
        "c055248d38254ffc89d324fbd8163786": {
          "model_module": "@jupyter-widgets/base",
          "model_module_version": "1.2.0",
          "model_name": "LayoutModel",
          "state": {
            "_model_module": "@jupyter-widgets/base",
            "_model_module_version": "1.2.0",
            "_model_name": "LayoutModel",
            "_view_count": null,
            "_view_module": "@jupyter-widgets/base",
            "_view_module_version": "1.2.0",
            "_view_name": "LayoutView",
            "align_content": null,
            "align_items": null,
            "align_self": null,
            "border": null,
            "bottom": null,
            "display": null,
            "flex": null,
            "flex_flow": null,
            "grid_area": null,
            "grid_auto_columns": null,
            "grid_auto_flow": null,
            "grid_auto_rows": null,
            "grid_column": null,
            "grid_gap": null,
            "grid_row": null,
            "grid_template_areas": null,
            "grid_template_columns": null,
            "grid_template_rows": null,
            "height": null,
            "justify_content": null,
            "justify_items": null,
            "left": null,
            "margin": null,
            "max_height": null,
            "max_width": null,
            "min_height": null,
            "min_width": null,
            "object_fit": null,
            "object_position": null,
            "order": null,
            "overflow": null,
            "overflow_x": null,
            "overflow_y": null,
            "padding": null,
            "right": null,
            "top": null,
            "visibility": null,
            "width": null
          }
        },
        "c1dee444d8234c20905bae75b5798be7": {
          "model_module": "@jupyter-widgets/controls",
          "model_module_version": "1.5.0",
          "model_name": "DescriptionStyleModel",
          "state": {
            "_model_module": "@jupyter-widgets/controls",
            "_model_module_version": "1.5.0",
            "_model_name": "DescriptionStyleModel",
            "_view_count": null,
            "_view_module": "@jupyter-widgets/base",
            "_view_module_version": "1.2.0",
            "_view_name": "StyleView",
            "description_width": ""
          }
        },
        "cb9eaf4da39a4c98a85ba9dd64c9864f": {
          "model_module": "@jupyter-widgets/controls",
          "model_module_version": "1.5.0",
          "model_name": "DescriptionStyleModel",
          "state": {
            "_model_module": "@jupyter-widgets/controls",
            "_model_module_version": "1.5.0",
            "_model_name": "DescriptionStyleModel",
            "_view_count": null,
            "_view_module": "@jupyter-widgets/base",
            "_view_module_version": "1.2.0",
            "_view_name": "StyleView",
            "description_width": ""
          }
        },
        "cc4f40498862417da13f45f9f85b4f58": {
          "model_module": "@jupyter-widgets/controls",
          "model_module_version": "1.5.0",
          "model_name": "HBoxModel",
          "state": {
            "_dom_classes": [],
            "_model_module": "@jupyter-widgets/controls",
            "_model_module_version": "1.5.0",
            "_model_name": "HBoxModel",
            "_view_count": null,
            "_view_module": "@jupyter-widgets/controls",
            "_view_module_version": "1.5.0",
            "_view_name": "HBoxView",
            "box_style": "",
            "children": [
              "IPY_MODEL_37f2ca01ad074d43a0b69219a0a607fe",
              "IPY_MODEL_ecbc74fef6b142e0ae581cb1b3907423",
              "IPY_MODEL_f508d33806cf4cda97ab652e31521d3c"
            ],
            "layout": "IPY_MODEL_c055248d38254ffc89d324fbd8163786"
          }
        },
        "e26f87619642437fa3e6d9d22210e0ba": {
          "model_module": "@jupyter-widgets/base",
          "model_module_version": "1.2.0",
          "model_name": "LayoutModel",
          "state": {
            "_model_module": "@jupyter-widgets/base",
            "_model_module_version": "1.2.0",
            "_model_name": "LayoutModel",
            "_view_count": null,
            "_view_module": "@jupyter-widgets/base",
            "_view_module_version": "1.2.0",
            "_view_name": "LayoutView",
            "align_content": null,
            "align_items": null,
            "align_self": null,
            "border": null,
            "bottom": null,
            "display": null,
            "flex": null,
            "flex_flow": null,
            "grid_area": null,
            "grid_auto_columns": null,
            "grid_auto_flow": null,
            "grid_auto_rows": null,
            "grid_column": null,
            "grid_gap": null,
            "grid_row": null,
            "grid_template_areas": null,
            "grid_template_columns": null,
            "grid_template_rows": null,
            "height": null,
            "justify_content": null,
            "justify_items": null,
            "left": null,
            "margin": null,
            "max_height": null,
            "max_width": null,
            "min_height": null,
            "min_width": null,
            "object_fit": null,
            "object_position": null,
            "order": null,
            "overflow": null,
            "overflow_x": null,
            "overflow_y": null,
            "padding": null,
            "right": null,
            "top": null,
            "visibility": null,
            "width": null
          }
        },
        "ecbc74fef6b142e0ae581cb1b3907423": {
          "model_module": "@jupyter-widgets/controls",
          "model_module_version": "1.5.0",
          "model_name": "FloatProgressModel",
          "state": {
            "_dom_classes": [],
            "_model_module": "@jupyter-widgets/controls",
            "_model_module_version": "1.5.0",
            "_model_name": "FloatProgressModel",
            "_view_count": null,
            "_view_module": "@jupyter-widgets/controls",
            "_view_module_version": "1.5.0",
            "_view_name": "ProgressView",
            "bar_style": "success",
            "description": "",
            "description_tooltip": null,
            "layout": "IPY_MODEL_5e85dd5f0f0a43fd99f0e0e2081a70b0",
            "max": 9912422,
            "min": 0,
            "orientation": "horizontal",
            "style": "IPY_MODEL_f7c3ee474ef54da292fb123c5352826a",
            "value": 9912422
          }
        },
        "f508d33806cf4cda97ab652e31521d3c": {
          "model_module": "@jupyter-widgets/controls",
          "model_module_version": "1.5.0",
          "model_name": "HTMLModel",
          "state": {
            "_dom_classes": [],
            "_model_module": "@jupyter-widgets/controls",
            "_model_module_version": "1.5.0",
            "_model_name": "HTMLModel",
            "_view_count": null,
            "_view_module": "@jupyter-widgets/controls",
            "_view_module_version": "1.5.0",
            "_view_name": "HTMLView",
            "description": "",
            "description_tooltip": null,
            "layout": "IPY_MODEL_48cbe2f916cb40c287313f9b49da8c68",
            "placeholder": "​",
            "style": "IPY_MODEL_f6cd661fef0a4377946b8a10431374b9",
            "value": " 9912422/9912422 [00:00&lt;00:00, 18929816.49it/s]"
          }
        },
        "f6cd661fef0a4377946b8a10431374b9": {
          "model_module": "@jupyter-widgets/controls",
          "model_module_version": "1.5.0",
          "model_name": "DescriptionStyleModel",
          "state": {
            "_model_module": "@jupyter-widgets/controls",
            "_model_module_version": "1.5.0",
            "_model_name": "DescriptionStyleModel",
            "_view_count": null,
            "_view_module": "@jupyter-widgets/base",
            "_view_module_version": "1.2.0",
            "_view_name": "StyleView",
            "description_width": ""
          }
        },
        "f6cdb1053a5e48bd8b5205dfb2985f38": {
          "model_module": "@jupyter-widgets/controls",
          "model_module_version": "1.5.0",
          "model_name": "DescriptionStyleModel",
          "state": {
            "_model_module": "@jupyter-widgets/controls",
            "_model_module_version": "1.5.0",
            "_model_name": "DescriptionStyleModel",
            "_view_count": null,
            "_view_module": "@jupyter-widgets/base",
            "_view_module_version": "1.2.0",
            "_view_name": "StyleView",
            "description_width": ""
          }
        },
        "f7c3ee474ef54da292fb123c5352826a": {
          "model_module": "@jupyter-widgets/controls",
          "model_module_version": "1.5.0",
          "model_name": "ProgressStyleModel",
          "state": {
            "_model_module": "@jupyter-widgets/controls",
            "_model_module_version": "1.5.0",
            "_model_name": "ProgressStyleModel",
            "_view_count": null,
            "_view_module": "@jupyter-widgets/base",
            "_view_module_version": "1.2.0",
            "_view_name": "StyleView",
            "bar_color": null,
            "description_width": ""
          }
        },
        "fed9ca0849844876966b34fa35297035": {
          "model_module": "@jupyter-widgets/controls",
          "model_module_version": "1.5.0",
          "model_name": "ProgressStyleModel",
          "state": {
            "_model_module": "@jupyter-widgets/controls",
            "_model_module_version": "1.5.0",
            "_model_name": "ProgressStyleModel",
            "_view_count": null,
            "_view_module": "@jupyter-widgets/base",
            "_view_module_version": "1.2.0",
            "_view_name": "StyleView",
            "bar_color": null,
            "description_width": ""
          }
        }
      }
    }
  },
  "nbformat": 4,
  "nbformat_minor": 0
}